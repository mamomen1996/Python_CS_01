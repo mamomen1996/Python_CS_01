{
 "cells": [
  {
   "cell_type": "markdown",
   "id": "edf74476",
   "metadata": {},
   "source": [
    "# Case-Study Title: Simple Linear Regression Analysis\n",
    "###### Data Analysis methodology: CRISP-DM\n",
    "###### Dataset: Toyota Used Cars certified features and dealing (sold) prices in Europe\n",
    "###### Case Goal: Price Recommendation Intelligence System for Toyota Used Cars in Europe Trading Platform"
   ]
  },
  {
   "cell_type": "markdown",
   "id": "41d5f553",
   "metadata": {},
   "source": [
    "# Required Libraries"
   ]
  },
  {
   "cell_type": "code",
   "execution_count": 1,
   "id": "31adcdce",
   "metadata": {},
   "outputs": [],
   "source": [
    "import numpy as np\n",
    "import pandas as pd\n",
    "import matplotlib.pyplot as plt\n",
    "import seaborn as sns\n",
    "import statsmodels.api as sm"
   ]
  },
  {
   "cell_type": "markdown",
   "id": "228c399b",
   "metadata": {},
   "source": [
    "# Read Data from File"
   ]
  },
  {
   "cell_type": "code",
   "execution_count": 2,
   "id": "1a25b996",
   "metadata": {},
   "outputs": [],
   "source": [
    "data = pd.read_csv('CS_01.csv')"
   ]
  },
  {
   "cell_type": "code",
   "execution_count": 3,
   "id": "86326b25",
   "metadata": {},
   "outputs": [
    {
     "data": {
      "text/plain": [
       "(1325, 10)"
      ]
     },
     "execution_count": 3,
     "metadata": {},
     "output_type": "execute_result"
    }
   ],
   "source": [
    "data.shape  # 1325 records, 10 variables"
   ]
  },
  {
   "cell_type": "markdown",
   "id": "6c58445b",
   "metadata": {},
   "source": [
    "# Business Understanding\n",
    " * know business process and issues\n",
    " * know the context of the problem\n",
    " * know the order of numbers in the business"
   ]
  },
  {
   "cell_type": "markdown",
   "id": "1f6fb751",
   "metadata": {},
   "source": [
    "# Data Understanding\n",
    "## Data Inspection (Data Understanding from Free Perspective)\n",
    "### Dataset variables definition"
   ]
  },
  {
   "cell_type": "code",
   "execution_count": 4,
   "id": "e7659db3",
   "metadata": {},
   "outputs": [
    {
     "data": {
      "text/plain": [
       "Index(['Price', 'Age', 'KM', 'FuelType', 'HP', 'MetColor', 'Automatic', 'CC',\n",
       "       'Doors', 'Weight'],\n",
       "      dtype='object')"
      ]
     },
     "execution_count": 4,
     "metadata": {},
     "output_type": "execute_result"
    }
   ],
   "source": [
    "data.columns"
   ]
  },
  {
   "cell_type": "markdown",
   "id": "7918fd32",
   "metadata": {},
   "source": [
    "* **Price**         : Sales (sold) price in Euro      -> what we want to predict\n",
    "* **Age**           : Age of a used car in month \n",
    "* **KM**            : Kilometerage usage\n",
    "* **FuelTyp**       : Petrol, Diesel, CNG             -> Categorical (factor)\n",
    "* **HP**            : Horse power     \n",
    "* **MetColor**      : 1 : if Metallic color, 0 : Not  -> Categorical (factor)\n",
    "* **Automatic**     : 1 : if Automatic, 0 : Not       -> Categorical (factor)\n",
    "* **CC**            : Engine displacement in cc\n",
    "* **Doors**         : # of doors                      -> Categorical (factor)\n",
    "* **Weight**        : Weight in Kilogram"
   ]
  },
  {
   "cell_type": "markdown",
   "id": "8021ff55",
   "metadata": {},
   "source": [
    "## Data Exploring (Data Understanding from Statistical Perspective)\n",
    "### Overview of Dataframe"
   ]
  },
  {
   "cell_type": "code",
   "execution_count": 5,
   "id": "ccd9f147",
   "metadata": {},
   "outputs": [
    {
     "data": {
      "text/plain": [
       "pandas.core.frame.DataFrame"
      ]
     },
     "execution_count": 5,
     "metadata": {},
     "output_type": "execute_result"
    }
   ],
   "source": [
    "type(data)"
   ]
  },
  {
   "cell_type": "code",
   "execution_count": 6,
   "id": "2c71e6e0",
   "metadata": {},
   "outputs": [
    {
     "data": {
      "text/html": [
       "<div>\n",
       "<style scoped>\n",
       "    .dataframe tbody tr th:only-of-type {\n",
       "        vertical-align: middle;\n",
       "    }\n",
       "\n",
       "    .dataframe tbody tr th {\n",
       "        vertical-align: top;\n",
       "    }\n",
       "\n",
       "    .dataframe thead th {\n",
       "        text-align: right;\n",
       "    }\n",
       "</style>\n",
       "<table border=\"1\" class=\"dataframe\">\n",
       "  <thead>\n",
       "    <tr style=\"text-align: right;\">\n",
       "      <th></th>\n",
       "      <th>Price</th>\n",
       "      <th>Age</th>\n",
       "      <th>KM</th>\n",
       "      <th>FuelType</th>\n",
       "      <th>HP</th>\n",
       "      <th>MetColor</th>\n",
       "      <th>Automatic</th>\n",
       "      <th>CC</th>\n",
       "      <th>Doors</th>\n",
       "      <th>Weight</th>\n",
       "    </tr>\n",
       "  </thead>\n",
       "  <tbody>\n",
       "    <tr>\n",
       "      <th>0</th>\n",
       "      <td>13500</td>\n",
       "      <td>23</td>\n",
       "      <td>46986</td>\n",
       "      <td>Diesel</td>\n",
       "      <td>90</td>\n",
       "      <td>1</td>\n",
       "      <td>0</td>\n",
       "      <td>2000</td>\n",
       "      <td>3</td>\n",
       "      <td>1165</td>\n",
       "    </tr>\n",
       "    <tr>\n",
       "      <th>1</th>\n",
       "      <td>13750</td>\n",
       "      <td>23</td>\n",
       "      <td>72937</td>\n",
       "      <td>Diesel</td>\n",
       "      <td>90</td>\n",
       "      <td>1</td>\n",
       "      <td>0</td>\n",
       "      <td>2000</td>\n",
       "      <td>3</td>\n",
       "      <td>1165</td>\n",
       "    </tr>\n",
       "    <tr>\n",
       "      <th>2</th>\n",
       "      <td>13950</td>\n",
       "      <td>24</td>\n",
       "      <td>41711</td>\n",
       "      <td>Diesel</td>\n",
       "      <td>90</td>\n",
       "      <td>1</td>\n",
       "      <td>0</td>\n",
       "      <td>2000</td>\n",
       "      <td>3</td>\n",
       "      <td>1165</td>\n",
       "    </tr>\n",
       "    <tr>\n",
       "      <th>3</th>\n",
       "      <td>14950</td>\n",
       "      <td>26</td>\n",
       "      <td>48000</td>\n",
       "      <td>Diesel</td>\n",
       "      <td>90</td>\n",
       "      <td>0</td>\n",
       "      <td>0</td>\n",
       "      <td>2000</td>\n",
       "      <td>3</td>\n",
       "      <td>1165</td>\n",
       "    </tr>\n",
       "    <tr>\n",
       "      <th>4</th>\n",
       "      <td>13750</td>\n",
       "      <td>30</td>\n",
       "      <td>38500</td>\n",
       "      <td>Diesel</td>\n",
       "      <td>90</td>\n",
       "      <td>0</td>\n",
       "      <td>0</td>\n",
       "      <td>2000</td>\n",
       "      <td>3</td>\n",
       "      <td>1170</td>\n",
       "    </tr>\n",
       "  </tbody>\n",
       "</table>\n",
       "</div>"
      ],
      "text/plain": [
       "   Price  Age     KM FuelType  HP  MetColor  Automatic    CC  Doors  Weight\n",
       "0  13500   23  46986   Diesel  90         1          0  2000      3    1165\n",
       "1  13750   23  72937   Diesel  90         1          0  2000      3    1165\n",
       "2  13950   24  41711   Diesel  90         1          0  2000      3    1165\n",
       "3  14950   26  48000   Diesel  90         0          0  2000      3    1165\n",
       "4  13750   30  38500   Diesel  90         0          0  2000      3    1170"
      ]
     },
     "execution_count": 6,
     "metadata": {},
     "output_type": "execute_result"
    }
   ],
   "source": [
    "data.head()"
   ]
  },
  {
   "cell_type": "code",
   "execution_count": 7,
   "id": "656e5580",
   "metadata": {},
   "outputs": [
    {
     "data": {
      "text/html": [
       "<div>\n",
       "<style scoped>\n",
       "    .dataframe tbody tr th:only-of-type {\n",
       "        vertical-align: middle;\n",
       "    }\n",
       "\n",
       "    .dataframe tbody tr th {\n",
       "        vertical-align: top;\n",
       "    }\n",
       "\n",
       "    .dataframe thead th {\n",
       "        text-align: right;\n",
       "    }\n",
       "</style>\n",
       "<table border=\"1\" class=\"dataframe\">\n",
       "  <thead>\n",
       "    <tr style=\"text-align: right;\">\n",
       "      <th></th>\n",
       "      <th>Price</th>\n",
       "      <th>Age</th>\n",
       "      <th>KM</th>\n",
       "      <th>FuelType</th>\n",
       "      <th>HP</th>\n",
       "      <th>MetColor</th>\n",
       "      <th>Automatic</th>\n",
       "      <th>CC</th>\n",
       "      <th>Doors</th>\n",
       "      <th>Weight</th>\n",
       "    </tr>\n",
       "  </thead>\n",
       "  <tbody>\n",
       "    <tr>\n",
       "      <th>1320</th>\n",
       "      <td>7500</td>\n",
       "      <td>69</td>\n",
       "      <td>20544</td>\n",
       "      <td>Petrol</td>\n",
       "      <td>86</td>\n",
       "      <td>1</td>\n",
       "      <td>0</td>\n",
       "      <td>1300</td>\n",
       "      <td>3</td>\n",
       "      <td>1025</td>\n",
       "    </tr>\n",
       "    <tr>\n",
       "      <th>1321</th>\n",
       "      <td>10845</td>\n",
       "      <td>72</td>\n",
       "      <td>19000</td>\n",
       "      <td>Petrol</td>\n",
       "      <td>86</td>\n",
       "      <td>0</td>\n",
       "      <td>0</td>\n",
       "      <td>1300</td>\n",
       "      <td>3</td>\n",
       "      <td>1015</td>\n",
       "    </tr>\n",
       "    <tr>\n",
       "      <th>1322</th>\n",
       "      <td>8500</td>\n",
       "      <td>71</td>\n",
       "      <td>17016</td>\n",
       "      <td>Petrol</td>\n",
       "      <td>86</td>\n",
       "      <td>0</td>\n",
       "      <td>0</td>\n",
       "      <td>1300</td>\n",
       "      <td>3</td>\n",
       "      <td>1015</td>\n",
       "    </tr>\n",
       "    <tr>\n",
       "      <th>1323</th>\n",
       "      <td>7250</td>\n",
       "      <td>70</td>\n",
       "      <td>16916</td>\n",
       "      <td>Petrol</td>\n",
       "      <td>86</td>\n",
       "      <td>1</td>\n",
       "      <td>0</td>\n",
       "      <td>1300</td>\n",
       "      <td>3</td>\n",
       "      <td>1015</td>\n",
       "    </tr>\n",
       "    <tr>\n",
       "      <th>1324</th>\n",
       "      <td>6950</td>\n",
       "      <td>76</td>\n",
       "      <td>1</td>\n",
       "      <td>Petrol</td>\n",
       "      <td>110</td>\n",
       "      <td>0</td>\n",
       "      <td>0</td>\n",
       "      <td>1600</td>\n",
       "      <td>5</td>\n",
       "      <td>1114</td>\n",
       "    </tr>\n",
       "  </tbody>\n",
       "</table>\n",
       "</div>"
      ],
      "text/plain": [
       "      Price  Age     KM FuelType   HP  MetColor  Automatic    CC  Doors  \\\n",
       "1320   7500   69  20544   Petrol   86         1          0  1300      3   \n",
       "1321  10845   72  19000   Petrol   86         0          0  1300      3   \n",
       "1322   8500   71  17016   Petrol   86         0          0  1300      3   \n",
       "1323   7250   70  16916   Petrol   86         1          0  1300      3   \n",
       "1324   6950   76      1   Petrol  110         0          0  1600      5   \n",
       "\n",
       "      Weight  \n",
       "1320    1025  \n",
       "1321    1015  \n",
       "1322    1015  \n",
       "1323    1015  \n",
       "1324    1114  "
      ]
     },
     "execution_count": 7,
     "metadata": {},
     "output_type": "execute_result"
    }
   ],
   "source": [
    "data.tail()"
   ]
  },
  {
   "cell_type": "code",
   "execution_count": 8,
   "id": "014d224d",
   "metadata": {},
   "outputs": [
    {
     "name": "stdout",
     "output_type": "stream",
     "text": [
      "<class 'pandas.core.frame.DataFrame'>\n",
      "RangeIndex: 1325 entries, 0 to 1324\n",
      "Data columns (total 10 columns):\n",
      " #   Column     Non-Null Count  Dtype \n",
      "---  ------     --------------  ----- \n",
      " 0   Price      1325 non-null   int64 \n",
      " 1   Age        1325 non-null   int64 \n",
      " 2   KM         1325 non-null   int64 \n",
      " 3   FuelType   1325 non-null   object\n",
      " 4   HP         1325 non-null   int64 \n",
      " 5   MetColor   1325 non-null   int64 \n",
      " 6   Automatic  1325 non-null   int64 \n",
      " 7   CC         1325 non-null   int64 \n",
      " 8   Doors      1325 non-null   int64 \n",
      " 9   Weight     1325 non-null   int64 \n",
      "dtypes: int64(9), object(1)\n",
      "memory usage: 103.6+ KB\n"
     ]
    }
   ],
   "source": [
    "data.info()"
   ]
  },
  {
   "cell_type": "code",
   "execution_count": 10,
   "id": "8bdd89f8",
   "metadata": {},
   "outputs": [
    {
     "data": {
      "text/plain": [
       "Price        0\n",
       "Age          0\n",
       "KM           0\n",
       "FuelType     0\n",
       "HP           0\n",
       "MetColor     0\n",
       "Automatic    0\n",
       "CC           0\n",
       "Doors        0\n",
       "Weight       0\n",
       "dtype: int64"
      ]
     },
     "execution_count": 10,
     "metadata": {},
     "output_type": "execute_result"
    }
   ],
   "source": [
    "# Do we have any NA in our Variables?\n",
    "data.isna().sum()\n",
    "\n",
    "# We have no MV problem in this dataset"
   ]
  },
  {
   "cell_type": "code",
   "execution_count": 11,
   "id": "d26ad9f1",
   "metadata": {},
   "outputs": [
    {
     "data": {
      "text/html": [
       "<div>\n",
       "<style scoped>\n",
       "    .dataframe tbody tr th:only-of-type {\n",
       "        vertical-align: middle;\n",
       "    }\n",
       "\n",
       "    .dataframe tbody tr th {\n",
       "        vertical-align: top;\n",
       "    }\n",
       "\n",
       "    .dataframe thead th {\n",
       "        text-align: right;\n",
       "    }\n",
       "</style>\n",
       "<table border=\"1\" class=\"dataframe\">\n",
       "  <thead>\n",
       "    <tr style=\"text-align: right;\">\n",
       "      <th></th>\n",
       "      <th>Price</th>\n",
       "      <th>Age</th>\n",
       "      <th>KM</th>\n",
       "      <th>FuelType</th>\n",
       "      <th>HP</th>\n",
       "      <th>MetColor</th>\n",
       "      <th>Automatic</th>\n",
       "      <th>CC</th>\n",
       "      <th>Doors</th>\n",
       "      <th>Weight</th>\n",
       "    </tr>\n",
       "  </thead>\n",
       "  <tbody>\n",
       "    <tr>\n",
       "      <th>count</th>\n",
       "      <td>1325.000000</td>\n",
       "      <td>1325.000000</td>\n",
       "      <td>1325.000000</td>\n",
       "      <td>1325</td>\n",
       "      <td>1325.000000</td>\n",
       "      <td>1325.000000</td>\n",
       "      <td>1325.000000</td>\n",
       "      <td>1325.000000</td>\n",
       "      <td>1325.000000</td>\n",
       "      <td>1325.000000</td>\n",
       "    </tr>\n",
       "    <tr>\n",
       "      <th>unique</th>\n",
       "      <td>NaN</td>\n",
       "      <td>NaN</td>\n",
       "      <td>NaN</td>\n",
       "      <td>3</td>\n",
       "      <td>NaN</td>\n",
       "      <td>NaN</td>\n",
       "      <td>NaN</td>\n",
       "      <td>NaN</td>\n",
       "      <td>NaN</td>\n",
       "      <td>NaN</td>\n",
       "    </tr>\n",
       "    <tr>\n",
       "      <th>top</th>\n",
       "      <td>NaN</td>\n",
       "      <td>NaN</td>\n",
       "      <td>NaN</td>\n",
       "      <td>Petrol</td>\n",
       "      <td>NaN</td>\n",
       "      <td>NaN</td>\n",
       "      <td>NaN</td>\n",
       "      <td>NaN</td>\n",
       "      <td>NaN</td>\n",
       "      <td>NaN</td>\n",
       "    </tr>\n",
       "    <tr>\n",
       "      <th>freq</th>\n",
       "      <td>NaN</td>\n",
       "      <td>NaN</td>\n",
       "      <td>NaN</td>\n",
       "      <td>1176</td>\n",
       "      <td>NaN</td>\n",
       "      <td>NaN</td>\n",
       "      <td>NaN</td>\n",
       "      <td>NaN</td>\n",
       "      <td>NaN</td>\n",
       "      <td>NaN</td>\n",
       "    </tr>\n",
       "    <tr>\n",
       "      <th>mean</th>\n",
       "      <td>9939.403019</td>\n",
       "      <td>59.189434</td>\n",
       "      <td>72338.591698</td>\n",
       "      <td>NaN</td>\n",
       "      <td>100.439245</td>\n",
       "      <td>0.664151</td>\n",
       "      <td>0.053585</td>\n",
       "      <td>1557.720000</td>\n",
       "      <td>4.002264</td>\n",
       "      <td>1064.744906</td>\n",
       "    </tr>\n",
       "    <tr>\n",
       "      <th>std</th>\n",
       "      <td>2357.685657</td>\n",
       "      <td>15.246154</td>\n",
       "      <td>36136.813322</td>\n",
       "      <td>NaN</td>\n",
       "      <td>12.931155</td>\n",
       "      <td>0.472465</td>\n",
       "      <td>0.225282</td>\n",
       "      <td>183.902799</td>\n",
       "      <td>0.952415</td>\n",
       "      <td>41.031192</td>\n",
       "    </tr>\n",
       "    <tr>\n",
       "      <th>min</th>\n",
       "      <td>4350.000000</td>\n",
       "      <td>13.000000</td>\n",
       "      <td>1.000000</td>\n",
       "      <td>NaN</td>\n",
       "      <td>69.000000</td>\n",
       "      <td>0.000000</td>\n",
       "      <td>0.000000</td>\n",
       "      <td>1300.000000</td>\n",
       "      <td>2.000000</td>\n",
       "      <td>1000.000000</td>\n",
       "    </tr>\n",
       "    <tr>\n",
       "      <th>25%</th>\n",
       "      <td>8250.000000</td>\n",
       "      <td>50.000000</td>\n",
       "      <td>47211.000000</td>\n",
       "      <td>NaN</td>\n",
       "      <td>86.000000</td>\n",
       "      <td>0.000000</td>\n",
       "      <td>0.000000</td>\n",
       "      <td>1400.000000</td>\n",
       "      <td>3.000000</td>\n",
       "      <td>1035.000000</td>\n",
       "    </tr>\n",
       "    <tr>\n",
       "      <th>50%</th>\n",
       "      <td>9500.000000</td>\n",
       "      <td>62.000000</td>\n",
       "      <td>66000.000000</td>\n",
       "      <td>NaN</td>\n",
       "      <td>110.000000</td>\n",
       "      <td>1.000000</td>\n",
       "      <td>0.000000</td>\n",
       "      <td>1600.000000</td>\n",
       "      <td>4.000000</td>\n",
       "      <td>1060.000000</td>\n",
       "    </tr>\n",
       "    <tr>\n",
       "      <th>75%</th>\n",
       "      <td>10995.000000</td>\n",
       "      <td>71.000000</td>\n",
       "      <td>89800.000000</td>\n",
       "      <td>NaN</td>\n",
       "      <td>110.000000</td>\n",
       "      <td>1.000000</td>\n",
       "      <td>0.000000</td>\n",
       "      <td>1600.000000</td>\n",
       "      <td>5.000000</td>\n",
       "      <td>1079.000000</td>\n",
       "    </tr>\n",
       "    <tr>\n",
       "      <th>max</th>\n",
       "      <td>16950.000000</td>\n",
       "      <td>80.000000</td>\n",
       "      <td>243000.000000</td>\n",
       "      <td>NaN</td>\n",
       "      <td>116.000000</td>\n",
       "      <td>1.000000</td>\n",
       "      <td>1.000000</td>\n",
       "      <td>2000.000000</td>\n",
       "      <td>5.000000</td>\n",
       "      <td>1615.000000</td>\n",
       "    </tr>\n",
       "  </tbody>\n",
       "</table>\n",
       "</div>"
      ],
      "text/plain": [
       "               Price          Age             KM FuelType           HP  \\\n",
       "count    1325.000000  1325.000000    1325.000000     1325  1325.000000   \n",
       "unique           NaN          NaN            NaN        3          NaN   \n",
       "top              NaN          NaN            NaN   Petrol          NaN   \n",
       "freq             NaN          NaN            NaN     1176          NaN   \n",
       "mean     9939.403019    59.189434   72338.591698      NaN   100.439245   \n",
       "std      2357.685657    15.246154   36136.813322      NaN    12.931155   \n",
       "min      4350.000000    13.000000       1.000000      NaN    69.000000   \n",
       "25%      8250.000000    50.000000   47211.000000      NaN    86.000000   \n",
       "50%      9500.000000    62.000000   66000.000000      NaN   110.000000   \n",
       "75%     10995.000000    71.000000   89800.000000      NaN   110.000000   \n",
       "max     16950.000000    80.000000  243000.000000      NaN   116.000000   \n",
       "\n",
       "           MetColor    Automatic           CC        Doors       Weight  \n",
       "count   1325.000000  1325.000000  1325.000000  1325.000000  1325.000000  \n",
       "unique          NaN          NaN          NaN          NaN          NaN  \n",
       "top             NaN          NaN          NaN          NaN          NaN  \n",
       "freq            NaN          NaN          NaN          NaN          NaN  \n",
       "mean       0.664151     0.053585  1557.720000     4.002264  1064.744906  \n",
       "std        0.472465     0.225282   183.902799     0.952415    41.031192  \n",
       "min        0.000000     0.000000  1300.000000     2.000000  1000.000000  \n",
       "25%        0.000000     0.000000  1400.000000     3.000000  1035.000000  \n",
       "50%        1.000000     0.000000  1600.000000     4.000000  1060.000000  \n",
       "75%        1.000000     0.000000  1600.000000     5.000000  1079.000000  \n",
       "max        1.000000     1.000000  2000.000000     5.000000  1615.000000  "
      ]
     },
     "execution_count": 11,
     "metadata": {},
     "output_type": "execute_result"
    }
   ],
   "source": [
    "# Check for abnormality in data\n",
    "data.describe(include='all')"
   ]
  },
  {
   "cell_type": "markdown",
   "id": "06c21949",
   "metadata": {},
   "source": [
    "### Categorical variables should be stored as factor"
   ]
  },
  {
   "cell_type": "code",
   "execution_count": 27,
   "id": "32cd8749",
   "metadata": {},
   "outputs": [],
   "source": [
    "data.FuelType = data.FuelType.values.astype(str)\n",
    "data.MetColor = data.MetColor.values.astype(bool)\n",
    "data.Automatic = data.Automatic.values.astype(bool)\n",
    "data.Doors = data.Doors.values.astype(str)"
   ]
  },
  {
   "cell_type": "code",
   "execution_count": 28,
   "id": "a1307a5e",
   "metadata": {},
   "outputs": [
    {
     "data": {
      "text/html": [
       "<div>\n",
       "<style scoped>\n",
       "    .dataframe tbody tr th:only-of-type {\n",
       "        vertical-align: middle;\n",
       "    }\n",
       "\n",
       "    .dataframe tbody tr th {\n",
       "        vertical-align: top;\n",
       "    }\n",
       "\n",
       "    .dataframe thead th {\n",
       "        text-align: right;\n",
       "    }\n",
       "</style>\n",
       "<table border=\"1\" class=\"dataframe\">\n",
       "  <thead>\n",
       "    <tr style=\"text-align: right;\">\n",
       "      <th></th>\n",
       "      <th>Price</th>\n",
       "      <th>Age</th>\n",
       "      <th>KM</th>\n",
       "      <th>FuelType</th>\n",
       "      <th>HP</th>\n",
       "      <th>MetColor</th>\n",
       "      <th>Automatic</th>\n",
       "      <th>CC</th>\n",
       "      <th>Doors</th>\n",
       "      <th>Weight</th>\n",
       "    </tr>\n",
       "  </thead>\n",
       "  <tbody>\n",
       "    <tr>\n",
       "      <th>count</th>\n",
       "      <td>1325.000000</td>\n",
       "      <td>1325.000000</td>\n",
       "      <td>1325.000000</td>\n",
       "      <td>1325</td>\n",
       "      <td>1325.000000</td>\n",
       "      <td>1325</td>\n",
       "      <td>1325</td>\n",
       "      <td>1325.000000</td>\n",
       "      <td>1325</td>\n",
       "      <td>1325.000000</td>\n",
       "    </tr>\n",
       "    <tr>\n",
       "      <th>unique</th>\n",
       "      <td>NaN</td>\n",
       "      <td>NaN</td>\n",
       "      <td>NaN</td>\n",
       "      <td>3</td>\n",
       "      <td>NaN</td>\n",
       "      <td>2</td>\n",
       "      <td>2</td>\n",
       "      <td>NaN</td>\n",
       "      <td>4</td>\n",
       "      <td>NaN</td>\n",
       "    </tr>\n",
       "    <tr>\n",
       "      <th>top</th>\n",
       "      <td>NaN</td>\n",
       "      <td>NaN</td>\n",
       "      <td>NaN</td>\n",
       "      <td>Petrol</td>\n",
       "      <td>NaN</td>\n",
       "      <td>True</td>\n",
       "      <td>False</td>\n",
       "      <td>NaN</td>\n",
       "      <td>5</td>\n",
       "      <td>NaN</td>\n",
       "    </tr>\n",
       "    <tr>\n",
       "      <th>freq</th>\n",
       "      <td>NaN</td>\n",
       "      <td>NaN</td>\n",
       "      <td>NaN</td>\n",
       "      <td>1176</td>\n",
       "      <td>NaN</td>\n",
       "      <td>880</td>\n",
       "      <td>1254</td>\n",
       "      <td>NaN</td>\n",
       "      <td>600</td>\n",
       "      <td>NaN</td>\n",
       "    </tr>\n",
       "    <tr>\n",
       "      <th>mean</th>\n",
       "      <td>9939.403019</td>\n",
       "      <td>59.189434</td>\n",
       "      <td>72338.591698</td>\n",
       "      <td>NaN</td>\n",
       "      <td>100.439245</td>\n",
       "      <td>NaN</td>\n",
       "      <td>NaN</td>\n",
       "      <td>1557.720000</td>\n",
       "      <td>NaN</td>\n",
       "      <td>1064.744906</td>\n",
       "    </tr>\n",
       "    <tr>\n",
       "      <th>std</th>\n",
       "      <td>2357.685657</td>\n",
       "      <td>15.246154</td>\n",
       "      <td>36136.813322</td>\n",
       "      <td>NaN</td>\n",
       "      <td>12.931155</td>\n",
       "      <td>NaN</td>\n",
       "      <td>NaN</td>\n",
       "      <td>183.902799</td>\n",
       "      <td>NaN</td>\n",
       "      <td>41.031192</td>\n",
       "    </tr>\n",
       "    <tr>\n",
       "      <th>min</th>\n",
       "      <td>4350.000000</td>\n",
       "      <td>13.000000</td>\n",
       "      <td>1.000000</td>\n",
       "      <td>NaN</td>\n",
       "      <td>69.000000</td>\n",
       "      <td>NaN</td>\n",
       "      <td>NaN</td>\n",
       "      <td>1300.000000</td>\n",
       "      <td>NaN</td>\n",
       "      <td>1000.000000</td>\n",
       "    </tr>\n",
       "    <tr>\n",
       "      <th>25%</th>\n",
       "      <td>8250.000000</td>\n",
       "      <td>50.000000</td>\n",
       "      <td>47211.000000</td>\n",
       "      <td>NaN</td>\n",
       "      <td>86.000000</td>\n",
       "      <td>NaN</td>\n",
       "      <td>NaN</td>\n",
       "      <td>1400.000000</td>\n",
       "      <td>NaN</td>\n",
       "      <td>1035.000000</td>\n",
       "    </tr>\n",
       "    <tr>\n",
       "      <th>50%</th>\n",
       "      <td>9500.000000</td>\n",
       "      <td>62.000000</td>\n",
       "      <td>66000.000000</td>\n",
       "      <td>NaN</td>\n",
       "      <td>110.000000</td>\n",
       "      <td>NaN</td>\n",
       "      <td>NaN</td>\n",
       "      <td>1600.000000</td>\n",
       "      <td>NaN</td>\n",
       "      <td>1060.000000</td>\n",
       "    </tr>\n",
       "    <tr>\n",
       "      <th>75%</th>\n",
       "      <td>10995.000000</td>\n",
       "      <td>71.000000</td>\n",
       "      <td>89800.000000</td>\n",
       "      <td>NaN</td>\n",
       "      <td>110.000000</td>\n",
       "      <td>NaN</td>\n",
       "      <td>NaN</td>\n",
       "      <td>1600.000000</td>\n",
       "      <td>NaN</td>\n",
       "      <td>1079.000000</td>\n",
       "    </tr>\n",
       "    <tr>\n",
       "      <th>max</th>\n",
       "      <td>16950.000000</td>\n",
       "      <td>80.000000</td>\n",
       "      <td>243000.000000</td>\n",
       "      <td>NaN</td>\n",
       "      <td>116.000000</td>\n",
       "      <td>NaN</td>\n",
       "      <td>NaN</td>\n",
       "      <td>2000.000000</td>\n",
       "      <td>NaN</td>\n",
       "      <td>1615.000000</td>\n",
       "    </tr>\n",
       "  </tbody>\n",
       "</table>\n",
       "</div>"
      ],
      "text/plain": [
       "               Price          Age             KM FuelType           HP  \\\n",
       "count    1325.000000  1325.000000    1325.000000     1325  1325.000000   \n",
       "unique           NaN          NaN            NaN        3          NaN   \n",
       "top              NaN          NaN            NaN   Petrol          NaN   \n",
       "freq             NaN          NaN            NaN     1176          NaN   \n",
       "mean     9939.403019    59.189434   72338.591698      NaN   100.439245   \n",
       "std      2357.685657    15.246154   36136.813322      NaN    12.931155   \n",
       "min      4350.000000    13.000000       1.000000      NaN    69.000000   \n",
       "25%      8250.000000    50.000000   47211.000000      NaN    86.000000   \n",
       "50%      9500.000000    62.000000   66000.000000      NaN   110.000000   \n",
       "75%     10995.000000    71.000000   89800.000000      NaN   110.000000   \n",
       "max     16950.000000    80.000000  243000.000000      NaN   116.000000   \n",
       "\n",
       "       MetColor Automatic           CC Doors       Weight  \n",
       "count      1325      1325  1325.000000  1325  1325.000000  \n",
       "unique        2         2          NaN     4          NaN  \n",
       "top        True     False          NaN     5          NaN  \n",
       "freq        880      1254          NaN   600          NaN  \n",
       "mean        NaN       NaN  1557.720000   NaN  1064.744906  \n",
       "std         NaN       NaN   183.902799   NaN    41.031192  \n",
       "min         NaN       NaN  1300.000000   NaN  1000.000000  \n",
       "25%         NaN       NaN  1400.000000   NaN  1035.000000  \n",
       "50%         NaN       NaN  1600.000000   NaN  1060.000000  \n",
       "75%         NaN       NaN  1600.000000   NaN  1079.000000  \n",
       "max         NaN       NaN  2000.000000   NaN  1615.000000  "
      ]
     },
     "execution_count": 28,
     "metadata": {},
     "output_type": "execute_result"
    }
   ],
   "source": [
    "data.describe(include='all')"
   ]
  },
  {
   "cell_type": "markdown",
   "id": "e18ea1e4",
   "metadata": {},
   "source": [
    "### Univariate Profiling (check each variable individually)\n",
    "#### Categorical variables\n",
    "Check to sure that have good car distribution in each category\n",
    "\n",
    "**Rule of Thumb**: we must have atleast 30 observation in each category"
   ]
  },
  {
   "cell_type": "code",
   "execution_count": 32,
   "id": "6a497608",
   "metadata": {},
   "outputs": [
    {
     "data": {
      "text/plain": [
       "Petrol    1176\n",
       "Diesel     132\n",
       "CNG         17\n",
       "Name: FuelType, dtype: int64"
      ]
     },
     "execution_count": 32,
     "metadata": {},
     "output_type": "execute_result"
    }
   ],
   "source": [
    "data.FuelType.value_counts()\n",
    "\n",
    "# CNG cars sample size is very small -> 17/1325 < 0.05"
   ]
  },
  {
   "cell_type": "markdown",
   "id": "2befc121",
   "metadata": {},
   "source": [
    "> We have few data|sample in **CNG** category of **FuelType** -> it can affect on price prediction of this cars category"
   ]
  },
  {
   "cell_type": "code",
   "execution_count": 33,
   "id": "c977b4ec",
   "metadata": {},
   "outputs": [
    {
     "data": {
      "text/plain": [
       "True     880\n",
       "False    445\n",
       "Name: MetColor, dtype: int64"
      ]
     },
     "execution_count": 33,
     "metadata": {},
     "output_type": "execute_result"
    }
   ],
   "source": [
    "data.MetColor.value_counts()"
   ]
  },
  {
   "cell_type": "code",
   "execution_count": 34,
   "id": "b4a5ddd9",
   "metadata": {},
   "outputs": [
    {
     "data": {
      "text/plain": [
       "False    1254\n",
       "True       71\n",
       "Name: Automatic, dtype: int64"
      ]
     },
     "execution_count": 34,
     "metadata": {},
     "output_type": "execute_result"
    }
   ],
   "source": [
    "data.Automatic.value_counts()"
   ]
  },
  {
   "cell_type": "markdown",
   "id": "be650ac4",
   "metadata": {},
   "source": [
    "> We have few data|sample in **True** category of **Automatic** -> it can affect on price prediction of this cars category"
   ]
  },
  {
   "cell_type": "code",
   "execution_count": 35,
   "id": "102036e7",
   "metadata": {},
   "outputs": [
    {
     "data": {
      "text/plain": [
       "5    600\n",
       "3    593\n",
       "4    130\n",
       "2      2\n",
       "Name: Doors, dtype: int64"
      ]
     },
     "execution_count": 35,
     "metadata": {},
     "output_type": "execute_result"
    }
   ],
   "source": [
    "data.Doors.value_counts()\n",
    "\n",
    "# 2-Doors cars sample size is very small -> 2/1325 < 0.05"
   ]
  },
  {
   "cell_type": "code",
   "execution_count": 37,
   "id": "5f5062fb",
   "metadata": {},
   "outputs": [
    {
     "data": {
      "text/html": [
       "<div>\n",
       "<style scoped>\n",
       "    .dataframe tbody tr th:only-of-type {\n",
       "        vertical-align: middle;\n",
       "    }\n",
       "\n",
       "    .dataframe tbody tr th {\n",
       "        vertical-align: top;\n",
       "    }\n",
       "\n",
       "    .dataframe thead th {\n",
       "        text-align: right;\n",
       "    }\n",
       "</style>\n",
       "<table border=\"1\" class=\"dataframe\">\n",
       "  <thead>\n",
       "    <tr style=\"text-align: right;\">\n",
       "      <th></th>\n",
       "      <th>Price</th>\n",
       "      <th>Age</th>\n",
       "      <th>KM</th>\n",
       "      <th>FuelType</th>\n",
       "      <th>HP</th>\n",
       "      <th>MetColor</th>\n",
       "      <th>Automatic</th>\n",
       "      <th>CC</th>\n",
       "      <th>Doors</th>\n",
       "      <th>Weight</th>\n",
       "    </tr>\n",
       "  </thead>\n",
       "  <tbody>\n",
       "    <tr>\n",
       "      <th>650</th>\n",
       "      <td>8250</td>\n",
       "      <td>65</td>\n",
       "      <td>80000</td>\n",
       "      <td>Petrol</td>\n",
       "      <td>86</td>\n",
       "      <td>True</td>\n",
       "      <td>False</td>\n",
       "      <td>1300</td>\n",
       "      <td>2</td>\n",
       "      <td>1015</td>\n",
       "    </tr>\n",
       "    <tr>\n",
       "      <th>967</th>\n",
       "      <td>7950</td>\n",
       "      <td>71</td>\n",
       "      <td>139145</td>\n",
       "      <td>Diesel</td>\n",
       "      <td>73</td>\n",
       "      <td>False</td>\n",
       "      <td>False</td>\n",
       "      <td>2000</td>\n",
       "      <td>2</td>\n",
       "      <td>1115</td>\n",
       "    </tr>\n",
       "  </tbody>\n",
       "</table>\n",
       "</div>"
      ],
      "text/plain": [
       "     Price  Age      KM FuelType  HP  MetColor  Automatic    CC Doors  Weight\n",
       "650   8250   65   80000   Petrol  86      True      False  1300     2    1015\n",
       "967   7950   71  139145   Diesel  73     False      False  2000     2    1115"
      ]
     },
     "execution_count": 37,
     "metadata": {},
     "output_type": "execute_result"
    }
   ],
   "source": [
    "data.loc[data.Doors == '2']  # abnormality (error in data recording process)"
   ]
  },
  {
   "cell_type": "markdown",
   "id": "247638c0",
   "metadata": {},
   "source": [
    "#### Continuous variables\n",
    "distribution: plot Histogram"
   ]
  },
  {
   "cell_type": "code",
   "execution_count": 30,
   "id": "e4f636cf",
   "metadata": {},
   "outputs": [
    {
     "data": {
      "image/png": "[encoded data removed]",
      "text/plain": [
       "<Figure size 864x432 with 6 Axes>"
      ]
     },
     "metadata": {
      "needs_background": "light"
     },
     "output_type": "display_data"
    }
   ],
   "source": [
    "var_ind = [0, 1, 2, 4, 7, 9]\n",
    "plot = plt.figure(figsize = (12, 6))\n",
    "plot.subplots_adjust(hspace = 0.5, wspace = 0.5)\n",
    "for i in range(1, 7):\n",
    "    a = plot.add_subplot(2, 3, i)\n",
    "    a.hist(data.iloc[:, var_ind[i - 1]], alpha = 0.7)\n",
    "    a.title.set_text('Histogram of ' + data.columns[var_ind[i - 1]])"
   ]
  },
  {
   "cell_type": "code",
   "execution_count": 31,
   "id": "91226663",
   "metadata": {},
   "outputs": [
    {
     "data": {
      "text/plain": [
       "Text(0.5, 1.0, 'Boxplot of Price')"
      ]
     },
     "execution_count": 31,
     "metadata": {},
     "output_type": "execute_result"
    },
    {
     "data": {
      "image/png": "[encoded data removed]",
      "text/plain": [
       "<Figure size 432x288 with 1 Axes>"
      ]
     },
     "metadata": {
      "needs_background": "light"
     },
     "output_type": "display_data"
    }
   ],
   "source": [
    "# Box plot of Price\n",
    "plt.boxplot(data['Price'], showmeans = True)\n",
    "plt.title('Boxplot of Price')\n",
    "\n",
    "# Price is skewed to right a little bit"
   ]
  },
  {
   "cell_type": "markdown",
   "id": "570f5b3f",
   "metadata": {},
   "source": [
    "### Bivariate Profiling (measure 2-2 relationships between variables)\n",
    "#### Two Continuous variables (Correlation Analysis)"
   ]
  },
  {
   "cell_type": "code",
   "execution_count": 38,
   "id": "7e53172f",
   "metadata": {},
   "outputs": [
    {
     "data": {
      "text/html": [
       "<div>\n",
       "<style scoped>\n",
       "    .dataframe tbody tr th:only-of-type {\n",
       "        vertical-align: middle;\n",
       "    }\n",
       "\n",
       "    .dataframe tbody tr th {\n",
       "        vertical-align: top;\n",
       "    }\n",
       "\n",
       "    .dataframe thead th {\n",
       "        text-align: right;\n",
       "    }\n",
       "</style>\n",
       "<table border=\"1\" class=\"dataframe\">\n",
       "  <thead>\n",
       "    <tr style=\"text-align: right;\">\n",
       "      <th></th>\n",
       "      <th>Price</th>\n",
       "      <th>KM</th>\n",
       "    </tr>\n",
       "  </thead>\n",
       "  <tbody>\n",
       "    <tr>\n",
       "      <th>Price</th>\n",
       "      <td>1.000000</td>\n",
       "      <td>-0.519654</td>\n",
       "    </tr>\n",
       "    <tr>\n",
       "      <th>KM</th>\n",
       "      <td>-0.519654</td>\n",
       "      <td>1.000000</td>\n",
       "    </tr>\n",
       "  </tbody>\n",
       "</table>\n",
       "</div>"
      ],
      "text/plain": [
       "          Price        KM\n",
       "Price  1.000000 -0.519654\n",
       "KM    -0.519654  1.000000"
      ]
     },
     "execution_count": 38,
     "metadata": {},
     "output_type": "execute_result"
    }
   ],
   "source": [
    "data[['Price', 'KM']].corr(method = 'pearson')  # high correlation for this context (Used Car price)"
   ]
  },
  {
   "cell_type": "code",
   "execution_count": 39,
   "id": "64d8ad93",
   "metadata": {},
   "outputs": [
    {
     "data": {
      "text/html": [
       "<div>\n",
       "<style scoped>\n",
       "    .dataframe tbody tr th:only-of-type {\n",
       "        vertical-align: middle;\n",
       "    }\n",
       "\n",
       "    .dataframe tbody tr th {\n",
       "        vertical-align: top;\n",
       "    }\n",
       "\n",
       "    .dataframe thead th {\n",
       "        text-align: right;\n",
       "    }\n",
       "</style>\n",
       "<table border=\"1\" class=\"dataframe\">\n",
       "  <thead>\n",
       "    <tr style=\"text-align: right;\">\n",
       "      <th></th>\n",
       "      <th>Price</th>\n",
       "      <th>Age</th>\n",
       "      <th>KM</th>\n",
       "      <th>HP</th>\n",
       "      <th>CC</th>\n",
       "      <th>Weight</th>\n",
       "    </tr>\n",
       "  </thead>\n",
       "  <tbody>\n",
       "    <tr>\n",
       "      <th>Price</th>\n",
       "      <td>1.00</td>\n",
       "      <td>-0.84</td>\n",
       "      <td>-0.52</td>\n",
       "      <td>0.20</td>\n",
       "      <td>0.01</td>\n",
       "      <td>0.29</td>\n",
       "    </tr>\n",
       "    <tr>\n",
       "      <th>Age</th>\n",
       "      <td>-0.84</td>\n",
       "      <td>1.00</td>\n",
       "      <td>0.39</td>\n",
       "      <td>-0.05</td>\n",
       "      <td>-0.05</td>\n",
       "      <td>-0.27</td>\n",
       "    </tr>\n",
       "    <tr>\n",
       "      <th>KM</th>\n",
       "      <td>-0.52</td>\n",
       "      <td>0.39</td>\n",
       "      <td>1.00</td>\n",
       "      <td>-0.33</td>\n",
       "      <td>0.39</td>\n",
       "      <td>0.19</td>\n",
       "    </tr>\n",
       "    <tr>\n",
       "      <th>HP</th>\n",
       "      <td>0.20</td>\n",
       "      <td>-0.05</td>\n",
       "      <td>-0.33</td>\n",
       "      <td>1.00</td>\n",
       "      <td>-0.02</td>\n",
       "      <td>-0.08</td>\n",
       "    </tr>\n",
       "    <tr>\n",
       "      <th>CC</th>\n",
       "      <td>0.01</td>\n",
       "      <td>-0.05</td>\n",
       "      <td>0.39</td>\n",
       "      <td>-0.02</td>\n",
       "      <td>1.00</td>\n",
       "      <td>0.66</td>\n",
       "    </tr>\n",
       "    <tr>\n",
       "      <th>Weight</th>\n",
       "      <td>0.29</td>\n",
       "      <td>-0.27</td>\n",
       "      <td>0.19</td>\n",
       "      <td>-0.08</td>\n",
       "      <td>0.66</td>\n",
       "      <td>1.00</td>\n",
       "    </tr>\n",
       "  </tbody>\n",
       "</table>\n",
       "</div>"
      ],
      "text/plain": [
       "        Price   Age    KM    HP    CC  Weight\n",
       "Price    1.00 -0.84 -0.52  0.20  0.01    0.29\n",
       "Age     -0.84  1.00  0.39 -0.05 -0.05   -0.27\n",
       "KM      -0.52  0.39  1.00 -0.33  0.39    0.19\n",
       "HP       0.20 -0.05 -0.33  1.00 -0.02   -0.08\n",
       "CC       0.01 -0.05  0.39 -0.02  1.00    0.66\n",
       "Weight   0.29 -0.27  0.19 -0.08  0.66    1.00"
      ]
     },
     "execution_count": 39,
     "metadata": {},
     "output_type": "execute_result"
    }
   ],
   "source": [
    "# correlation table between Price and continuous variables\n",
    "corr_table = round(data[['Price','Age','KM','HP','CC','Weight']].corr(method = 'pearson'), 2)\n",
    "corr_table   # choose continuous variables which have high corr with price and consider them as feature in regression model (which variable is important for price prediction)"
   ]
  },
  {
   "cell_type": "markdown",
   "id": "c3c74605",
   "metadata": {},
   "source": [
    "> **CC** has very small corr with **Price**, so it can not be good predictor in modeling\n",
    "\n",
    "> **Price** has high correlation with **Age** and **KM**\n",
    "\n",
    "> **Weight** and **CC** have high correlation with each other"
   ]
  },
  {
   "cell_type": "code",
   "execution_count": 40,
   "id": "1e53ad71",
   "metadata": {},
   "outputs": [
    {
     "data": {
      "text/plain": [
       "<Axes: >"
      ]
     },
     "execution_count": 40,
     "metadata": {},
     "output_type": "execute_result"
    },
    {
     "data": {
      "image/png": "[encoded data removed]",
      "text/plain": [
       "<Figure size 432x288 with 2 Axes>"
      ]
     },
     "metadata": {
      "needs_background": "light"
     },
     "output_type": "display_data"
    }
   ],
   "source": [
    "sns.heatmap(corr_table, annot = True)"
   ]
  },
  {
   "cell_type": "markdown",
   "id": "499118b3",
   "metadata": {},
   "source": [
    "Multicollinearity (having high correlation between predictor variables):\n",
    "\n",
    "abs(corr) >= 0.30: Multicollinearity problem danger!\n",
    "\n",
    "* **Weight** has 0.66 corr with **CC**\n",
    "* **KM** has 0.39 corr with **Age**\n",
    "* **KM** has 0.39 corr with **CC**\n",
    "* **KM** has -0.33 corr with **HP**"
   ]
  },
  {
   "cell_type": "code",
   "execution_count": 41,
   "id": "4fc154dc",
   "metadata": {},
   "outputs": [
    {
     "data": {
      "image/png": "[encoded data removed]",
      "text/plain": [
       "<Figure size 864x432 with 5 Axes>"
      ]
     },
     "metadata": {
      "needs_background": "light"
     },
     "output_type": "display_data"
    }
   ],
   "source": [
    "# Scatter Plot (between Price and other continuous variables 2 by 2)\n",
    "var_ind = [1, 2, 4, 7, 9]\n",
    "plot = plt.figure(figsize = (12, 6))\n",
    "plot.subplots_adjust(hspace = 0.5, wspace = 0.5)\n",
    "for i in range(1, 6):\n",
    "    a = plot.add_subplot(2, 3, i)\n",
    "    a.scatter(x = data.iloc[:, var_ind[i - 1]],\n",
    "             y = data.iloc[:, 0],\n",
    "             alpha = 0.5)\n",
    "    a.title.set_text('Price vs. ' + data.columns[var_ind[i - 1]])"
   ]
  },
  {
   "cell_type": "markdown",
   "id": "3af955e5",
   "metadata": {},
   "source": [
    "> **Age** and **Price** have strong linear relationship\n",
    "\n",
    "> **CC** and **HP** are categorical like!"
   ]
  },
  {
   "cell_type": "markdown",
   "id": "1124fb48",
   "metadata": {},
   "source": [
    "# Data PreProcessing\n",
    "## Divide Dataset into Train and Test randomly\n",
    "* Learn model in Train dataset\n",
    "* Evaluate model performance in Test dataset"
   ]
  },
  {
   "cell_type": "code",
   "execution_count": 42,
   "id": "f7cbc171",
   "metadata": {},
   "outputs": [],
   "source": [
    "from sklearn.model_selection import train_test_split\n",
    "train, test = train_test_split(data, test_size = 0.3, random_state = 123)\n",
    "\n",
    "# according to the dataset size: 70% - 30% "
   ]
  },
  {
   "cell_type": "code",
   "execution_count": 43,
   "id": "d75c04c5",
   "metadata": {},
   "outputs": [
    {
     "data": {
      "text/plain": [
       "(927, 10)"
      ]
     },
     "execution_count": 43,
     "metadata": {},
     "output_type": "execute_result"
    }
   ],
   "source": [
    "# train data distribution must be similar to test data distribution\n",
    "train.shape"
   ]
  },
  {
   "cell_type": "code",
   "execution_count": 44,
   "id": "ac067a82",
   "metadata": {},
   "outputs": [
    {
     "data": {
      "text/html": [
       "<div>\n",
       "<style scoped>\n",
       "    .dataframe tbody tr th:only-of-type {\n",
       "        vertical-align: middle;\n",
       "    }\n",
       "\n",
       "    .dataframe tbody tr th {\n",
       "        vertical-align: top;\n",
       "    }\n",
       "\n",
       "    .dataframe thead th {\n",
       "        text-align: right;\n",
       "    }\n",
       "</style>\n",
       "<table border=\"1\" class=\"dataframe\">\n",
       "  <thead>\n",
       "    <tr style=\"text-align: right;\">\n",
       "      <th></th>\n",
       "      <th>Price</th>\n",
       "      <th>Age</th>\n",
       "      <th>KM</th>\n",
       "      <th>HP</th>\n",
       "      <th>CC</th>\n",
       "      <th>Weight</th>\n",
       "    </tr>\n",
       "  </thead>\n",
       "  <tbody>\n",
       "    <tr>\n",
       "      <th>count</th>\n",
       "      <td>927.000000</td>\n",
       "      <td>927.000000</td>\n",
       "      <td>927.000000</td>\n",
       "      <td>927.000000</td>\n",
       "      <td>927.000000</td>\n",
       "      <td>927.000000</td>\n",
       "    </tr>\n",
       "    <tr>\n",
       "      <th>mean</th>\n",
       "      <td>9904.320388</td>\n",
       "      <td>59.445523</td>\n",
       "      <td>72663.046386</td>\n",
       "      <td>100.035599</td>\n",
       "      <td>1553.957929</td>\n",
       "      <td>1064.050701</td>\n",
       "    </tr>\n",
       "    <tr>\n",
       "      <th>std</th>\n",
       "      <td>2373.385828</td>\n",
       "      <td>15.320373</td>\n",
       "      <td>36900.971280</td>\n",
       "      <td>13.008214</td>\n",
       "      <td>186.562184</td>\n",
       "      <td>40.789861</td>\n",
       "    </tr>\n",
       "    <tr>\n",
       "      <th>min</th>\n",
       "      <td>4400.000000</td>\n",
       "      <td>13.000000</td>\n",
       "      <td>1.000000</td>\n",
       "      <td>69.000000</td>\n",
       "      <td>1300.000000</td>\n",
       "      <td>1000.000000</td>\n",
       "    </tr>\n",
       "    <tr>\n",
       "      <th>25%</th>\n",
       "      <td>8250.000000</td>\n",
       "      <td>50.000000</td>\n",
       "      <td>47191.000000</td>\n",
       "      <td>86.000000</td>\n",
       "      <td>1400.000000</td>\n",
       "      <td>1035.000000</td>\n",
       "    </tr>\n",
       "    <tr>\n",
       "      <th>50%</th>\n",
       "      <td>9450.000000</td>\n",
       "      <td>62.000000</td>\n",
       "      <td>65950.000000</td>\n",
       "      <td>110.000000</td>\n",
       "      <td>1600.000000</td>\n",
       "      <td>1060.000000</td>\n",
       "    </tr>\n",
       "    <tr>\n",
       "      <th>75%</th>\n",
       "      <td>10950.000000</td>\n",
       "      <td>71.000000</td>\n",
       "      <td>90148.500000</td>\n",
       "      <td>110.000000</td>\n",
       "      <td>1600.000000</td>\n",
       "      <td>1075.000000</td>\n",
       "    </tr>\n",
       "    <tr>\n",
       "      <th>max</th>\n",
       "      <td>16950.000000</td>\n",
       "      <td>80.000000</td>\n",
       "      <td>243000.000000</td>\n",
       "      <td>116.000000</td>\n",
       "      <td>2000.000000</td>\n",
       "      <td>1615.000000</td>\n",
       "    </tr>\n",
       "  </tbody>\n",
       "</table>\n",
       "</div>"
      ],
      "text/plain": [
       "              Price         Age             KM          HP           CC  \\\n",
       "count    927.000000  927.000000     927.000000  927.000000   927.000000   \n",
       "mean    9904.320388   59.445523   72663.046386  100.035599  1553.957929   \n",
       "std     2373.385828   15.320373   36900.971280   13.008214   186.562184   \n",
       "min     4400.000000   13.000000       1.000000   69.000000  1300.000000   \n",
       "25%     8250.000000   50.000000   47191.000000   86.000000  1400.000000   \n",
       "50%     9450.000000   62.000000   65950.000000  110.000000  1600.000000   \n",
       "75%    10950.000000   71.000000   90148.500000  110.000000  1600.000000   \n",
       "max    16950.000000   80.000000  243000.000000  116.000000  2000.000000   \n",
       "\n",
       "            Weight  \n",
       "count   927.000000  \n",
       "mean   1064.050701  \n",
       "std      40.789861  \n",
       "min    1000.000000  \n",
       "25%    1035.000000  \n",
       "50%    1060.000000  \n",
       "75%    1075.000000  \n",
       "max    1615.000000  "
      ]
     },
     "execution_count": 44,
     "metadata": {},
     "output_type": "execute_result"
    }
   ],
   "source": [
    "train.describe()"
   ]
  },
  {
   "cell_type": "code",
   "execution_count": 45,
   "id": "538ab65c",
   "metadata": {},
   "outputs": [
    {
     "data": {
      "text/plain": [
       "(398, 10)"
      ]
     },
     "execution_count": 45,
     "metadata": {},
     "output_type": "execute_result"
    }
   ],
   "source": [
    "test.shape"
   ]
  },
  {
   "cell_type": "code",
   "execution_count": 46,
   "id": "69425e0f",
   "metadata": {},
   "outputs": [
    {
     "data": {
      "text/html": [
       "<div>\n",
       "<style scoped>\n",
       "    .dataframe tbody tr th:only-of-type {\n",
       "        vertical-align: middle;\n",
       "    }\n",
       "\n",
       "    .dataframe tbody tr th {\n",
       "        vertical-align: top;\n",
       "    }\n",
       "\n",
       "    .dataframe thead th {\n",
       "        text-align: right;\n",
       "    }\n",
       "</style>\n",
       "<table border=\"1\" class=\"dataframe\">\n",
       "  <thead>\n",
       "    <tr style=\"text-align: right;\">\n",
       "      <th></th>\n",
       "      <th>Price</th>\n",
       "      <th>Age</th>\n",
       "      <th>KM</th>\n",
       "      <th>HP</th>\n",
       "      <th>CC</th>\n",
       "      <th>Weight</th>\n",
       "    </tr>\n",
       "  </thead>\n",
       "  <tbody>\n",
       "    <tr>\n",
       "      <th>count</th>\n",
       "      <td>398.000000</td>\n",
       "      <td>398.000000</td>\n",
       "      <td>398.000000</td>\n",
       "      <td>398.000000</td>\n",
       "      <td>398.000000</td>\n",
       "      <td>398.000000</td>\n",
       "    </tr>\n",
       "    <tr>\n",
       "      <th>mean</th>\n",
       "      <td>10021.115578</td>\n",
       "      <td>58.592965</td>\n",
       "      <td>71582.889447</td>\n",
       "      <td>101.379397</td>\n",
       "      <td>1566.482412</td>\n",
       "      <td>1066.361809</td>\n",
       "    </tr>\n",
       "    <tr>\n",
       "      <th>std</th>\n",
       "      <td>2321.607474</td>\n",
       "      <td>15.074129</td>\n",
       "      <td>34324.309251</td>\n",
       "      <td>12.716410</td>\n",
       "      <td>177.475108</td>\n",
       "      <td>41.594598</td>\n",
       "    </tr>\n",
       "    <tr>\n",
       "      <th>min</th>\n",
       "      <td>4350.000000</td>\n",
       "      <td>13.000000</td>\n",
       "      <td>1.000000</td>\n",
       "      <td>69.000000</td>\n",
       "      <td>1300.000000</td>\n",
       "      <td>1000.000000</td>\n",
       "    </tr>\n",
       "    <tr>\n",
       "      <th>25%</th>\n",
       "      <td>8250.000000</td>\n",
       "      <td>49.000000</td>\n",
       "      <td>47492.000000</td>\n",
       "      <td>90.000000</td>\n",
       "      <td>1400.000000</td>\n",
       "      <td>1040.000000</td>\n",
       "    </tr>\n",
       "    <tr>\n",
       "      <th>50%</th>\n",
       "      <td>9895.000000</td>\n",
       "      <td>62.000000</td>\n",
       "      <td>66751.500000</td>\n",
       "      <td>110.000000</td>\n",
       "      <td>1600.000000</td>\n",
       "      <td>1065.000000</td>\n",
       "    </tr>\n",
       "    <tr>\n",
       "      <th>75%</th>\n",
       "      <td>11450.000000</td>\n",
       "      <td>70.000000</td>\n",
       "      <td>87955.250000</td>\n",
       "      <td>110.000000</td>\n",
       "      <td>1600.000000</td>\n",
       "      <td>1080.000000</td>\n",
       "    </tr>\n",
       "    <tr>\n",
       "      <th>max</th>\n",
       "      <td>16950.000000</td>\n",
       "      <td>80.000000</td>\n",
       "      <td>218118.000000</td>\n",
       "      <td>116.000000</td>\n",
       "      <td>2000.000000</td>\n",
       "      <td>1480.000000</td>\n",
       "    </tr>\n",
       "  </tbody>\n",
       "</table>\n",
       "</div>"
      ],
      "text/plain": [
       "              Price         Age             KM          HP           CC  \\\n",
       "count    398.000000  398.000000     398.000000  398.000000   398.000000   \n",
       "mean   10021.115578   58.592965   71582.889447  101.379397  1566.482412   \n",
       "std     2321.607474   15.074129   34324.309251   12.716410   177.475108   \n",
       "min     4350.000000   13.000000       1.000000   69.000000  1300.000000   \n",
       "25%     8250.000000   49.000000   47492.000000   90.000000  1400.000000   \n",
       "50%     9895.000000   62.000000   66751.500000  110.000000  1600.000000   \n",
       "75%    11450.000000   70.000000   87955.250000  110.000000  1600.000000   \n",
       "max    16950.000000   80.000000  218118.000000  116.000000  2000.000000   \n",
       "\n",
       "            Weight  \n",
       "count   398.000000  \n",
       "mean   1066.361809  \n",
       "std      41.594598  \n",
       "min    1000.000000  \n",
       "25%    1040.000000  \n",
       "50%    1065.000000  \n",
       "75%    1080.000000  \n",
       "max    1480.000000  "
      ]
     },
     "execution_count": 46,
     "metadata": {},
     "output_type": "execute_result"
    }
   ],
   "source": [
    "test.describe()"
   ]
  },
  {
   "cell_type": "markdown",
   "id": "d1cc9861",
   "metadata": {},
   "source": [
    "# Modeling\n",
    "## Model 1: Simple Linear Regression (Univariate Regression)\n",
    "based-on previous analysis, it seems that KM is important to explain Price variance (corr = -52%)"
   ]
  },
  {
   "cell_type": "code",
   "execution_count": 47,
   "id": "ec88752f",
   "metadata": {},
   "outputs": [],
   "source": [
    "# Price vs. KM\n",
    "\n",
    "# Define the features set X\n",
    "X = train['KM']\n",
    "X = sm.add_constant(X)  # adding a constant (a column of 1)\n",
    "\n",
    "# Define response variable\n",
    "y = train['Price']"
   ]
  },
  {
   "cell_type": "code",
   "execution_count": 48,
   "id": "230edc5b",
   "metadata": {},
   "outputs": [
    {
     "data": {
      "text/html": [
       "<div>\n",
       "<style scoped>\n",
       "    .dataframe tbody tr th:only-of-type {\n",
       "        vertical-align: middle;\n",
       "    }\n",
       "\n",
       "    .dataframe tbody tr th {\n",
       "        vertical-align: top;\n",
       "    }\n",
       "\n",
       "    .dataframe thead th {\n",
       "        text-align: right;\n",
       "    }\n",
       "</style>\n",
       "<table border=\"1\" class=\"dataframe\">\n",
       "  <thead>\n",
       "    <tr style=\"text-align: right;\">\n",
       "      <th></th>\n",
       "      <th>const</th>\n",
       "      <th>KM</th>\n",
       "    </tr>\n",
       "  </thead>\n",
       "  <tbody>\n",
       "    <tr>\n",
       "      <th>585</th>\n",
       "      <td>1.0</td>\n",
       "      <td>96000</td>\n",
       "    </tr>\n",
       "    <tr>\n",
       "      <th>876</th>\n",
       "      <td>1.0</td>\n",
       "      <td>44597</td>\n",
       "    </tr>\n",
       "    <tr>\n",
       "      <th>1123</th>\n",
       "      <td>1.0</td>\n",
       "      <td>83047</td>\n",
       "    </tr>\n",
       "    <tr>\n",
       "      <th>680</th>\n",
       "      <td>1.0</td>\n",
       "      <td>74889</td>\n",
       "    </tr>\n",
       "    <tr>\n",
       "      <th>689</th>\n",
       "      <td>1.0</td>\n",
       "      <td>73936</td>\n",
       "    </tr>\n",
       "  </tbody>\n",
       "</table>\n",
       "</div>"
      ],
      "text/plain": [
       "      const     KM\n",
       "585     1.0  96000\n",
       "876     1.0  44597\n",
       "1123    1.0  83047\n",
       "680     1.0  74889\n",
       "689     1.0  73936"
      ]
     },
     "execution_count": 48,
     "metadata": {},
     "output_type": "execute_result"
    }
   ],
   "source": [
    "X.head()"
   ]
  },
  {
   "cell_type": "code",
   "execution_count": 49,
   "id": "b3aa69b6",
   "metadata": {},
   "outputs": [
    {
     "data": {
      "text/plain": [
       "585     12250\n",
       "876      9950\n",
       "1123     8950\n",
       "680      7950\n",
       "689      8995\n",
       "Name: Price, dtype: int64"
      ]
     },
     "execution_count": 49,
     "metadata": {},
     "output_type": "execute_result"
    }
   ],
   "source": [
    "y.head()"
   ]
  },
  {
   "cell_type": "code",
   "execution_count": 50,
   "id": "56842258",
   "metadata": {},
   "outputs": [
    {
     "data": {
      "text/html": [
       "<table class=\"simpletable\">\n",
       "<caption>OLS Regression Results</caption>\n",
       "<tr>\n",
       "  <th>Dep. Variable:</th>          <td>Price</td>      <th>  R-squared:         </th> <td>   0.277</td> \n",
       "</tr>\n",
       "<tr>\n",
       "  <th>Model:</th>                   <td>OLS</td>       <th>  Adj. R-squared:    </th> <td>   0.276</td> \n",
       "</tr>\n",
       "<tr>\n",
       "  <th>Method:</th>             <td>Least Squares</td>  <th>  F-statistic:       </th> <td>   353.8</td> \n",
       "</tr>\n",
       "<tr>\n",
       "  <th>Date:</th>             <td>Fri, 26 May 2023</td> <th>  Prob (F-statistic):</th> <td>4.37e-67</td> \n",
       "</tr>\n",
       "<tr>\n",
       "  <th>Time:</th>                 <td>16:37:13</td>     <th>  Log-Likelihood:    </th> <td> -8369.4</td> \n",
       "</tr>\n",
       "<tr>\n",
       "  <th>No. Observations:</th>      <td>   927</td>      <th>  AIC:               </th> <td>1.674e+04</td>\n",
       "</tr>\n",
       "<tr>\n",
       "  <th>Df Residuals:</th>          <td>   925</td>      <th>  BIC:               </th> <td>1.675e+04</td>\n",
       "</tr>\n",
       "<tr>\n",
       "  <th>Df Model:</th>              <td>     1</td>      <th>                     </th>     <td> </td>    \n",
       "</tr>\n",
       "<tr>\n",
       "  <th>Covariance Type:</th>      <td>nonrobust</td>    <th>                     </th>     <td> </td>    \n",
       "</tr>\n",
       "</table>\n",
       "<table class=\"simpletable\">\n",
       "<tr>\n",
       "    <td></td>       <th>coef</th>     <th>std err</th>      <th>t</th>      <th>P>|t|</th>  <th>[0.025</th>    <th>0.975]</th>  \n",
       "</tr>\n",
       "<tr>\n",
       "  <th>const</th> <td> 1.236e+04</td> <td>  146.561</td> <td>   84.351</td> <td> 0.000</td> <td> 1.21e+04</td> <td> 1.27e+04</td>\n",
       "</tr>\n",
       "<tr>\n",
       "  <th>KM</th>    <td>   -0.0338</td> <td>    0.002</td> <td>  -18.810</td> <td> 0.000</td> <td>   -0.037</td> <td>   -0.030</td>\n",
       "</tr>\n",
       "</table>\n",
       "<table class=\"simpletable\">\n",
       "<tr>\n",
       "  <th>Omnibus:</th>       <td>88.056</td> <th>  Durbin-Watson:     </th> <td>   1.900</td>\n",
       "</tr>\n",
       "<tr>\n",
       "  <th>Prob(Omnibus):</th> <td> 0.000</td> <th>  Jarque-Bera (JB):  </th> <td> 113.519</td>\n",
       "</tr>\n",
       "<tr>\n",
       "  <th>Skew:</th>          <td> 0.783</td> <th>  Prob(JB):          </th> <td>2.24e-25</td>\n",
       "</tr>\n",
       "<tr>\n",
       "  <th>Kurtosis:</th>      <td> 3.698</td> <th>  Cond. No.          </th> <td>1.80e+05</td>\n",
       "</tr>\n",
       "</table><br/><br/>Notes:<br/>[1] Standard Errors assume that the covariance matrix of the errors is correctly specified.<br/>[2] The condition number is large, 1.8e+05. This might indicate that there are<br/>strong multicollinearity or other numerical problems."
      ],
      "text/plain": [
       "<class 'statsmodels.iolib.summary.Summary'>\n",
       "\"\"\"\n",
       "                            OLS Regression Results                            \n",
       "==============================================================================\n",
       "Dep. Variable:                  Price   R-squared:                       0.277\n",
       "Model:                            OLS   Adj. R-squared:                  0.276\n",
       "Method:                 Least Squares   F-statistic:                     353.8\n",
       "Date:                Fri, 26 May 2023   Prob (F-statistic):           4.37e-67\n",
       "Time:                        16:37:13   Log-Likelihood:                -8369.4\n",
       "No. Observations:                 927   AIC:                         1.674e+04\n",
       "Df Residuals:                     925   BIC:                         1.675e+04\n",
       "Df Model:                           1                                         \n",
       "Covariance Type:            nonrobust                                         \n",
       "==============================================================================\n",
       "                 coef    std err          t      P>|t|      [0.025      0.975]\n",
       "------------------------------------------------------------------------------\n",
       "const       1.236e+04    146.561     84.351      0.000    1.21e+04    1.27e+04\n",
       "KM            -0.0338      0.002    -18.810      0.000      -0.037      -0.030\n",
       "==============================================================================\n",
       "Omnibus:                       88.056   Durbin-Watson:                   1.900\n",
       "Prob(Omnibus):                  0.000   Jarque-Bera (JB):              113.519\n",
       "Skew:                           0.783   Prob(JB):                     2.24e-25\n",
       "Kurtosis:                       3.698   Cond. No.                     1.80e+05\n",
       "==============================================================================\n",
       "\n",
       "Notes:\n",
       "[1] Standard Errors assume that the covariance matrix of the errors is correctly specified.\n",
       "[2] The condition number is large, 1.8e+05. This might indicate that there are\n",
       "strong multicollinearity or other numerical problems.\n",
       "\"\"\""
      ]
     },
     "execution_count": 50,
     "metadata": {},
     "output_type": "execute_result"
    }
   ],
   "source": [
    "# Regress Price on KM\n",
    "m1 = sm.OLS(y, X).fit()\n",
    "m1.summary()  # results of m1 regression model"
   ]
  },
  {
   "cell_type": "markdown",
   "id": "3419eb9b",
   "metadata": {},
   "source": [
    "> **R-squared = 0.277**: 28% of **Price** variance has been explained by **KM**\n",
    "\n",
    "> Consider the problem context, for price prediction, R-squared = 0.28 is not good model, we need 0.70"
   ]
  },
  {
   "cell_type": "code",
   "execution_count": 57,
   "id": "d5967e9d",
   "metadata": {},
   "outputs": [
    {
     "data": {
      "text/plain": [
       "<Axes: xlabel='KM', ylabel='Price'>"
      ]
     },
     "execution_count": 57,
     "metadata": {},
     "output_type": "execute_result"
    },
    {
     "data": {
      "image/png": "[encoded data removed]",
      "text/plain": [
       "<Figure size 432x288 with 1 Axes>"
      ]
     },
     "metadata": {
      "needs_background": "light"
     },
     "output_type": "display_data"
    }
   ],
   "source": [
    "# Plot Regression Line with Confidence-Interval\n",
    "sns.regplot(x = 'KM', \n",
    "            y = 'Price',\n",
    "            data = data, \n",
    "            scatter_kws={'color':'blue', 'alpha':0.5},\n",
    "            line_kws={'color':'red'})\n",
    "\n",
    "# variance of 'Price' based-on 'KM' is high around regression line"
   ]
  },
  {
   "cell_type": "markdown",
   "id": "05a0cdd6",
   "metadata": {},
   "source": [
    "**Main Question**: can we generalize this line to population? -> F-test and then t-test\n",
    "\n",
    "Check Assumptions of Regression:\n",
    "\n",
    "1. Normality of residuals (Errors)"
   ]
  },
  {
   "cell_type": "code",
   "execution_count": 58,
   "id": "5af307ea",
   "metadata": {},
   "outputs": [
    {
     "data": {
      "text/plain": [
       "585     3135.181435\n",
       "876     -903.809990\n",
       "1123    -603.025594\n",
       "680    -1879.015168\n",
       "689     -866.255676\n",
       "           ...     \n",
       "1238   -3148.887586\n",
       "1147   -1541.429434\n",
       "106     3698.387572\n",
       "1041    -464.002002\n",
       "1122   -1600.116168\n",
       "Length: 927, dtype: float64"
      ]
     },
     "execution_count": 58,
     "metadata": {},
     "output_type": "execute_result"
    }
   ],
   "source": [
    "m1.resid  # errors of model"
   ]
  },
  {
   "cell_type": "code",
   "execution_count": 61,
   "id": "4f61126b",
   "metadata": {},
   "outputs": [
    {
     "data": {
      "text/plain": [
       "<Axes: ylabel='Probability'>"
      ]
     },
     "execution_count": 61,
     "metadata": {},
     "output_type": "execute_result"
    },
    {
     "data": {
      "image/png": "[encoded data removed]",
      "text/plain": [
       "<Figure size 432x288 with 1 Axes>"
      ]
     },
     "metadata": {
      "needs_background": "light"
     },
     "output_type": "display_data"
    }
   ],
   "source": [
    "# Plot Histogram of residuals\n",
    "sns.histplot(m1.resid, stat = 'probability', \n",
    "            kde = True,\n",
    "            alpha = 0.7, color = 'green',\n",
    "            bins = 20)\n",
    "\n",
    "# skewed to right (have a tail along right)"
   ]
  },
  {
   "cell_type": "code",
   "execution_count": 62,
   "id": "eac7dc88",
   "metadata": {},
   "outputs": [
    {
     "data": {
      "image/png": "[encoded data removed]",
      "text/plain": [
       "<Figure size 432x288 with 1 Axes>"
      ]
     },
     "metadata": {
      "needs_background": "light"
     },
     "output_type": "display_data"
    }
   ],
   "source": [
    "# QQ-plot\n",
    "qqplot_m1 = sm.qqplot(m1.resid, line = 's')\n",
    "plt.show()\n",
    "\n",
    "# we have serious deviations from normal distribution"
   ]
  },
  {
   "cell_type": "code",
   "execution_count": 63,
   "id": "d42d6492",
   "metadata": {},
   "outputs": [
    {
     "name": "stdout",
     "output_type": "stream",
     "text": [
      "                            OLS Regression Results                            \n",
      "==============================================================================\n",
      "Dep. Variable:                  Price   R-squared:                       0.277\n",
      "Model:                            OLS   Adj. R-squared:                  0.276\n",
      "Method:                 Least Squares   F-statistic:                     353.8\n",
      "Date:                Fri, 26 May 2023   Prob (F-statistic):           4.37e-67\n",
      "Time:                        17:01:39   Log-Likelihood:                -8369.4\n",
      "No. Observations:                 927   AIC:                         1.674e+04\n",
      "Df Residuals:                     925   BIC:                         1.675e+04\n",
      "Df Model:                           1                                         \n",
      "Covariance Type:            nonrobust                                         \n",
      "==============================================================================\n",
      "                 coef    std err          t      P>|t|      [0.025      0.975]\n",
      "------------------------------------------------------------------------------\n",
      "const       1.236e+04    146.561     84.351      0.000    1.21e+04    1.27e+04\n",
      "KM            -0.0338      0.002    -18.810      0.000      -0.037      -0.030\n",
      "==============================================================================\n",
      "Omnibus:                       88.056   Durbin-Watson:                   1.900\n",
      "Prob(Omnibus):                  0.000   Jarque-Bera (JB):              113.519\n",
      "Skew:                           0.783   Prob(JB):                     2.24e-25\n",
      "Kurtosis:                       3.698   Cond. No.                     1.80e+05\n",
      "==============================================================================\n",
      "\n",
      "Notes:\n",
      "[1] Standard Errors assume that the covariance matrix of the errors is correctly specified.\n",
      "[2] The condition number is large, 1.8e+05. This might indicate that there are\n",
      "strong multicollinearity or other numerical problems.\n"
     ]
    }
   ],
   "source": [
    "# Jarque-Bera Test (Normal Skewness = 0)\n",
    "  # H0: the data is normally distributed\n",
    "  # if p-value < 0.05, then reject normality assumption\n",
    "\n",
    "# Omnibus K-squared normality test (Normal Kurtosis = 3)\n",
    "  # H0: the data is normally distributed\n",
    "  # if p-value < 0.05, then reject normality assumption\n",
    "\n",
    "print(m1.summary())"
   ]
  },
  {
   "cell_type": "code",
   "execution_count": 64,
   "id": "07c3b59d",
   "metadata": {},
   "outputs": [
    {
     "data": {
      "text/plain": [
       "ShapiroResult(statistic=0.9627465605735779, pvalue=1.2403188149939445e-14)"
      ]
     },
     "execution_count": 64,
     "metadata": {},
     "output_type": "execute_result"
    }
   ],
   "source": [
    "# Shapiro-Wilk Test for Normality (instead of Skewness and Kurtosis Test)\n",
    "  # H0: the data is normally distributed\n",
    "  # if p-value < 0.05, then reject normality assumption\n",
    "\n",
    "from scipy.stats import shapiro\n",
    "shapiro_m1 = shapiro(m1.resid)\n",
    "shapiro_m1"
   ]
  },
  {
   "cell_type": "markdown",
   "id": "f7f7dbce",
   "metadata": {},
   "source": [
    "> **result**: Residuals are not Normally Distributed -> reject first Assumption of Regression\n",
    "\n",
    "2. Residuals independency"
   ]
  },
  {
   "cell_type": "code",
   "execution_count": 65,
   "id": "5352d2fb",
   "metadata": {},
   "outputs": [
    {
     "data": {
      "image/png": "[encoded data removed]",
      "text/plain": [
       "<Figure size 432x288 with 1 Axes>"
      ]
     },
     "metadata": {
      "needs_background": "light"
     },
     "output_type": "display_data"
    }
   ],
   "source": [
    "# Diagnostic plot for checking Heroscedasticity problem\n",
    "\n",
    "sns.regplot(x = m1.fittedvalues,\n",
    "            y = m1.resid,\n",
    "            lowess = True,\n",
    "            scatter_kws = {'color': 'black'},\n",
    "            line_kws = {'color': 'red'})\n",
    "plt.xlabel('Fitted Values', fontsize = 12)\n",
    "plt.ylabel('Residuals', fontsize = 12)\n",
    "plt.title('Residuals vs. Fitted Values', fontsize = 12)\n",
    "plt.grid()\n",
    "\n",
    "# Top three observations with the greatest absolute value of the residual\n",
    "top3 = abs(m1.resid).sort_values(ascending = False)[:3]\n",
    "for i in top3.index:\n",
    "    plt.annotate(i, xy = (m1.fittedvalues[i], m1.resid[i]), color = 'red')"
   ]
  },
  {
   "cell_type": "markdown",
   "id": "30712afc",
   "metadata": {},
   "source": [
    "> **result**: We see Heteroscedasticity problem in model (variance of residuals is not constant)"
   ]
  },
  {
   "cell_type": "code",
   "execution_count": 66,
   "id": "9b19e475",
   "metadata": {},
   "outputs": [
    {
     "data": {
      "text/plain": [
       "585     0.001826\n",
       "876     0.000171\n",
       "1123    0.000052\n",
       "680     0.000470\n",
       "689     0.000100\n",
       "          ...   \n",
       "1238    0.001446\n",
       "1147    0.000317\n",
       "106     0.001825\n",
       "1041    0.000045\n",
       "1122    0.000367\n",
       "Name: cooks_d, Length: 927, dtype: float64"
      ]
     },
     "execution_count": 66,
     "metadata": {},
     "output_type": "execute_result"
    }
   ],
   "source": [
    "# Check Cook's distance\n",
    "m1.get_influence().summary_frame().cooks_d  # extract Cook's distance of every observation"
   ]
  },
  {
   "cell_type": "code",
   "execution_count": 70,
   "id": "4cfed999",
   "metadata": {},
   "outputs": [
    {
     "data": {
      "text/plain": [
       "0"
      ]
     },
     "execution_count": 70,
     "metadata": {},
     "output_type": "execute_result"
    }
   ],
   "source": [
    "# if we have a observation with Cook's Distance > 1, that makes a problem\n",
    "sum(m1.get_influence().summary_frame().cooks_d > 1)"
   ]
  },
  {
   "cell_type": "markdown",
   "id": "aa98842b",
   "metadata": {},
   "source": [
    "> **result**: there is no Cook's Distance > 1\n",
    "\n",
    "Our m1 model problems:\n",
    " 1. has Heteroscedasticity problem\n",
    " 2. Errors are not normally distributed\n",
    " \n",
    "> So, this model has problem. and t-test results of it are not reliable yet!\n",
    " \n",
    "## Model 2: Quadratic Regression (Multivariate Regression)"
   ]
  },
  {
   "cell_type": "code",
   "execution_count": 71,
   "id": "7c08d352",
   "metadata": {},
   "outputs": [
    {
     "data": {
      "text/plain": [
       "<matplotlib.collections.PathCollection at 0x2a746be5ea0>"
      ]
     },
     "execution_count": 71,
     "metadata": {},
     "output_type": "execute_result"
    },
    {
     "data": {
      "image/png": "[encoded data removed]",
      "text/plain": [
       "<Figure size 432x288 with 1 Axes>"
      ]
     },
     "metadata": {
      "needs_background": "light"
     },
     "output_type": "display_data"
    }
   ],
   "source": [
    "plt.scatter(x = data['KM'], y = data['Price'])"
   ]
  },
  {
   "cell_type": "markdown",
   "id": "1c313553",
   "metadata": {},
   "source": [
    "> it seems that the relationship between these two variables in this sample and this data-range isn't linear, it is non-linear relationship \n",
    "\n",
    "**Hypothesis**: there is a non-linear relationship between **Price** and **KM** -> fit a 2-degree curve to describe it"
   ]
  },
  {
   "cell_type": "code",
   "execution_count": 72,
   "id": "7f9ea014",
   "metadata": {},
   "outputs": [
    {
     "data": {
      "text/html": [
       "<div>\n",
       "<style scoped>\n",
       "    .dataframe tbody tr th:only-of-type {\n",
       "        vertical-align: middle;\n",
       "    }\n",
       "\n",
       "    .dataframe tbody tr th {\n",
       "        vertical-align: top;\n",
       "    }\n",
       "\n",
       "    .dataframe thead th {\n",
       "        text-align: right;\n",
       "    }\n",
       "</style>\n",
       "<table border=\"1\" class=\"dataframe\">\n",
       "  <thead>\n",
       "    <tr style=\"text-align: right;\">\n",
       "      <th></th>\n",
       "      <th>Price</th>\n",
       "      <th>Age</th>\n",
       "      <th>KM</th>\n",
       "      <th>FuelType</th>\n",
       "      <th>HP</th>\n",
       "      <th>MetColor</th>\n",
       "      <th>Automatic</th>\n",
       "      <th>CC</th>\n",
       "      <th>Doors</th>\n",
       "      <th>Weight</th>\n",
       "      <th>KM_2</th>\n",
       "    </tr>\n",
       "  </thead>\n",
       "  <tbody>\n",
       "    <tr>\n",
       "      <th>585</th>\n",
       "      <td>12250</td>\n",
       "      <td>60</td>\n",
       "      <td>96000</td>\n",
       "      <td>Diesel</td>\n",
       "      <td>72</td>\n",
       "      <td>False</td>\n",
       "      <td>False</td>\n",
       "      <td>2000</td>\n",
       "      <td>4</td>\n",
       "      <td>1100</td>\n",
       "      <td>9216000000</td>\n",
       "    </tr>\n",
       "    <tr>\n",
       "      <th>876</th>\n",
       "      <td>9950</td>\n",
       "      <td>61</td>\n",
       "      <td>44597</td>\n",
       "      <td>Petrol</td>\n",
       "      <td>86</td>\n",
       "      <td>False</td>\n",
       "      <td>False</td>\n",
       "      <td>1300</td>\n",
       "      <td>3</td>\n",
       "      <td>1015</td>\n",
       "      <td>1988892409</td>\n",
       "    </tr>\n",
       "    <tr>\n",
       "      <th>1123</th>\n",
       "      <td>8950</td>\n",
       "      <td>71</td>\n",
       "      <td>83047</td>\n",
       "      <td>Petrol</td>\n",
       "      <td>86</td>\n",
       "      <td>True</td>\n",
       "      <td>True</td>\n",
       "      <td>1300</td>\n",
       "      <td>3</td>\n",
       "      <td>1045</td>\n",
       "      <td>6896804209</td>\n",
       "    </tr>\n",
       "    <tr>\n",
       "      <th>680</th>\n",
       "      <td>7950</td>\n",
       "      <td>68</td>\n",
       "      <td>74889</td>\n",
       "      <td>Petrol</td>\n",
       "      <td>86</td>\n",
       "      <td>True</td>\n",
       "      <td>False</td>\n",
       "      <td>1300</td>\n",
       "      <td>3</td>\n",
       "      <td>1015</td>\n",
       "      <td>5608362321</td>\n",
       "    </tr>\n",
       "    <tr>\n",
       "      <th>689</th>\n",
       "      <td>8995</td>\n",
       "      <td>67</td>\n",
       "      <td>73936</td>\n",
       "      <td>Petrol</td>\n",
       "      <td>86</td>\n",
       "      <td>True</td>\n",
       "      <td>False</td>\n",
       "      <td>1300</td>\n",
       "      <td>5</td>\n",
       "      <td>1050</td>\n",
       "      <td>5466532096</td>\n",
       "    </tr>\n",
       "  </tbody>\n",
       "</table>\n",
       "</div>"
      ],
      "text/plain": [
       "      Price  Age     KM FuelType  HP  MetColor  Automatic    CC Doors  Weight  \\\n",
       "585   12250   60  96000   Diesel  72     False      False  2000     4    1100   \n",
       "876    9950   61  44597   Petrol  86     False      False  1300     3    1015   \n",
       "1123   8950   71  83047   Petrol  86      True       True  1300     3    1045   \n",
       "680    7950   68  74889   Petrol  86      True      False  1300     3    1015   \n",
       "689    8995   67  73936   Petrol  86      True      False  1300     5    1050   \n",
       "\n",
       "            KM_2  \n",
       "585   9216000000  \n",
       "876   1988892409  \n",
       "1123  6896804209  \n",
       "680   5608362321  \n",
       "689   5466532096  "
      ]
     },
     "execution_count": 72,
     "metadata": {},
     "output_type": "execute_result"
    }
   ],
   "source": [
    "train['KM_2'] = train['KM'] ** 2  # create new variable\n",
    "train.head()"
   ]
  },
  {
   "cell_type": "code",
   "execution_count": 73,
   "id": "03f238a6",
   "metadata": {},
   "outputs": [],
   "source": [
    "# Define the feature set X\n",
    "X = train[['KM', 'KM_2']]\n",
    "X = sm.add_constant(X)  # adding a constant\n",
    "\n",
    "# Define response variable\n",
    "y = train['Price']"
   ]
  },
  {
   "cell_type": "code",
   "execution_count": 74,
   "id": "cfc00f7c",
   "metadata": {},
   "outputs": [
    {
     "data": {
      "text/html": [
       "<div>\n",
       "<style scoped>\n",
       "    .dataframe tbody tr th:only-of-type {\n",
       "        vertical-align: middle;\n",
       "    }\n",
       "\n",
       "    .dataframe tbody tr th {\n",
       "        vertical-align: top;\n",
       "    }\n",
       "\n",
       "    .dataframe thead th {\n",
       "        text-align: right;\n",
       "    }\n",
       "</style>\n",
       "<table border=\"1\" class=\"dataframe\">\n",
       "  <thead>\n",
       "    <tr style=\"text-align: right;\">\n",
       "      <th></th>\n",
       "      <th>const</th>\n",
       "      <th>KM</th>\n",
       "      <th>KM_2</th>\n",
       "    </tr>\n",
       "  </thead>\n",
       "  <tbody>\n",
       "    <tr>\n",
       "      <th>585</th>\n",
       "      <td>1.0</td>\n",
       "      <td>96000</td>\n",
       "      <td>9216000000</td>\n",
       "    </tr>\n",
       "    <tr>\n",
       "      <th>876</th>\n",
       "      <td>1.0</td>\n",
       "      <td>44597</td>\n",
       "      <td>1988892409</td>\n",
       "    </tr>\n",
       "    <tr>\n",
       "      <th>1123</th>\n",
       "      <td>1.0</td>\n",
       "      <td>83047</td>\n",
       "      <td>6896804209</td>\n",
       "    </tr>\n",
       "    <tr>\n",
       "      <th>680</th>\n",
       "      <td>1.0</td>\n",
       "      <td>74889</td>\n",
       "      <td>5608362321</td>\n",
       "    </tr>\n",
       "    <tr>\n",
       "      <th>689</th>\n",
       "      <td>1.0</td>\n",
       "      <td>73936</td>\n",
       "      <td>5466532096</td>\n",
       "    </tr>\n",
       "  </tbody>\n",
       "</table>\n",
       "</div>"
      ],
      "text/plain": [
       "      const     KM        KM_2\n",
       "585     1.0  96000  9216000000\n",
       "876     1.0  44597  1988892409\n",
       "1123    1.0  83047  6896804209\n",
       "680     1.0  74889  5608362321\n",
       "689     1.0  73936  5466532096"
      ]
     },
     "execution_count": 74,
     "metadata": {},
     "output_type": "execute_result"
    }
   ],
   "source": [
    "X.head()"
   ]
  },
  {
   "cell_type": "code",
   "execution_count": 75,
   "id": "68d5e4d0",
   "metadata": {},
   "outputs": [
    {
     "data": {
      "text/html": [
       "<table class=\"simpletable\">\n",
       "<caption>OLS Regression Results</caption>\n",
       "<tr>\n",
       "  <th>Dep. Variable:</th>          <td>Price</td>      <th>  R-squared:         </th> <td>   0.305</td> \n",
       "</tr>\n",
       "<tr>\n",
       "  <th>Model:</th>                   <td>OLS</td>       <th>  Adj. R-squared:    </th> <td>   0.303</td> \n",
       "</tr>\n",
       "<tr>\n",
       "  <th>Method:</th>             <td>Least Squares</td>  <th>  F-statistic:       </th> <td>   202.4</td> \n",
       "</tr>\n",
       "<tr>\n",
       "  <th>Date:</th>             <td>Fri, 26 May 2023</td> <th>  Prob (F-statistic):</th> <td>1.30e-73</td> \n",
       "</tr>\n",
       "<tr>\n",
       "  <th>Time:</th>                 <td>20:41:47</td>     <th>  Log-Likelihood:    </th> <td> -8351.2</td> \n",
       "</tr>\n",
       "<tr>\n",
       "  <th>No. Observations:</th>      <td>   927</td>      <th>  AIC:               </th> <td>1.671e+04</td>\n",
       "</tr>\n",
       "<tr>\n",
       "  <th>Df Residuals:</th>          <td>   924</td>      <th>  BIC:               </th> <td>1.672e+04</td>\n",
       "</tr>\n",
       "<tr>\n",
       "  <th>Df Model:</th>              <td>     2</td>      <th>                     </th>     <td> </td>    \n",
       "</tr>\n",
       "<tr>\n",
       "  <th>Covariance Type:</th>      <td>nonrobust</td>    <th>                     </th>     <td> </td>    \n",
       "</tr>\n",
       "</table>\n",
       "<table class=\"simpletable\">\n",
       "<tr>\n",
       "    <td></td>       <th>coef</th>     <th>std err</th>      <th>t</th>      <th>P>|t|</th>  <th>[0.025</th>    <th>0.975]</th>  \n",
       "</tr>\n",
       "<tr>\n",
       "  <th>const</th> <td> 1.364e+04</td> <td>  254.903</td> <td>   53.530</td> <td> 0.000</td> <td> 1.31e+04</td> <td> 1.41e+04</td>\n",
       "</tr>\n",
       "<tr>\n",
       "  <th>KM</th>    <td>   -0.0682</td> <td>    0.006</td> <td>  -11.544</td> <td> 0.000</td> <td>   -0.080</td> <td>   -0.057</td>\n",
       "</tr>\n",
       "<tr>\n",
       "  <th>KM_2</th>  <td> 1.825e-07</td> <td>    3e-08</td> <td>    6.092</td> <td> 0.000</td> <td> 1.24e-07</td> <td> 2.41e-07</td>\n",
       "</tr>\n",
       "</table>\n",
       "<table class=\"simpletable\">\n",
       "<tr>\n",
       "  <th>Omnibus:</th>       <td>82.652</td> <th>  Durbin-Watson:     </th> <td>   1.900</td>\n",
       "</tr>\n",
       "<tr>\n",
       "  <th>Prob(Omnibus):</th> <td> 0.000</td> <th>  Jarque-Bera (JB):  </th> <td> 109.358</td>\n",
       "</tr>\n",
       "<tr>\n",
       "  <th>Skew:</th>          <td> 0.720</td> <th>  Prob(JB):          </th> <td>1.79e-24</td>\n",
       "</tr>\n",
       "<tr>\n",
       "  <th>Kurtosis:</th>      <td> 3.869</td> <th>  Cond. No.          </th> <td>3.86e+10</td>\n",
       "</tr>\n",
       "</table><br/><br/>Notes:<br/>[1] Standard Errors assume that the covariance matrix of the errors is correctly specified.<br/>[2] The condition number is large, 3.86e+10. This might indicate that there are<br/>strong multicollinearity or other numerical problems."
      ],
      "text/plain": [
       "<class 'statsmodels.iolib.summary.Summary'>\n",
       "\"\"\"\n",
       "                            OLS Regression Results                            \n",
       "==============================================================================\n",
       "Dep. Variable:                  Price   R-squared:                       0.305\n",
       "Model:                            OLS   Adj. R-squared:                  0.303\n",
       "Method:                 Least Squares   F-statistic:                     202.4\n",
       "Date:                Fri, 26 May 2023   Prob (F-statistic):           1.30e-73\n",
       "Time:                        20:41:47   Log-Likelihood:                -8351.2\n",
       "No. Observations:                 927   AIC:                         1.671e+04\n",
       "Df Residuals:                     924   BIC:                         1.672e+04\n",
       "Df Model:                           2                                         \n",
       "Covariance Type:            nonrobust                                         \n",
       "==============================================================================\n",
       "                 coef    std err          t      P>|t|      [0.025      0.975]\n",
       "------------------------------------------------------------------------------\n",
       "const       1.364e+04    254.903     53.530      0.000    1.31e+04    1.41e+04\n",
       "KM            -0.0682      0.006    -11.544      0.000      -0.080      -0.057\n",
       "KM_2        1.825e-07      3e-08      6.092      0.000    1.24e-07    2.41e-07\n",
       "==============================================================================\n",
       "Omnibus:                       82.652   Durbin-Watson:                   1.900\n",
       "Prob(Omnibus):                  0.000   Jarque-Bera (JB):              109.358\n",
       "Skew:                           0.720   Prob(JB):                     1.79e-24\n",
       "Kurtosis:                       3.869   Cond. No.                     3.86e+10\n",
       "==============================================================================\n",
       "\n",
       "Notes:\n",
       "[1] Standard Errors assume that the covariance matrix of the errors is correctly specified.\n",
       "[2] The condition number is large, 3.86e+10. This might indicate that there are\n",
       "strong multicollinearity or other numerical problems.\n",
       "\"\"\""
      ]
     },
     "execution_count": 75,
     "metadata": {},
     "output_type": "execute_result"
    }
   ],
   "source": [
    "# Regression model\n",
    "m2 = sm.OLS(y, X).fit()\n",
    "m2.summary()"
   ]
  },
  {
   "cell_type": "markdown",
   "id": "1e83f2cc",
   "metadata": {},
   "source": [
    "Check Assumptions of Regression\n",
    "\n",
    "1. Normality of residuals (Errors)"
   ]
  },
  {
   "cell_type": "code",
   "execution_count": 76,
   "id": "55df920b",
   "metadata": {},
   "outputs": [
    {
     "data": {
      "text/plain": [
       "<Axes: ylabel='Probability'>"
      ]
     },
     "execution_count": 76,
     "metadata": {},
     "output_type": "execute_result"
    },
    {
     "data": {
      "image/png": "[encoded data removed]",
      "text/plain": [
       "<Figure size 432x288 with 1 Axes>"
      ]
     },
     "metadata": {
      "needs_background": "light"
     },
     "output_type": "display_data"
    }
   ],
   "source": [
    "# Plot Histogram of residuals\n",
    "sns.histplot(m2.resid, stat = 'probability',\n",
    "             kde = True, alpha = 0.7, color = 'green',\n",
    "             bins = 20)\n",
    "\n",
    "# skewed to right"
   ]
  },
  {
   "cell_type": "code",
   "execution_count": 77,
   "id": "d1091e22",
   "metadata": {},
   "outputs": [
    {
     "data": {
      "image/png": "[encoded data removed]",
      "text/plain": [
       "<Figure size 432x288 with 1 Axes>"
      ]
     },
     "metadata": {
      "needs_background": "light"
     },
     "output_type": "display_data"
    }
   ],
   "source": [
    "# QQ-plot\n",
    "qqplot_m2 = sm.qqplot(m2.resid, line = 's')\n",
    "plt.show()"
   ]
  },
  {
   "cell_type": "code",
   "execution_count": 78,
   "id": "2f24fef8",
   "metadata": {},
   "outputs": [
    {
     "name": "stdout",
     "output_type": "stream",
     "text": [
      "                            OLS Regression Results                            \n",
      "==============================================================================\n",
      "Dep. Variable:                  Price   R-squared:                       0.305\n",
      "Model:                            OLS   Adj. R-squared:                  0.303\n",
      "Method:                 Least Squares   F-statistic:                     202.4\n",
      "Date:                Fri, 26 May 2023   Prob (F-statistic):           1.30e-73\n",
      "Time:                        20:51:41   Log-Likelihood:                -8351.2\n",
      "No. Observations:                 927   AIC:                         1.671e+04\n",
      "Df Residuals:                     924   BIC:                         1.672e+04\n",
      "Df Model:                           2                                         \n",
      "Covariance Type:            nonrobust                                         \n",
      "==============================================================================\n",
      "                 coef    std err          t      P>|t|      [0.025      0.975]\n",
      "------------------------------------------------------------------------------\n",
      "const       1.364e+04    254.903     53.530      0.000    1.31e+04    1.41e+04\n",
      "KM            -0.0682      0.006    -11.544      0.000      -0.080      -0.057\n",
      "KM_2        1.825e-07      3e-08      6.092      0.000    1.24e-07    2.41e-07\n",
      "==============================================================================\n",
      "Omnibus:                       82.652   Durbin-Watson:                   1.900\n",
      "Prob(Omnibus):                  0.000   Jarque-Bera (JB):              109.358\n",
      "Skew:                           0.720   Prob(JB):                     1.79e-24\n",
      "Kurtosis:                       3.869   Cond. No.                     3.86e+10\n",
      "==============================================================================\n",
      "\n",
      "Notes:\n",
      "[1] Standard Errors assume that the covariance matrix of the errors is correctly specified.\n",
      "[2] The condition number is large, 3.86e+10. This might indicate that there are\n",
      "strong multicollinearity or other numerical problems.\n"
     ]
    }
   ],
   "source": [
    "# Jarque-Bera Test (Skewness = 0 ?)\n",
    "  # H0: the data is normally distributed\n",
    "  # p-value < 0.05 reject normality assumption\n",
    "\n",
    "# Omnibus K-squared normality test\n",
    "  # H0: the data is normally distributed\n",
    "  # p-value < 0.05 reject normality assumption\n",
    "\n",
    "print(m2.summary())"
   ]
  },
  {
   "cell_type": "markdown",
   "id": "923e74e7",
   "metadata": {},
   "source": [
    "> **result**: Residuals are not Normally Distributed -> reject first Assumption of Regression\n",
    "\n",
    "2. Residuals independency"
   ]
  },
  {
   "cell_type": "code",
   "execution_count": 79,
   "id": "fa93bbbe",
   "metadata": {},
   "outputs": [
    {
     "data": {
      "image/png": "[encoded data removed]",
      "text/plain": [
       "<Figure size 432x288 with 1 Axes>"
      ]
     },
     "metadata": {
      "needs_background": "light"
     },
     "output_type": "display_data"
    }
   ],
   "source": [
    "# Diagnostic plot\n",
    "sns.regplot(x = m2.fittedvalues, y = m2.resid, lowess = True,\n",
    "               scatter_kws = {'color': 'black'}, line_kws = {'color': 'red'})\n",
    "plt.xlabel('Fitted Values', fontsize = 12)\n",
    "plt.ylabel('Residuals', fontsize = 12)\n",
    "plt.title('Residuals vs. Fitted Values', fontsize = 12)\n",
    "plt.grid()\n",
    "\n",
    "# Top three observations with the greatest absolute value of the residual\n",
    "top3 = abs(m2.resid).sort_values(ascending = False)[:3]\n",
    "for i in top3.index:\n",
    "    plt.annotate(i, xy = (m2.fittedvalues[i], m2.resid[i]), color = 'red')"
   ]
  },
  {
   "cell_type": "code",
   "execution_count": 80,
   "id": "e87b4ba2",
   "metadata": {},
   "outputs": [
    {
     "data": {
      "text/plain": [
       "0"
      ]
     },
     "execution_count": 80,
     "metadata": {},
     "output_type": "execute_result"
    }
   ],
   "source": [
    "# Check Cook's distance\n",
    "sum(m1.get_influence().summary_frame().cooks_d > 1)  # are any observation with Cook's Distance > 1"
   ]
  },
  {
   "cell_type": "markdown",
   "id": "47638347",
   "metadata": {},
   "source": [
    "Linear Regression vs Quadratic Regression"
   ]
  },
  {
   "cell_type": "code",
   "execution_count": 87,
   "id": "e3765752",
   "metadata": {},
   "outputs": [
    {
     "data": {
      "text/plain": [
       "<matplotlib.legend.Legend at 0x2a746ffcd90>"
      ]
     },
     "execution_count": 87,
     "metadata": {},
     "output_type": "execute_result"
    },
    {
     "data": {
      "image/png": "[encoded data removed]",
      "text/plain": [
       "<Figure size 432x288 with 1 Axes>"
      ]
     },
     "metadata": {
      "needs_background": "light"
     },
     "output_type": "display_data"
    }
   ],
   "source": [
    "plt.scatter(x = train['KM'], y = train['Price'], alpha = 0.6)\n",
    "\n",
    "# fit Linear (1-degree) Regression on data\n",
    "params1 = np.polyfit(train['KM'], train['Price'], 1)  # fit 1-degree\n",
    "xp = np.linspace(train['KM'].min(), train['KM'].max(), 100)  # generate 100 continuous number on X axis\n",
    "yp1 = np.polyval(params1, xp)  # generate equivalent yp for xp\n",
    "plt.plot(xp, yp1, alpha = 0.9, linewidth = 2, color = 'green', label = 'Linear Regression')\n",
    "\n",
    "# fit Quadratic (2-degree) Regression on data\n",
    "params2 = np.polyfit(train['KM'], train['Price'], 2)  # fit 2-degree\n",
    "yp2 = np.polyval(params2, xp)  # generate equivalent yp for xp\n",
    "plt.plot(xp, yp2, alpha = 0.9, linewidth = 2, color = 'red', label = 'Quadratic Regression')\n",
    "\n",
    "plt.xlabel('KM', fontsize = 12)\n",
    "plt.ylabel('Price', fontsize = 12)\n",
    "plt.title('Price vs. KM', fontsize = 12)\n",
    "plt.legend()"
   ]
  },
  {
   "cell_type": "markdown",
   "id": "c889bb10",
   "metadata": {},
   "source": [
    "Check having Multicollinearity problem via VIF"
   ]
  },
  {
   "cell_type": "code",
   "execution_count": 88,
   "id": "ec561ca3",
   "metadata": {},
   "outputs": [],
   "source": [
    "from statsmodels.stats.outliers_influence import variance_inflation_factor\n",
    "\n",
    "def calc_vif(X):  # X: features matrix\n",
    "    vif = pd.DataFrame()\n",
    "    vif['variables'] = X.columns  # column names\n",
    "    vif['VIF'] = [variance_inflation_factor(X.values, i) for i in range(X.shape[1])]\n",
    "    return vif"
   ]
  },
  {
   "cell_type": "code",
   "execution_count": 89,
   "id": "e38a8939",
   "metadata": {},
   "outputs": [
    {
     "data": {
      "text/html": [
       "<div>\n",
       "<style scoped>\n",
       "    .dataframe tbody tr th:only-of-type {\n",
       "        vertical-align: middle;\n",
       "    }\n",
       "\n",
       "    .dataframe tbody tr th {\n",
       "        vertical-align: top;\n",
       "    }\n",
       "\n",
       "    .dataframe thead th {\n",
       "        text-align: right;\n",
       "    }\n",
       "</style>\n",
       "<table border=\"1\" class=\"dataframe\">\n",
       "  <thead>\n",
       "    <tr style=\"text-align: right;\">\n",
       "      <th></th>\n",
       "      <th>variables</th>\n",
       "      <th>VIF</th>\n",
       "    </tr>\n",
       "  </thead>\n",
       "  <tbody>\n",
       "    <tr>\n",
       "      <th>0</th>\n",
       "      <td>const</td>\n",
       "      <td>15.343233</td>\n",
       "    </tr>\n",
       "    <tr>\n",
       "      <th>1</th>\n",
       "      <td>KM</td>\n",
       "      <td>11.195780</td>\n",
       "    </tr>\n",
       "    <tr>\n",
       "      <th>2</th>\n",
       "      <td>KM_2</td>\n",
       "      <td>11.195780</td>\n",
       "    </tr>\n",
       "  </tbody>\n",
       "</table>\n",
       "</div>"
      ],
      "text/plain": [
       "  variables        VIF\n",
       "0     const  15.343233\n",
       "1        KM  11.195780\n",
       "2      KM_2  11.195780"
      ]
     },
     "execution_count": 89,
     "metadata": {},
     "output_type": "execute_result"
    }
   ],
   "source": [
    "calc_vif(X)  # calculate VIF for each variable (if VIF > 10 then Multicollinearity problem is serious)"
   ]
  },
  {
   "cell_type": "markdown",
   "id": "66903878",
   "metadata": {},
   "source": [
    "> We have strong Multicollinearity here because we define KM_2 variable based on KM variable"
   ]
  },
  {
   "cell_type": "code",
   "execution_count": 90,
   "id": "ba731023",
   "metadata": {},
   "outputs": [
    {
     "data": {
      "text/html": [
       "<div>\n",
       "<style scoped>\n",
       "    .dataframe tbody tr th:only-of-type {\n",
       "        vertical-align: middle;\n",
       "    }\n",
       "\n",
       "    .dataframe tbody tr th {\n",
       "        vertical-align: top;\n",
       "    }\n",
       "\n",
       "    .dataframe thead th {\n",
       "        text-align: right;\n",
       "    }\n",
       "</style>\n",
       "<table border=\"1\" class=\"dataframe\">\n",
       "  <thead>\n",
       "    <tr style=\"text-align: right;\">\n",
       "      <th></th>\n",
       "      <th>Price</th>\n",
       "      <th>Age</th>\n",
       "      <th>KM</th>\n",
       "      <th>FuelType</th>\n",
       "      <th>HP</th>\n",
       "      <th>MetColor</th>\n",
       "      <th>Automatic</th>\n",
       "      <th>CC</th>\n",
       "      <th>Doors</th>\n",
       "      <th>Weight</th>\n",
       "      <th>KM_2</th>\n",
       "      <th>KM_scaled</th>\n",
       "      <th>KM_scaled_2</th>\n",
       "    </tr>\n",
       "  </thead>\n",
       "  <tbody>\n",
       "    <tr>\n",
       "      <th>585</th>\n",
       "      <td>12250</td>\n",
       "      <td>60</td>\n",
       "      <td>96000</td>\n",
       "      <td>Diesel</td>\n",
       "      <td>72</td>\n",
       "      <td>False</td>\n",
       "      <td>False</td>\n",
       "      <td>2000</td>\n",
       "      <td>4</td>\n",
       "      <td>1100</td>\n",
       "      <td>9216000000</td>\n",
       "      <td>0.632421</td>\n",
       "      <td>0.399956</td>\n",
       "    </tr>\n",
       "    <tr>\n",
       "      <th>876</th>\n",
       "      <td>9950</td>\n",
       "      <td>61</td>\n",
       "      <td>44597</td>\n",
       "      <td>Petrol</td>\n",
       "      <td>86</td>\n",
       "      <td>False</td>\n",
       "      <td>False</td>\n",
       "      <td>1300</td>\n",
       "      <td>3</td>\n",
       "      <td>1015</td>\n",
       "      <td>1988892409</td>\n",
       "      <td>-0.760577</td>\n",
       "      <td>0.578478</td>\n",
       "    </tr>\n",
       "    <tr>\n",
       "      <th>1123</th>\n",
       "      <td>8950</td>\n",
       "      <td>71</td>\n",
       "      <td>83047</td>\n",
       "      <td>Petrol</td>\n",
       "      <td>86</td>\n",
       "      <td>True</td>\n",
       "      <td>True</td>\n",
       "      <td>1300</td>\n",
       "      <td>3</td>\n",
       "      <td>1045</td>\n",
       "      <td>6896804209</td>\n",
       "      <td>0.281401</td>\n",
       "      <td>0.079186</td>\n",
       "    </tr>\n",
       "    <tr>\n",
       "      <th>680</th>\n",
       "      <td>7950</td>\n",
       "      <td>68</td>\n",
       "      <td>74889</td>\n",
       "      <td>Petrol</td>\n",
       "      <td>86</td>\n",
       "      <td>True</td>\n",
       "      <td>False</td>\n",
       "      <td>1300</td>\n",
       "      <td>3</td>\n",
       "      <td>1015</td>\n",
       "      <td>5608362321</td>\n",
       "      <td>0.060322</td>\n",
       "      <td>0.003639</td>\n",
       "    </tr>\n",
       "    <tr>\n",
       "      <th>689</th>\n",
       "      <td>8995</td>\n",
       "      <td>67</td>\n",
       "      <td>73936</td>\n",
       "      <td>Petrol</td>\n",
       "      <td>86</td>\n",
       "      <td>True</td>\n",
       "      <td>False</td>\n",
       "      <td>1300</td>\n",
       "      <td>5</td>\n",
       "      <td>1050</td>\n",
       "      <td>5466532096</td>\n",
       "      <td>0.034496</td>\n",
       "      <td>0.001190</td>\n",
       "    </tr>\n",
       "  </tbody>\n",
       "</table>\n",
       "</div>"
      ],
      "text/plain": [
       "      Price  Age     KM FuelType  HP  MetColor  Automatic    CC Doors  Weight  \\\n",
       "585   12250   60  96000   Diesel  72     False      False  2000     4    1100   \n",
       "876    9950   61  44597   Petrol  86     False      False  1300     3    1015   \n",
       "1123   8950   71  83047   Petrol  86      True       True  1300     3    1045   \n",
       "680    7950   68  74889   Petrol  86      True      False  1300     3    1015   \n",
       "689    8995   67  73936   Petrol  86      True      False  1300     5    1050   \n",
       "\n",
       "            KM_2  KM_scaled  KM_scaled_2  \n",
       "585   9216000000   0.632421     0.399956  \n",
       "876   1988892409  -0.760577     0.578478  \n",
       "1123  6896804209   0.281401     0.079186  \n",
       "680   5608362321   0.060322     0.003639  \n",
       "689   5466532096   0.034496     0.001190  "
      ]
     },
     "execution_count": 90,
     "metadata": {},
     "output_type": "execute_result"
    }
   ],
   "source": [
    "# Scale variable -> solve Multicollinearity problem\n",
    "train['KM_scaled'] = (train['KM'] - train['KM'].mean()) / train['KM'].std()\n",
    "train['KM_scaled_2'] = train['KM_scaled'] ** 2\n",
    "train.head()"
   ]
  },
  {
   "cell_type": "code",
   "execution_count": 91,
   "id": "3b44f56b",
   "metadata": {},
   "outputs": [],
   "source": [
    "# Define the feature set X\n",
    "X = train[['KM_scaled', 'KM_scaled_2']]\n",
    "X = sm.add_constant(X)\n",
    "\n",
    "# Define response variable\n",
    "y = train['Price']"
   ]
  },
  {
   "cell_type": "code",
   "execution_count": 92,
   "id": "175fe660",
   "metadata": {},
   "outputs": [
    {
     "data": {
      "text/html": [
       "<table class=\"simpletable\">\n",
       "<caption>OLS Regression Results</caption>\n",
       "<tr>\n",
       "  <th>Dep. Variable:</th>          <td>Price</td>      <th>  R-squared:         </th> <td>   0.305</td> \n",
       "</tr>\n",
       "<tr>\n",
       "  <th>Model:</th>                   <td>OLS</td>       <th>  Adj. R-squared:    </th> <td>   0.303</td> \n",
       "</tr>\n",
       "<tr>\n",
       "  <th>Method:</th>             <td>Least Squares</td>  <th>  F-statistic:       </th> <td>   202.4</td> \n",
       "</tr>\n",
       "<tr>\n",
       "  <th>Date:</th>             <td>Fri, 26 May 2023</td> <th>  Prob (F-statistic):</th> <td>1.30e-73</td> \n",
       "</tr>\n",
       "<tr>\n",
       "  <th>Time:</th>                 <td>21:30:20</td>     <th>  Log-Likelihood:    </th> <td> -8351.2</td> \n",
       "</tr>\n",
       "<tr>\n",
       "  <th>No. Observations:</th>      <td>   927</td>      <th>  AIC:               </th> <td>1.671e+04</td>\n",
       "</tr>\n",
       "<tr>\n",
       "  <th>Df Residuals:</th>          <td>   924</td>      <th>  BIC:               </th> <td>1.672e+04</td>\n",
       "</tr>\n",
       "<tr>\n",
       "  <th>Df Model:</th>              <td>     2</td>      <th>                     </th>     <td> </td>    \n",
       "</tr>\n",
       "<tr>\n",
       "  <th>Covariance Type:</th>      <td>nonrobust</td>    <th>                     </th>     <td> </td>    \n",
       "</tr>\n",
       "</table>\n",
       "<table class=\"simpletable\">\n",
       "<tr>\n",
       "       <td></td>          <th>coef</th>     <th>std err</th>      <th>t</th>      <th>P>|t|</th>  <th>[0.025</th>    <th>0.975]</th>  \n",
       "</tr>\n",
       "<tr>\n",
       "  <th>const</th>       <td> 9656.0925</td> <td>   76.779</td> <td>  125.765</td> <td> 0.000</td> <td> 9505.411</td> <td> 9806.774</td>\n",
       "</tr>\n",
       "<tr>\n",
       "  <th>KM_scaled</th>   <td>-1536.3055</td> <td>   80.455</td> <td>  -19.095</td> <td> 0.000</td> <td>-1694.202</td> <td>-1378.409</td>\n",
       "</tr>\n",
       "<tr>\n",
       "  <th>KM_scaled_2</th> <td>  248.4959</td> <td>   40.790</td> <td>    6.092</td> <td> 0.000</td> <td>  168.445</td> <td>  328.547</td>\n",
       "</tr>\n",
       "</table>\n",
       "<table class=\"simpletable\">\n",
       "<tr>\n",
       "  <th>Omnibus:</th>       <td>82.652</td> <th>  Durbin-Watson:     </th> <td>   1.900</td>\n",
       "</tr>\n",
       "<tr>\n",
       "  <th>Prob(Omnibus):</th> <td> 0.000</td> <th>  Jarque-Bera (JB):  </th> <td> 109.358</td>\n",
       "</tr>\n",
       "<tr>\n",
       "  <th>Skew:</th>          <td> 0.720</td> <th>  Prob(JB):          </th> <td>1.79e-24</td>\n",
       "</tr>\n",
       "<tr>\n",
       "  <th>Kurtosis:</th>      <td> 3.869</td> <th>  Cond. No.          </th> <td>    3.39</td>\n",
       "</tr>\n",
       "</table><br/><br/>Notes:<br/>[1] Standard Errors assume that the covariance matrix of the errors is correctly specified."
      ],
      "text/plain": [
       "<class 'statsmodels.iolib.summary.Summary'>\n",
       "\"\"\"\n",
       "                            OLS Regression Results                            \n",
       "==============================================================================\n",
       "Dep. Variable:                  Price   R-squared:                       0.305\n",
       "Model:                            OLS   Adj. R-squared:                  0.303\n",
       "Method:                 Least Squares   F-statistic:                     202.4\n",
       "Date:                Fri, 26 May 2023   Prob (F-statistic):           1.30e-73\n",
       "Time:                        21:30:20   Log-Likelihood:                -8351.2\n",
       "No. Observations:                 927   AIC:                         1.671e+04\n",
       "Df Residuals:                     924   BIC:                         1.672e+04\n",
       "Df Model:                           2                                         \n",
       "Covariance Type:            nonrobust                                         \n",
       "===============================================================================\n",
       "                  coef    std err          t      P>|t|      [0.025      0.975]\n",
       "-------------------------------------------------------------------------------\n",
       "const        9656.0925     76.779    125.765      0.000    9505.411    9806.774\n",
       "KM_scaled   -1536.3055     80.455    -19.095      0.000   -1694.202   -1378.409\n",
       "KM_scaled_2   248.4959     40.790      6.092      0.000     168.445     328.547\n",
       "==============================================================================\n",
       "Omnibus:                       82.652   Durbin-Watson:                   1.900\n",
       "Prob(Omnibus):                  0.000   Jarque-Bera (JB):              109.358\n",
       "Skew:                           0.720   Prob(JB):                     1.79e-24\n",
       "Kurtosis:                       3.869   Cond. No.                         3.39\n",
       "==============================================================================\n",
       "\n",
       "Notes:\n",
       "[1] Standard Errors assume that the covariance matrix of the errors is correctly specified.\n",
       "\"\"\""
      ]
     },
     "execution_count": 92,
     "metadata": {},
     "output_type": "execute_result"
    }
   ],
   "source": [
    "# Regression model\n",
    "m2_2 = sm.OLS(y, X).fit()\n",
    "m2_2.summary()"
   ]
  },
  {
   "cell_type": "code",
   "execution_count": 93,
   "id": "4b33077f",
   "metadata": {},
   "outputs": [
    {
     "data": {
      "text/plain": [
       "<Axes: ylabel='Probability'>"
      ]
     },
     "execution_count": 93,
     "metadata": {},
     "output_type": "execute_result"
    },
    {
     "data": {
      "image/png": "[encoded data removed]",
      "text/plain": [
       "<Figure size 432x288 with 1 Axes>"
      ]
     },
     "metadata": {
      "needs_background": "light"
     },
     "output_type": "display_data"
    }
   ],
   "source": [
    "# Plot Histogram of residuals\n",
    "sns.histplot(m2_2.resid, stat = 'probability',\n",
    "             kde = True, alpha = 0.7, color = 'green',\n",
    "             bins = 20)"
   ]
  },
  {
   "cell_type": "code",
   "execution_count": 94,
   "id": "4a64eb31",
   "metadata": {},
   "outputs": [
    {
     "data": {
      "text/html": [
       "<div>\n",
       "<style scoped>\n",
       "    .dataframe tbody tr th:only-of-type {\n",
       "        vertical-align: middle;\n",
       "    }\n",
       "\n",
       "    .dataframe tbody tr th {\n",
       "        vertical-align: top;\n",
       "    }\n",
       "\n",
       "    .dataframe thead th {\n",
       "        text-align: right;\n",
       "    }\n",
       "</style>\n",
       "<table border=\"1\" class=\"dataframe\">\n",
       "  <thead>\n",
       "    <tr style=\"text-align: right;\">\n",
       "      <th></th>\n",
       "      <th>variables</th>\n",
       "      <th>VIF</th>\n",
       "    </tr>\n",
       "  </thead>\n",
       "  <tbody>\n",
       "    <tr>\n",
       "      <th>0</th>\n",
       "      <td>const</td>\n",
       "      <td>1.392041</td>\n",
       "    </tr>\n",
       "    <tr>\n",
       "      <th>1</th>\n",
       "      <td>KM_scaled</td>\n",
       "      <td>1.526893</td>\n",
       "    </tr>\n",
       "    <tr>\n",
       "      <th>2</th>\n",
       "      <td>KM_scaled_2</td>\n",
       "      <td>1.526893</td>\n",
       "    </tr>\n",
       "  </tbody>\n",
       "</table>\n",
       "</div>"
      ],
      "text/plain": [
       "     variables       VIF\n",
       "0        const  1.392041\n",
       "1    KM_scaled  1.526893\n",
       "2  KM_scaled_2  1.526893"
      ]
     },
     "execution_count": 94,
     "metadata": {},
     "output_type": "execute_result"
    }
   ],
   "source": [
    "calc_vif(X)"
   ]
  },
  {
   "cell_type": "markdown",
   "id": "b0f1e2ce",
   "metadata": {},
   "source": [
    "## Model 3: Use All Variables"
   ]
  },
  {
   "cell_type": "code",
   "execution_count": 96,
   "id": "f64d7ba4",
   "metadata": {},
   "outputs": [
    {
     "data": {
      "text/html": [
       "<table class=\"simpletable\">\n",
       "<caption>OLS Regression Results</caption>\n",
       "<tr>\n",
       "  <th>Dep. Variable:</th>          <td>Price</td>      <th>  R-squared:         </th> <td>   0.790</td> \n",
       "</tr>\n",
       "<tr>\n",
       "  <th>Model:</th>                   <td>OLS</td>       <th>  Adj. R-squared:    </th> <td>   0.787</td> \n",
       "</tr>\n",
       "<tr>\n",
       "  <th>Method:</th>             <td>Least Squares</td>  <th>  F-statistic:       </th> <td>   263.7</td> \n",
       "</tr>\n",
       "<tr>\n",
       "  <th>Date:</th>             <td>Fri, 26 May 2023</td> <th>  Prob (F-statistic):</th> <td>3.19e-298</td>\n",
       "</tr>\n",
       "<tr>\n",
       "  <th>Time:</th>                 <td>21:41:47</td>     <th>  Log-Likelihood:    </th> <td> -7796.9</td> \n",
       "</tr>\n",
       "<tr>\n",
       "  <th>No. Observations:</th>      <td>   927</td>      <th>  AIC:               </th> <td>1.562e+04</td>\n",
       "</tr>\n",
       "<tr>\n",
       "  <th>Df Residuals:</th>          <td>   913</td>      <th>  BIC:               </th> <td>1.569e+04</td>\n",
       "</tr>\n",
       "<tr>\n",
       "  <th>Df Model:</th>              <td>    13</td>      <th>                     </th>     <td> </td>    \n",
       "</tr>\n",
       "<tr>\n",
       "  <th>Covariance Type:</th>      <td>nonrobust</td>    <th>                     </th>     <td> </td>    \n",
       "</tr>\n",
       "</table>\n",
       "<table class=\"simpletable\">\n",
       "<tr>\n",
       "            <td></td>               <th>coef</th>     <th>std err</th>      <th>t</th>      <th>P>|t|</th>  <th>[0.025</th>    <th>0.975]</th>  \n",
       "</tr>\n",
       "<tr>\n",
       "  <th>Intercept</th>             <td> 2181.9203</td> <td> 1954.196</td> <td>    1.117</td> <td> 0.264</td> <td>-1653.318</td> <td> 6017.159</td>\n",
       "</tr>\n",
       "<tr>\n",
       "  <th>C(FuelType)[T.Diesel]</th> <td>-1475.3241</td> <td> 1138.348</td> <td>   -1.296</td> <td> 0.195</td> <td>-3709.407</td> <td>  758.759</td>\n",
       "</tr>\n",
       "<tr>\n",
       "  <th>C(FuelType)[T.Petrol]</th> <td>  879.5914</td> <td>  319.863</td> <td>    2.750</td> <td> 0.006</td> <td>  251.839</td> <td> 1507.344</td>\n",
       "</tr>\n",
       "<tr>\n",
       "  <th>C(MetColor)[T.True]</th>   <td>  -94.4378</td> <td>   77.446</td> <td>   -1.219</td> <td> 0.223</td> <td> -246.431</td> <td>   57.556</td>\n",
       "</tr>\n",
       "<tr>\n",
       "  <th>C(Automatic)[T.True]</th>  <td>  299.9439</td> <td>  162.550</td> <td>    1.845</td> <td> 0.065</td> <td>  -19.070</td> <td>  618.958</td>\n",
       "</tr>\n",
       "<tr>\n",
       "  <th>C(Doors)[T.3]</th>         <td> -421.9525</td> <td> 1105.702</td> <td>   -0.382</td> <td> 0.703</td> <td>-2591.965</td> <td> 1748.060</td>\n",
       "</tr>\n",
       "<tr>\n",
       "  <th>C(Doors)[T.4]</th>         <td> -349.2560</td> <td> 1109.940</td> <td>   -0.315</td> <td> 0.753</td> <td>-2527.587</td> <td> 1829.075</td>\n",
       "</tr>\n",
       "<tr>\n",
       "  <th>C(Doors)[T.5]</th>         <td> -376.3689</td> <td> 1106.010</td> <td>   -0.340</td> <td> 0.734</td> <td>-2546.986</td> <td> 1794.248</td>\n",
       "</tr>\n",
       "<tr>\n",
       "  <th>KM_scaled</th>             <td> -467.6609</td> <td>   56.087</td> <td>   -8.338</td> <td> 0.000</td> <td> -577.734</td> <td> -357.587</td>\n",
       "</tr>\n",
       "<tr>\n",
       "  <th>KM_scaled_2</th>           <td>  -57.8620</td> <td>   24.635</td> <td>   -2.349</td> <td> 0.019</td> <td> -106.209</td> <td>   -9.515</td>\n",
       "</tr>\n",
       "<tr>\n",
       "  <th>Age</th>                   <td> -111.9455</td> <td>    3.081</td> <td>  -36.337</td> <td> 0.000</td> <td> -117.992</td> <td> -105.899</td>\n",
       "</tr>\n",
       "<tr>\n",
       "  <th>HP</th>                    <td>  -17.7352</td> <td>   17.045</td> <td>   -1.040</td> <td> 0.298</td> <td>  -51.188</td> <td>   15.718</td>\n",
       "</tr>\n",
       "<tr>\n",
       "  <th>CC</th>                    <td>    1.9616</td> <td>    1.320</td> <td>    1.486</td> <td> 0.138</td> <td>   -0.629</td> <td>    4.552</td>\n",
       "</tr>\n",
       "<tr>\n",
       "  <th>Weight</th>                <td>   12.1913</td> <td>    1.536</td> <td>    7.937</td> <td> 0.000</td> <td>    9.177</td> <td>   15.206</td>\n",
       "</tr>\n",
       "</table>\n",
       "<table class=\"simpletable\">\n",
       "<tr>\n",
       "  <th>Omnibus:</th>       <td>95.692</td> <th>  Durbin-Watson:     </th> <td>   2.038</td>\n",
       "</tr>\n",
       "<tr>\n",
       "  <th>Prob(Omnibus):</th> <td> 0.000</td> <th>  Jarque-Bera (JB):  </th> <td> 354.232</td>\n",
       "</tr>\n",
       "<tr>\n",
       "  <th>Skew:</th>          <td>-0.437</td> <th>  Prob(JB):          </th> <td>1.20e-77</td>\n",
       "</tr>\n",
       "<tr>\n",
       "  <th>Kurtosis:</th>      <td> 5.900</td> <th>  Cond. No.          </th> <td>1.28e+05</td>\n",
       "</tr>\n",
       "</table><br/><br/>Notes:<br/>[1] Standard Errors assume that the covariance matrix of the errors is correctly specified.<br/>[2] The condition number is large, 1.28e+05. This might indicate that there are<br/>strong multicollinearity or other numerical problems."
      ],
      "text/plain": [
       "<class 'statsmodels.iolib.summary.Summary'>\n",
       "\"\"\"\n",
       "                            OLS Regression Results                            \n",
       "==============================================================================\n",
       "Dep. Variable:                  Price   R-squared:                       0.790\n",
       "Model:                            OLS   Adj. R-squared:                  0.787\n",
       "Method:                 Least Squares   F-statistic:                     263.7\n",
       "Date:                Fri, 26 May 2023   Prob (F-statistic):          3.19e-298\n",
       "Time:                        21:41:47   Log-Likelihood:                -7796.9\n",
       "No. Observations:                 927   AIC:                         1.562e+04\n",
       "Df Residuals:                     913   BIC:                         1.569e+04\n",
       "Df Model:                          13                                         \n",
       "Covariance Type:            nonrobust                                         \n",
       "=========================================================================================\n",
       "                            coef    std err          t      P>|t|      [0.025      0.975]\n",
       "-----------------------------------------------------------------------------------------\n",
       "Intercept              2181.9203   1954.196      1.117      0.264   -1653.318    6017.159\n",
       "C(FuelType)[T.Diesel] -1475.3241   1138.348     -1.296      0.195   -3709.407     758.759\n",
       "C(FuelType)[T.Petrol]   879.5914    319.863      2.750      0.006     251.839    1507.344\n",
       "C(MetColor)[T.True]     -94.4378     77.446     -1.219      0.223    -246.431      57.556\n",
       "C(Automatic)[T.True]    299.9439    162.550      1.845      0.065     -19.070     618.958\n",
       "C(Doors)[T.3]          -421.9525   1105.702     -0.382      0.703   -2591.965    1748.060\n",
       "C(Doors)[T.4]          -349.2560   1109.940     -0.315      0.753   -2527.587    1829.075\n",
       "C(Doors)[T.5]          -376.3689   1106.010     -0.340      0.734   -2546.986    1794.248\n",
       "KM_scaled              -467.6609     56.087     -8.338      0.000    -577.734    -357.587\n",
       "KM_scaled_2             -57.8620     24.635     -2.349      0.019    -106.209      -9.515\n",
       "Age                    -111.9455      3.081    -36.337      0.000    -117.992    -105.899\n",
       "HP                      -17.7352     17.045     -1.040      0.298     -51.188      15.718\n",
       "CC                        1.9616      1.320      1.486      0.138      -0.629       4.552\n",
       "Weight                   12.1913      1.536      7.937      0.000       9.177      15.206\n",
       "==============================================================================\n",
       "Omnibus:                       95.692   Durbin-Watson:                   2.038\n",
       "Prob(Omnibus):                  0.000   Jarque-Bera (JB):              354.232\n",
       "Skew:                          -0.437   Prob(JB):                     1.20e-77\n",
       "Kurtosis:                       5.900   Cond. No.                     1.28e+05\n",
       "==============================================================================\n",
       "\n",
       "Notes:\n",
       "[1] Standard Errors assume that the covariance matrix of the errors is correctly specified.\n",
       "[2] The condition number is large, 1.28e+05. This might indicate that there are\n",
       "strong multicollinearity or other numerical problems.\n",
       "\"\"\""
      ]
     },
     "execution_count": 96,
     "metadata": {},
     "output_type": "execute_result"
    }
   ],
   "source": [
    "import statsmodels.formula.api as smf\n",
    "\n",
    "# Regress 'Price' on all other predictor variables\n",
    "m3 = smf.ols(\n",
    "    formula = 'Price ~ KM_scaled + KM_scaled_2 + Age + C(FuelType) + HP + C(MetColor) + C(Automatic) + CC + C(Doors) + Weight',\n",
    "    data = train).fit()\n",
    "\n",
    "m3.summary()"
   ]
  },
  {
   "cell_type": "markdown",
   "id": "61243271",
   "metadata": {},
   "source": [
    "Remove in-significant variables (consider the t-test results)"
   ]
  },
  {
   "cell_type": "code",
   "execution_count": 97,
   "id": "7b3d508c",
   "metadata": {},
   "outputs": [
    {
     "data": {
      "text/plain": [
       "MetColor\n",
       "False     9655.696774\n",
       "True     10029.236629\n",
       "Name: Price, dtype: float64"
      ]
     },
     "execution_count": 97,
     "metadata": {},
     "output_type": "execute_result"
    }
   ],
   "source": [
    "#Removing variables: MetColor\n",
    "train.groupby(['MetColor'])['Price'].mean()  # calculate mean(Price) for each Category"
   ]
  },
  {
   "cell_type": "code",
   "execution_count": 98,
   "id": "39ddd05b",
   "metadata": {},
   "outputs": [
    {
     "data": {
      "text/plain": [
       "<Axes: xlabel='MetColor', ylabel='Price'>"
      ]
     },
     "execution_count": 98,
     "metadata": {},
     "output_type": "execute_result"
    },
    {
     "data": {
      "image/png": "[encoded data removed]",
      "text/plain": [
       "<Figure size 432x288 with 1 Axes>"
      ]
     },
     "metadata": {
      "needs_background": "light"
     },
     "output_type": "display_data"
    }
   ],
   "source": [
    "# Boxplot for Price vs. MetColor (Descriptive Analysis)\n",
    "sns.boxplot(x = 'MetColor', y = 'Price', data = train, showmeans = True)"
   ]
  },
  {
   "cell_type": "markdown",
   "id": "adfd4138",
   "metadata": {},
   "source": [
    "> **MetColor** is not useful predictor for **Price** (has not significant effect on it)"
   ]
  },
  {
   "cell_type": "code",
   "execution_count": 99,
   "id": "788adb1c",
   "metadata": {},
   "outputs": [
    {
     "data": {
      "text/plain": [
       "Doors\n",
       "2     7950.000000\n",
       "3     9700.551163\n",
       "4     9038.511364\n",
       "5    10310.610294\n",
       "Name: Price, dtype: float64"
      ]
     },
     "execution_count": 99,
     "metadata": {},
     "output_type": "execute_result"
    }
   ],
   "source": [
    "#Removing variables: Doors\n",
    "train.groupby(['Doors'])['Price'].mean()  # calculate mean(Price) for each Category"
   ]
  },
  {
   "cell_type": "code",
   "execution_count": 100,
   "id": "b69034b2",
   "metadata": {},
   "outputs": [
    {
     "data": {
      "text/plain": [
       "<Axes: xlabel='Doors', ylabel='Price'>"
      ]
     },
     "execution_count": 100,
     "metadata": {},
     "output_type": "execute_result"
    },
    {
     "data": {
      "image/png": "[encoded data removed]",
      "text/plain": [
       "<Figure size 432x288 with 1 Axes>"
      ]
     },
     "metadata": {
      "needs_background": "light"
     },
     "output_type": "display_data"
    }
   ],
   "source": [
    "# Boxplot for Price vs. Doors (Descriptive Analysis)\n",
    "sns.boxplot(x = 'Doors', y = 'Price', data = train, showmeans = True)"
   ]
  },
  {
   "cell_type": "markdown",
   "id": "b4e747f8",
   "metadata": {},
   "source": [
    "> **Doors** is not useful predictor for **Price** (has not significant effect on it)"
   ]
  },
  {
   "cell_type": "code",
   "execution_count": 101,
   "id": "bf2e4817",
   "metadata": {},
   "outputs": [
    {
     "data": {
      "text/html": [
       "<div>\n",
       "<style scoped>\n",
       "    .dataframe tbody tr th:only-of-type {\n",
       "        vertical-align: middle;\n",
       "    }\n",
       "\n",
       "    .dataframe tbody tr th {\n",
       "        vertical-align: top;\n",
       "    }\n",
       "\n",
       "    .dataframe thead th {\n",
       "        text-align: right;\n",
       "    }\n",
       "</style>\n",
       "<table border=\"1\" class=\"dataframe\">\n",
       "  <thead>\n",
       "    <tr style=\"text-align: right;\">\n",
       "      <th></th>\n",
       "      <th>Price</th>\n",
       "      <th>HP</th>\n",
       "    </tr>\n",
       "  </thead>\n",
       "  <tbody>\n",
       "    <tr>\n",
       "      <th>Price</th>\n",
       "      <td>1.000000</td>\n",
       "      <td>0.186886</td>\n",
       "    </tr>\n",
       "    <tr>\n",
       "      <th>HP</th>\n",
       "      <td>0.186886</td>\n",
       "      <td>1.000000</td>\n",
       "    </tr>\n",
       "  </tbody>\n",
       "</table>\n",
       "</div>"
      ],
      "text/plain": [
       "          Price        HP\n",
       "Price  1.000000  0.186886\n",
       "HP     0.186886  1.000000"
      ]
     },
     "execution_count": 101,
     "metadata": {},
     "output_type": "execute_result"
    }
   ],
   "source": [
    "#Removing variables: HP\n",
    "train[['Price', 'HP']].corr()"
   ]
  },
  {
   "cell_type": "code",
   "execution_count": 102,
   "id": "b85861e9",
   "metadata": {},
   "outputs": [
    {
     "data": {
      "text/plain": [
       "Text(0, 0.5, 'Price')"
      ]
     },
     "execution_count": 102,
     "metadata": {},
     "output_type": "execute_result"
    },
    {
     "data": {
      "image/png": "[encoded data removed]",
      "text/plain": [
       "<Figure size 432x288 with 1 Axes>"
      ]
     },
     "metadata": {
      "needs_background": "light"
     },
     "output_type": "display_data"
    }
   ],
   "source": [
    "# Scatter plot for Price vs. HP\n",
    "plt.scatter(x = train['HP'], y = train['Price'])\n",
    "plt.title('Price vs. HP')\n",
    "plt.xlabel('HP')\n",
    "plt.ylabel('Price')"
   ]
  },
  {
   "cell_type": "markdown",
   "id": "1405a6cd",
   "metadata": {},
   "source": [
    "> **HP** is not useful predictor for **Price** (has not significant effect on it)"
   ]
  },
  {
   "cell_type": "code",
   "execution_count": 103,
   "id": "87fd9b2c",
   "metadata": {},
   "outputs": [
    {
     "data": {
      "text/html": [
       "<table class=\"simpletable\">\n",
       "<caption>OLS Regression Results</caption>\n",
       "<tr>\n",
       "  <th>Dep. Variable:</th>          <td>Price</td>      <th>  R-squared:         </th> <td>   0.789</td> \n",
       "</tr>\n",
       "<tr>\n",
       "  <th>Model:</th>                   <td>OLS</td>       <th>  Adj. R-squared:    </th> <td>   0.787</td> \n",
       "</tr>\n",
       "<tr>\n",
       "  <th>Method:</th>             <td>Least Squares</td>  <th>  F-statistic:       </th> <td>   428.9</td> \n",
       "</tr>\n",
       "<tr>\n",
       "  <th>Date:</th>             <td>Fri, 26 May 2023</td> <th>  Prob (F-statistic):</th> <td>6.61e-304</td>\n",
       "</tr>\n",
       "<tr>\n",
       "  <th>Time:</th>                 <td>21:55:30</td>     <th>  Log-Likelihood:    </th> <td> -7798.6</td> \n",
       "</tr>\n",
       "<tr>\n",
       "  <th>No. Observations:</th>      <td>   927</td>      <th>  AIC:               </th> <td>1.562e+04</td>\n",
       "</tr>\n",
       "<tr>\n",
       "  <th>Df Residuals:</th>          <td>   918</td>      <th>  BIC:               </th> <td>1.566e+04</td>\n",
       "</tr>\n",
       "<tr>\n",
       "  <th>Df Model:</th>              <td>     8</td>      <th>                     </th>     <td> </td>    \n",
       "</tr>\n",
       "<tr>\n",
       "  <th>Covariance Type:</th>      <td>nonrobust</td>    <th>                     </th>     <td> </td>    \n",
       "</tr>\n",
       "</table>\n",
       "<table class=\"simpletable\">\n",
       "<tr>\n",
       "            <td></td>               <th>coef</th>     <th>std err</th>      <th>t</th>      <th>P>|t|</th>  <th>[0.025</th>    <th>0.975]</th>  \n",
       "</tr>\n",
       "<tr>\n",
       "  <th>Intercept</th>             <td> 2000.1206</td> <td> 1379.085</td> <td>    1.450</td> <td> 0.147</td> <td> -706.405</td> <td> 4706.646</td>\n",
       "</tr>\n",
       "<tr>\n",
       "  <th>C(FuelType)[T.Diesel]</th> <td> -349.6629</td> <td>  344.755</td> <td>   -1.014</td> <td> 0.311</td> <td>-1026.262</td> <td>  326.936</td>\n",
       "</tr>\n",
       "<tr>\n",
       "  <th>C(FuelType)[T.Petrol]</th> <td>  874.2120</td> <td>  317.505</td> <td>    2.753</td> <td> 0.006</td> <td>  251.092</td> <td> 1497.332</td>\n",
       "</tr>\n",
       "<tr>\n",
       "  <th>C(Automatic)[T.True]</th>  <td>  322.1523</td> <td>  158.399</td> <td>    2.034</td> <td> 0.042</td> <td>   11.287</td> <td>  633.018</td>\n",
       "</tr>\n",
       "<tr>\n",
       "  <th>KM_scaled</th>             <td> -462.6837</td> <td>   55.865</td> <td>   -8.282</td> <td> 0.000</td> <td> -572.321</td> <td> -353.046</td>\n",
       "</tr>\n",
       "<tr>\n",
       "  <th>KM_scaled_2</th>           <td>  -52.6333</td> <td>   24.311</td> <td>   -2.165</td> <td> 0.031</td> <td> -100.346</td> <td>   -4.921</td>\n",
       "</tr>\n",
       "<tr>\n",
       "  <th>Age</th>                   <td> -110.8565</td> <td>    2.971</td> <td>  -37.308</td> <td> 0.000</td> <td> -116.688</td> <td> -105.025</td>\n",
       "</tr>\n",
       "<tr>\n",
       "  <th>CC</th>                    <td>    0.6267</td> <td>    0.337</td> <td>    1.858</td> <td> 0.064</td> <td>   -0.035</td> <td>    1.289</td>\n",
       "</tr>\n",
       "<tr>\n",
       "  <th>Weight</th>                <td>   12.0448</td> <td>    1.329</td> <td>    9.063</td> <td> 0.000</td> <td>    9.436</td> <td>   14.653</td>\n",
       "</tr>\n",
       "</table>\n",
       "<table class=\"simpletable\">\n",
       "<tr>\n",
       "  <th>Omnibus:</th>       <td>99.558</td> <th>  Durbin-Watson:     </th> <td>   2.035</td>\n",
       "</tr>\n",
       "<tr>\n",
       "  <th>Prob(Omnibus):</th> <td> 0.000</td> <th>  Jarque-Bera (JB):  </th> <td> 380.449</td>\n",
       "</tr>\n",
       "<tr>\n",
       "  <th>Skew:</th>          <td>-0.449</td> <th>  Prob(JB):          </th> <td>2.44e-83</td>\n",
       "</tr>\n",
       "<tr>\n",
       "  <th>Kurtosis:</th>      <td> 6.007</td> <th>  Cond. No.          </th> <td>7.28e+04</td>\n",
       "</tr>\n",
       "</table><br/><br/>Notes:<br/>[1] Standard Errors assume that the covariance matrix of the errors is correctly specified.<br/>[2] The condition number is large, 7.28e+04. This might indicate that there are<br/>strong multicollinearity or other numerical problems."
      ],
      "text/plain": [
       "<class 'statsmodels.iolib.summary.Summary'>\n",
       "\"\"\"\n",
       "                            OLS Regression Results                            \n",
       "==============================================================================\n",
       "Dep. Variable:                  Price   R-squared:                       0.789\n",
       "Model:                            OLS   Adj. R-squared:                  0.787\n",
       "Method:                 Least Squares   F-statistic:                     428.9\n",
       "Date:                Fri, 26 May 2023   Prob (F-statistic):          6.61e-304\n",
       "Time:                        21:55:30   Log-Likelihood:                -7798.6\n",
       "No. Observations:                 927   AIC:                         1.562e+04\n",
       "Df Residuals:                     918   BIC:                         1.566e+04\n",
       "Df Model:                           8                                         \n",
       "Covariance Type:            nonrobust                                         \n",
       "=========================================================================================\n",
       "                            coef    std err          t      P>|t|      [0.025      0.975]\n",
       "-----------------------------------------------------------------------------------------\n",
       "Intercept              2000.1206   1379.085      1.450      0.147    -706.405    4706.646\n",
       "C(FuelType)[T.Diesel]  -349.6629    344.755     -1.014      0.311   -1026.262     326.936\n",
       "C(FuelType)[T.Petrol]   874.2120    317.505      2.753      0.006     251.092    1497.332\n",
       "C(Automatic)[T.True]    322.1523    158.399      2.034      0.042      11.287     633.018\n",
       "KM_scaled              -462.6837     55.865     -8.282      0.000    -572.321    -353.046\n",
       "KM_scaled_2             -52.6333     24.311     -2.165      0.031    -100.346      -4.921\n",
       "Age                    -110.8565      2.971    -37.308      0.000    -116.688    -105.025\n",
       "CC                        0.6267      0.337      1.858      0.064      -0.035       1.289\n",
       "Weight                   12.0448      1.329      9.063      0.000       9.436      14.653\n",
       "==============================================================================\n",
       "Omnibus:                       99.558   Durbin-Watson:                   2.035\n",
       "Prob(Omnibus):                  0.000   Jarque-Bera (JB):              380.449\n",
       "Skew:                          -0.449   Prob(JB):                     2.44e-83\n",
       "Kurtosis:                       6.007   Cond. No.                     7.28e+04\n",
       "==============================================================================\n",
       "\n",
       "Notes:\n",
       "[1] Standard Errors assume that the covariance matrix of the errors is correctly specified.\n",
       "[2] The condition number is large, 7.28e+04. This might indicate that there are\n",
       "strong multicollinearity or other numerical problems.\n",
       "\"\"\""
      ]
     },
     "execution_count": 103,
     "metadata": {},
     "output_type": "execute_result"
    }
   ],
   "source": [
    "m3 = smf.ols(formula = 'Price ~ KM_scaled + KM_scaled_2 + Age + C(FuelType) + C(Automatic) + CC + Weight',\n",
    "            data = train).fit()\n",
    "\n",
    "m3.summary()"
   ]
  },
  {
   "cell_type": "markdown",
   "id": "2261d093",
   "metadata": {},
   "source": [
    "Check Assumptions of Regression\n",
    "\n",
    "1. Normality of residuals"
   ]
  },
  {
   "cell_type": "code",
   "execution_count": 110,
   "id": "2d86eddd",
   "metadata": {},
   "outputs": [
    {
     "data": {
      "text/plain": [
       "<Axes: ylabel='Probability'>"
      ]
     },
     "execution_count": 110,
     "metadata": {},
     "output_type": "execute_result"
    },
    {
     "data": {
      "image/png": "[encoded data removed]",
      "text/plain": [
       "<Figure size 432x288 with 1 Axes>"
      ]
     },
     "metadata": {
      "needs_background": "light"
     },
     "output_type": "display_data"
    }
   ],
   "source": [
    "# Plot Histogram of residuals\n",
    "sns.histplot(m3.resid, stat = 'probability',\n",
    "             kde = True, alpha = 0.7, color = 'green',\n",
    "             bins = 20)\n",
    "\n",
    "# skewed to left"
   ]
  },
  {
   "cell_type": "code",
   "execution_count": 111,
   "id": "7e878eee",
   "metadata": {},
   "outputs": [
    {
     "data": {
      "image/png": "[encoded data removed]",
      "text/plain": [
       "<Figure size 432x288 with 1 Axes>"
      ]
     },
     "metadata": {
      "needs_background": "light"
     },
     "output_type": "display_data"
    }
   ],
   "source": [
    "# QQ-plot\n",
    "qqplot_m3 = sm.qqplot(m3.resid, line = 's')\n",
    "plt.show()"
   ]
  },
  {
   "cell_type": "markdown",
   "id": "0f5eadf3",
   "metadata": {},
   "source": [
    "## Model 4: Improved Multiple Regression\n",
    "simplify **FuelType** variable to binary **IfPetrol** variable:"
   ]
  },
  {
   "cell_type": "code",
   "execution_count": 112,
   "id": "6f62c55e",
   "metadata": {},
   "outputs": [
    {
     "data": {
      "text/html": [
       "<div>\n",
       "<style scoped>\n",
       "    .dataframe tbody tr th:only-of-type {\n",
       "        vertical-align: middle;\n",
       "    }\n",
       "\n",
       "    .dataframe tbody tr th {\n",
       "        vertical-align: top;\n",
       "    }\n",
       "\n",
       "    .dataframe thead th {\n",
       "        text-align: right;\n",
       "    }\n",
       "</style>\n",
       "<table border=\"1\" class=\"dataframe\">\n",
       "  <thead>\n",
       "    <tr style=\"text-align: right;\">\n",
       "      <th></th>\n",
       "      <th>Price</th>\n",
       "      <th>Age</th>\n",
       "      <th>KM</th>\n",
       "      <th>FuelType</th>\n",
       "      <th>HP</th>\n",
       "      <th>MetColor</th>\n",
       "      <th>Automatic</th>\n",
       "      <th>CC</th>\n",
       "      <th>Doors</th>\n",
       "      <th>Weight</th>\n",
       "      <th>KM_2</th>\n",
       "      <th>KM_scaled</th>\n",
       "      <th>KM_scaled_2</th>\n",
       "      <th>IfPetrol</th>\n",
       "    </tr>\n",
       "  </thead>\n",
       "  <tbody>\n",
       "    <tr>\n",
       "      <th>585</th>\n",
       "      <td>12250</td>\n",
       "      <td>60</td>\n",
       "      <td>96000</td>\n",
       "      <td>Diesel</td>\n",
       "      <td>72</td>\n",
       "      <td>False</td>\n",
       "      <td>False</td>\n",
       "      <td>2000</td>\n",
       "      <td>4</td>\n",
       "      <td>1100</td>\n",
       "      <td>9216000000</td>\n",
       "      <td>0.632421</td>\n",
       "      <td>0.399956</td>\n",
       "      <td>False</td>\n",
       "    </tr>\n",
       "    <tr>\n",
       "      <th>876</th>\n",
       "      <td>9950</td>\n",
       "      <td>61</td>\n",
       "      <td>44597</td>\n",
       "      <td>Petrol</td>\n",
       "      <td>86</td>\n",
       "      <td>False</td>\n",
       "      <td>False</td>\n",
       "      <td>1300</td>\n",
       "      <td>3</td>\n",
       "      <td>1015</td>\n",
       "      <td>1988892409</td>\n",
       "      <td>-0.760577</td>\n",
       "      <td>0.578478</td>\n",
       "      <td>True</td>\n",
       "    </tr>\n",
       "    <tr>\n",
       "      <th>1123</th>\n",
       "      <td>8950</td>\n",
       "      <td>71</td>\n",
       "      <td>83047</td>\n",
       "      <td>Petrol</td>\n",
       "      <td>86</td>\n",
       "      <td>True</td>\n",
       "      <td>True</td>\n",
       "      <td>1300</td>\n",
       "      <td>3</td>\n",
       "      <td>1045</td>\n",
       "      <td>6896804209</td>\n",
       "      <td>0.281401</td>\n",
       "      <td>0.079186</td>\n",
       "      <td>True</td>\n",
       "    </tr>\n",
       "    <tr>\n",
       "      <th>680</th>\n",
       "      <td>7950</td>\n",
       "      <td>68</td>\n",
       "      <td>74889</td>\n",
       "      <td>Petrol</td>\n",
       "      <td>86</td>\n",
       "      <td>True</td>\n",
       "      <td>False</td>\n",
       "      <td>1300</td>\n",
       "      <td>3</td>\n",
       "      <td>1015</td>\n",
       "      <td>5608362321</td>\n",
       "      <td>0.060322</td>\n",
       "      <td>0.003639</td>\n",
       "      <td>True</td>\n",
       "    </tr>\n",
       "    <tr>\n",
       "      <th>689</th>\n",
       "      <td>8995</td>\n",
       "      <td>67</td>\n",
       "      <td>73936</td>\n",
       "      <td>Petrol</td>\n",
       "      <td>86</td>\n",
       "      <td>True</td>\n",
       "      <td>False</td>\n",
       "      <td>1300</td>\n",
       "      <td>5</td>\n",
       "      <td>1050</td>\n",
       "      <td>5466532096</td>\n",
       "      <td>0.034496</td>\n",
       "      <td>0.001190</td>\n",
       "      <td>True</td>\n",
       "    </tr>\n",
       "  </tbody>\n",
       "</table>\n",
       "</div>"
      ],
      "text/plain": [
       "      Price  Age     KM FuelType  HP  MetColor  Automatic    CC Doors  Weight  \\\n",
       "585   12250   60  96000   Diesel  72     False      False  2000     4    1100   \n",
       "876    9950   61  44597   Petrol  86     False      False  1300     3    1015   \n",
       "1123   8950   71  83047   Petrol  86      True       True  1300     3    1045   \n",
       "680    7950   68  74889   Petrol  86      True      False  1300     3    1015   \n",
       "689    8995   67  73936   Petrol  86      True      False  1300     5    1050   \n",
       "\n",
       "            KM_2  KM_scaled  KM_scaled_2 IfPetrol  \n",
       "585   9216000000   0.632421     0.399956    False  \n",
       "876   1988892409  -0.760577     0.578478     True  \n",
       "1123  6896804209   0.281401     0.079186     True  \n",
       "680   5608362321   0.060322     0.003639     True  \n",
       "689   5466532096   0.034496     0.001190     True  "
      ]
     },
     "execution_count": 112,
     "metadata": {},
     "output_type": "execute_result"
    }
   ],
   "source": [
    "train.loc[train['FuelType'] == 'Petrol', 'IfPetrol'] = True\n",
    "train.loc[train['FuelType'] != 'Petrol', 'IfPetrol'] = False\n",
    "train.head()"
   ]
  },
  {
   "cell_type": "code",
   "execution_count": 113,
   "id": "56c22531",
   "metadata": {},
   "outputs": [
    {
     "data": {
      "text/html": [
       "<table class=\"simpletable\">\n",
       "<caption>OLS Regression Results</caption>\n",
       "<tr>\n",
       "  <th>Dep. Variable:</th>          <td>Price</td>      <th>  R-squared:         </th> <td>   0.789</td> \n",
       "</tr>\n",
       "<tr>\n",
       "  <th>Model:</th>                   <td>OLS</td>       <th>  Adj. R-squared:    </th> <td>   0.787</td> \n",
       "</tr>\n",
       "<tr>\n",
       "  <th>Method:</th>             <td>Least Squares</td>  <th>  F-statistic:       </th> <td>   490.0</td> \n",
       "</tr>\n",
       "<tr>\n",
       "  <th>Date:</th>             <td>Fri, 26 May 2023</td> <th>  Prob (F-statistic):</th> <td>4.81e-305</td>\n",
       "</tr>\n",
       "<tr>\n",
       "  <th>Time:</th>                 <td>23:21:38</td>     <th>  Log-Likelihood:    </th> <td> -7799.1</td> \n",
       "</tr>\n",
       "<tr>\n",
       "  <th>No. Observations:</th>      <td>   927</td>      <th>  AIC:               </th> <td>1.561e+04</td>\n",
       "</tr>\n",
       "<tr>\n",
       "  <th>Df Residuals:</th>          <td>   919</td>      <th>  BIC:               </th> <td>1.565e+04</td>\n",
       "</tr>\n",
       "<tr>\n",
       "  <th>Df Model:</th>              <td>     7</td>      <th>                     </th>     <td> </td>    \n",
       "</tr>\n",
       "<tr>\n",
       "  <th>Covariance Type:</th>      <td>nonrobust</td>    <th>                     </th>     <td> </td>    \n",
       "</tr>\n",
       "</table>\n",
       "<table class=\"simpletable\">\n",
       "<tr>\n",
       "            <td></td>              <th>coef</th>     <th>std err</th>      <th>t</th>      <th>P>|t|</th>  <th>[0.025</th>    <th>0.975]</th>  \n",
       "</tr>\n",
       "<tr>\n",
       "  <th>Intercept</th>            <td> 1846.7908</td> <td> 1370.795</td> <td>    1.347</td> <td> 0.178</td> <td> -843.462</td> <td> 4537.044</td>\n",
       "</tr>\n",
       "<tr>\n",
       "  <th>C(IfPetrol)[T.True]</th>  <td> 1136.5972</td> <td>  184.076</td> <td>    6.175</td> <td> 0.000</td> <td>  775.340</td> <td> 1497.855</td>\n",
       "</tr>\n",
       "<tr>\n",
       "  <th>C(Automatic)[T.True]</th> <td>  326.0463</td> <td>  158.354</td> <td>    2.059</td> <td> 0.040</td> <td>   15.268</td> <td>  636.825</td>\n",
       "</tr>\n",
       "<tr>\n",
       "  <th>KM_scaled</th>            <td> -460.6101</td> <td>   55.828</td> <td>   -8.250</td> <td> 0.000</td> <td> -570.176</td> <td> -351.044</td>\n",
       "</tr>\n",
       "<tr>\n",
       "  <th>KM_scaled_2</th>          <td>  -55.4812</td> <td>   24.149</td> <td>   -2.297</td> <td> 0.022</td> <td> -102.875</td> <td>   -8.088</td>\n",
       "</tr>\n",
       "<tr>\n",
       "  <th>Age</th>                  <td> -110.9004</td> <td>    2.971</td> <td>  -37.326</td> <td> 0.000</td> <td> -116.731</td> <td> -105.069</td>\n",
       "</tr>\n",
       "<tr>\n",
       "  <th>CC</th>                   <td>    0.5247</td> <td>    0.322</td> <td>    1.629</td> <td> 0.104</td> <td>   -0.107</td> <td>    1.157</td>\n",
       "</tr>\n",
       "<tr>\n",
       "  <th>Weight</th>               <td>   12.0913</td> <td>    1.328</td> <td>    9.103</td> <td> 0.000</td> <td>    9.484</td> <td>   14.698</td>\n",
       "</tr>\n",
       "</table>\n",
       "<table class=\"simpletable\">\n",
       "<tr>\n",
       "  <th>Omnibus:</th>       <td>103.106</td> <th>  Durbin-Watson:     </th> <td>   2.035</td>\n",
       "</tr>\n",
       "<tr>\n",
       "  <th>Prob(Omnibus):</th> <td> 0.000</td>  <th>  Jarque-Bera (JB):  </th> <td> 408.249</td>\n",
       "</tr>\n",
       "<tr>\n",
       "  <th>Skew:</th>          <td>-0.458</td>  <th>  Prob(JB):          </th> <td>2.24e-89</td>\n",
       "</tr>\n",
       "<tr>\n",
       "  <th>Kurtosis:</th>      <td> 6.120</td>  <th>  Cond. No.          </th> <td>7.22e+04</td>\n",
       "</tr>\n",
       "</table><br/><br/>Notes:<br/>[1] Standard Errors assume that the covariance matrix of the errors is correctly specified.<br/>[2] The condition number is large, 7.22e+04. This might indicate that there are<br/>strong multicollinearity or other numerical problems."
      ],
      "text/plain": [
       "<class 'statsmodels.iolib.summary.Summary'>\n",
       "\"\"\"\n",
       "                            OLS Regression Results                            \n",
       "==============================================================================\n",
       "Dep. Variable:                  Price   R-squared:                       0.789\n",
       "Model:                            OLS   Adj. R-squared:                  0.787\n",
       "Method:                 Least Squares   F-statistic:                     490.0\n",
       "Date:                Fri, 26 May 2023   Prob (F-statistic):          4.81e-305\n",
       "Time:                        23:21:38   Log-Likelihood:                -7799.1\n",
       "No. Observations:                 927   AIC:                         1.561e+04\n",
       "Df Residuals:                     919   BIC:                         1.565e+04\n",
       "Df Model:                           7                                         \n",
       "Covariance Type:            nonrobust                                         \n",
       "========================================================================================\n",
       "                           coef    std err          t      P>|t|      [0.025      0.975]\n",
       "----------------------------------------------------------------------------------------\n",
       "Intercept             1846.7908   1370.795      1.347      0.178    -843.462    4537.044\n",
       "C(IfPetrol)[T.True]   1136.5972    184.076      6.175      0.000     775.340    1497.855\n",
       "C(Automatic)[T.True]   326.0463    158.354      2.059      0.040      15.268     636.825\n",
       "KM_scaled             -460.6101     55.828     -8.250      0.000    -570.176    -351.044\n",
       "KM_scaled_2            -55.4812     24.149     -2.297      0.022    -102.875      -8.088\n",
       "Age                   -110.9004      2.971    -37.326      0.000    -116.731    -105.069\n",
       "CC                       0.5247      0.322      1.629      0.104      -0.107       1.157\n",
       "Weight                  12.0913      1.328      9.103      0.000       9.484      14.698\n",
       "==============================================================================\n",
       "Omnibus:                      103.106   Durbin-Watson:                   2.035\n",
       "Prob(Omnibus):                  0.000   Jarque-Bera (JB):              408.249\n",
       "Skew:                          -0.458   Prob(JB):                     2.24e-89\n",
       "Kurtosis:                       6.120   Cond. No.                     7.22e+04\n",
       "==============================================================================\n",
       "\n",
       "Notes:\n",
       "[1] Standard Errors assume that the covariance matrix of the errors is correctly specified.\n",
       "[2] The condition number is large, 7.22e+04. This might indicate that there are\n",
       "strong multicollinearity or other numerical problems.\n",
       "\"\"\""
      ]
     },
     "execution_count": 113,
     "metadata": {},
     "output_type": "execute_result"
    }
   ],
   "source": [
    "# Regression model\n",
    "m4 = smf.ols(formula = 'Price ~ KM_scaled + KM_scaled_2 + Age + C(IfPetrol) + C(Automatic) + CC + Weight',\n",
    "            data = train).fit()\n",
    "\n",
    "m4.summary()"
   ]
  },
  {
   "cell_type": "markdown",
   "id": "d7a1e575",
   "metadata": {},
   "source": [
    "Check Assumptions of Regression\n",
    "\n",
    "1. Normality of residuals"
   ]
  },
  {
   "cell_type": "code",
   "execution_count": 114,
   "id": "099c6711",
   "metadata": {},
   "outputs": [
    {
     "data": {
      "text/plain": [
       "<Axes: ylabel='Probability'>"
      ]
     },
     "execution_count": 114,
     "metadata": {},
     "output_type": "execute_result"
    },
    {
     "data": {
      "image/png": "[encoded data removed]",
      "text/plain": [
       "<Figure size 432x288 with 1 Axes>"
      ]
     },
     "metadata": {
      "needs_background": "light"
     },
     "output_type": "display_data"
    }
   ],
   "source": [
    "# Plot Histogram of residuals\n",
    "sns.histplot(m4.resid, stat = 'probability',\n",
    "            kde = True, alpha = 0.7, color = 'green',\n",
    "            bins = 25)\n",
    "\n",
    "# skewed to left"
   ]
  },
  {
   "cell_type": "code",
   "execution_count": 115,
   "id": "f6b501d1",
   "metadata": {},
   "outputs": [
    {
     "data": {
      "image/png": "[encoded data removed]",
      "text/plain": [
       "<Figure size 432x288 with 1 Axes>"
      ]
     },
     "metadata": {
      "needs_background": "light"
     },
     "output_type": "display_data"
    }
   ],
   "source": [
    "# QQ-plot\n",
    "qqplot_m4 = sm.qqplot(m4.resid, line = 's')\n",
    "plt.show()"
   ]
  },
  {
   "cell_type": "code",
   "execution_count": 116,
   "id": "a4833948",
   "metadata": {},
   "outputs": [
    {
     "name": "stdout",
     "output_type": "stream",
     "text": [
      "                            OLS Regression Results                            \n",
      "==============================================================================\n",
      "Dep. Variable:                  Price   R-squared:                       0.789\n",
      "Model:                            OLS   Adj. R-squared:                  0.787\n",
      "Method:                 Least Squares   F-statistic:                     490.0\n",
      "Date:                Fri, 26 May 2023   Prob (F-statistic):          4.81e-305\n",
      "Time:                        23:24:23   Log-Likelihood:                -7799.1\n",
      "No. Observations:                 927   AIC:                         1.561e+04\n",
      "Df Residuals:                     919   BIC:                         1.565e+04\n",
      "Df Model:                           7                                         \n",
      "Covariance Type:            nonrobust                                         \n",
      "========================================================================================\n",
      "                           coef    std err          t      P>|t|      [0.025      0.975]\n",
      "----------------------------------------------------------------------------------------\n",
      "Intercept             1846.7908   1370.795      1.347      0.178    -843.462    4537.044\n",
      "C(IfPetrol)[T.True]   1136.5972    184.076      6.175      0.000     775.340    1497.855\n",
      "C(Automatic)[T.True]   326.0463    158.354      2.059      0.040      15.268     636.825\n",
      "KM_scaled             -460.6101     55.828     -8.250      0.000    -570.176    -351.044\n",
      "KM_scaled_2            -55.4812     24.149     -2.297      0.022    -102.875      -8.088\n",
      "Age                   -110.9004      2.971    -37.326      0.000    -116.731    -105.069\n",
      "CC                       0.5247      0.322      1.629      0.104      -0.107       1.157\n",
      "Weight                  12.0913      1.328      9.103      0.000       9.484      14.698\n",
      "==============================================================================\n",
      "Omnibus:                      103.106   Durbin-Watson:                   2.035\n",
      "Prob(Omnibus):                  0.000   Jarque-Bera (JB):              408.249\n",
      "Skew:                          -0.458   Prob(JB):                     2.24e-89\n",
      "Kurtosis:                       6.120   Cond. No.                     7.22e+04\n",
      "==============================================================================\n",
      "\n",
      "Notes:\n",
      "[1] Standard Errors assume that the covariance matrix of the errors is correctly specified.\n",
      "[2] The condition number is large, 7.22e+04. This might indicate that there are\n",
      "strong multicollinearity or other numerical problems.\n"
     ]
    }
   ],
   "source": [
    "# Jarque-Bera Test (Skewness = 0 ?)\n",
    "  # H0: the data is normally distributed\n",
    "  # p-value < 0.05 reject normality assumption\n",
    "\n",
    "# Omnibus K-squared normality test\n",
    "  # H0: the data is normally distributed\n",
    "  # p-value < 0.05 reject normality assumption\n",
    "\n",
    "print(m4.summary())"
   ]
  },
  {
   "cell_type": "markdown",
   "id": "203be89e",
   "metadata": {},
   "source": [
    "Remove some few outliers"
   ]
  },
  {
   "cell_type": "code",
   "execution_count": 117,
   "id": "e56b9d03",
   "metadata": {},
   "outputs": [
    {
     "data": {
      "image/png": "[encoded data removed]",
      "text/plain": [
       "<Figure size 432x288 with 1 Axes>"
      ]
     },
     "metadata": {
      "needs_background": "light"
     },
     "output_type": "display_data"
    }
   ],
   "source": [
    "# Remove the outliers which have the most impact on the Regression line\n",
    "sns.regplot(x = m4.fittedvalues, y = m4.resid, lowess = True,\n",
    "               scatter_kws = {'color': 'black'}, line_kws = {'color': 'red'})\n",
    "plt.xlabel('Fitted Values', fontsize = 12)\n",
    "plt.ylabel('Residuals', fontsize = 12)\n",
    "plt.title('Residuals vs. Fitted Values', fontsize = 12)\n",
    "plt.grid()\n",
    "\n",
    "# Top three observations with the greatest absolute value of residual\n",
    "top3 = abs(m4.resid).sort_values(ascending = False)[:3]\n",
    "for i in top3.index:\n",
    "    plt.annotate(i, xy = (m4.fittedvalues[i], m4.resid[i]), color = 'red')"
   ]
  },
  {
   "cell_type": "markdown",
   "id": "d9ca6e7b",
   "metadata": {},
   "source": [
    "Observations with the greatest residual"
   ]
  },
  {
   "cell_type": "code",
   "execution_count": 118,
   "id": "cd5f0cf4",
   "metadata": {},
   "outputs": [
    {
     "data": {
      "text/plain": [
       "113    4231.094633\n",
       "947    4081.783349\n",
       "446    3076.692507\n",
       "585    3020.940932\n",
       "943    3020.931072\n",
       "dtype: float64"
      ]
     },
     "execution_count": 118,
     "metadata": {},
     "output_type": "execute_result"
    }
   ],
   "source": [
    "m4.resid.sort_values(ascending = False)[:5]  # first 5 positive residuals (top 5)"
   ]
  },
  {
   "cell_type": "code",
   "execution_count": 119,
   "id": "bc1de4e9",
   "metadata": {},
   "outputs": [
    {
     "data": {
      "text/plain": [
       "111   -6001.790387\n",
       "490   -5778.033276\n",
       "82    -5711.383601\n",
       "283   -4716.949871\n",
       "292   -4673.790394\n",
       "dtype: float64"
      ]
     },
     "execution_count": 119,
     "metadata": {},
     "output_type": "execute_result"
    }
   ],
   "source": [
    "m4.resid.sort_values(ascending = True)[:5]  # first 5 negative residuals (bottom 5)"
   ]
  },
  {
   "cell_type": "markdown",
   "id": "94a6c6ea",
   "metadata": {},
   "source": [
    "Remove Cases"
   ]
  },
  {
   "cell_type": "code",
   "execution_count": 125,
   "id": "e300174a",
   "metadata": {},
   "outputs": [],
   "source": [
    "# remove 10 observations with the greatest absolute Errors\n",
    "train2 = train.drop(index = [82, 111, 113, 283, 292, 446, 490, 585, 943, 947])"
   ]
  },
  {
   "cell_type": "code",
   "execution_count": 126,
   "id": "819ffc9c",
   "metadata": {},
   "outputs": [
    {
     "data": {
      "text/plain": [
       "(917, 14)"
      ]
     },
     "execution_count": 126,
     "metadata": {},
     "output_type": "execute_result"
    }
   ],
   "source": [
    "train2.shape"
   ]
  },
  {
   "cell_type": "code",
   "execution_count": 127,
   "id": "cbd0c746",
   "metadata": {},
   "outputs": [
    {
     "data": {
      "text/html": [
       "<div>\n",
       "<style scoped>\n",
       "    .dataframe tbody tr th:only-of-type {\n",
       "        vertical-align: middle;\n",
       "    }\n",
       "\n",
       "    .dataframe tbody tr th {\n",
       "        vertical-align: top;\n",
       "    }\n",
       "\n",
       "    .dataframe thead th {\n",
       "        text-align: right;\n",
       "    }\n",
       "</style>\n",
       "<table border=\"1\" class=\"dataframe\">\n",
       "  <thead>\n",
       "    <tr style=\"text-align: right;\">\n",
       "      <th></th>\n",
       "      <th>Price</th>\n",
       "      <th>Age</th>\n",
       "      <th>KM</th>\n",
       "      <th>FuelType</th>\n",
       "      <th>HP</th>\n",
       "      <th>MetColor</th>\n",
       "      <th>Automatic</th>\n",
       "      <th>CC</th>\n",
       "      <th>Doors</th>\n",
       "      <th>Weight</th>\n",
       "      <th>KM_2</th>\n",
       "      <th>KM_scaled</th>\n",
       "      <th>KM_scaled_2</th>\n",
       "      <th>IfPetrol</th>\n",
       "    </tr>\n",
       "  </thead>\n",
       "  <tbody>\n",
       "    <tr>\n",
       "      <th>490</th>\n",
       "      <td>7500</td>\n",
       "      <td>50</td>\n",
       "      <td>1</td>\n",
       "      <td>Diesel</td>\n",
       "      <td>90</td>\n",
       "      <td>True</td>\n",
       "      <td>False</td>\n",
       "      <td>2000</td>\n",
       "      <td>3</td>\n",
       "      <td>1260</td>\n",
       "      <td>1</td>\n",
       "      <td>-1.969109</td>\n",
       "      <td>3.877392</td>\n",
       "      <td>False</td>\n",
       "    </tr>\n",
       "  </tbody>\n",
       "</table>\n",
       "</div>"
      ],
      "text/plain": [
       "     Price  Age  KM FuelType  HP  MetColor  Automatic    CC Doors  Weight  \\\n",
       "490   7500   50   1   Diesel  90      True      False  2000     3    1260   \n",
       "\n",
       "     KM_2  KM_scaled  KM_scaled_2 IfPetrol  \n",
       "490     1  -1.969109     3.877392    False  "
      ]
     },
     "execution_count": 127,
     "metadata": {},
     "output_type": "execute_result"
    }
   ],
   "source": [
    "train[train.index == 490]  # see observation with index 490"
   ]
  },
  {
   "cell_type": "code",
   "execution_count": 128,
   "id": "9aae6eb6",
   "metadata": {},
   "outputs": [
    {
     "data": {
      "text/html": [
       "<table class=\"simpletable\">\n",
       "<caption>OLS Regression Results</caption>\n",
       "<tr>\n",
       "  <th>Dep. Variable:</th>          <td>Price</td>      <th>  R-squared:         </th> <td>   0.833</td> \n",
       "</tr>\n",
       "<tr>\n",
       "  <th>Model:</th>                   <td>OLS</td>       <th>  Adj. R-squared:    </th> <td>   0.832</td> \n",
       "</tr>\n",
       "<tr>\n",
       "  <th>Method:</th>             <td>Least Squares</td>  <th>  F-statistic:       </th> <td>   647.1</td> \n",
       "</tr>\n",
       "<tr>\n",
       "  <th>Date:</th>             <td>Fri, 26 May 2023</td> <th>  Prob (F-statistic):</th>  <td>  0.00</td>  \n",
       "</tr>\n",
       "<tr>\n",
       "  <th>Time:</th>                 <td>23:40:59</td>     <th>  Log-Likelihood:    </th> <td> -7600.0</td> \n",
       "</tr>\n",
       "<tr>\n",
       "  <th>No. Observations:</th>      <td>   917</td>      <th>  AIC:               </th> <td>1.522e+04</td>\n",
       "</tr>\n",
       "<tr>\n",
       "  <th>Df Residuals:</th>          <td>   909</td>      <th>  BIC:               </th> <td>1.525e+04</td>\n",
       "</tr>\n",
       "<tr>\n",
       "  <th>Df Model:</th>              <td>     7</td>      <th>                     </th>     <td> </td>    \n",
       "</tr>\n",
       "<tr>\n",
       "  <th>Covariance Type:</th>      <td>nonrobust</td>    <th>                     </th>     <td> </td>    \n",
       "</tr>\n",
       "</table>\n",
       "<table class=\"simpletable\">\n",
       "<tr>\n",
       "            <td></td>              <th>coef</th>     <th>std err</th>      <th>t</th>      <th>P>|t|</th>  <th>[0.025</th>    <th>0.975]</th>  \n",
       "</tr>\n",
       "<tr>\n",
       "  <th>Intercept</th>            <td>-8392.4088</td> <td> 1579.593</td> <td>   -5.313</td> <td> 0.000</td> <td>-1.15e+04</td> <td>-5292.335</td>\n",
       "</tr>\n",
       "<tr>\n",
       "  <th>C(IfPetrol)[T.True]</th>  <td> 1340.9144</td> <td>  168.974</td> <td>    7.936</td> <td> 0.000</td> <td> 1009.291</td> <td> 1672.538</td>\n",
       "</tr>\n",
       "<tr>\n",
       "  <th>C(Automatic)[T.True]</th> <td>   88.7625</td> <td>  141.760</td> <td>    0.626</td> <td> 0.531</td> <td> -189.452</td> <td>  366.977</td>\n",
       "</tr>\n",
       "<tr>\n",
       "  <th>KM_scaled</th>            <td> -479.3000</td> <td>   50.087</td> <td>   -9.569</td> <td> 0.000</td> <td> -577.600</td> <td> -381.000</td>\n",
       "</tr>\n",
       "<tr>\n",
       "  <th>KM_scaled_2</th>          <td>  -57.4587</td> <td>   21.638</td> <td>   -2.655</td> <td> 0.008</td> <td>  -99.925</td> <td>  -14.993</td>\n",
       "</tr>\n",
       "<tr>\n",
       "  <th>Age</th>                  <td> -104.7078</td> <td>    2.719</td> <td>  -38.507</td> <td> 0.000</td> <td> -110.044</td> <td>  -99.371</td>\n",
       "</tr>\n",
       "<tr>\n",
       "  <th>CC</th>                   <td>   -0.6610</td> <td>    0.309</td> <td>   -2.137</td> <td> 0.033</td> <td>   -1.268</td> <td>   -0.054</td>\n",
       "</tr>\n",
       "<tr>\n",
       "  <th>Weight</th>               <td>   22.9613</td> <td>    1.584</td> <td>   14.492</td> <td> 0.000</td> <td>   19.852</td> <td>   26.071</td>\n",
       "</tr>\n",
       "</table>\n",
       "<table class=\"simpletable\">\n",
       "<tr>\n",
       "  <th>Omnibus:</th>       <td> 2.983</td> <th>  Durbin-Watson:     </th> <td>   2.016</td>\n",
       "</tr>\n",
       "<tr>\n",
       "  <th>Prob(Omnibus):</th> <td> 0.225</td> <th>  Jarque-Bera (JB):  </th> <td>   3.168</td>\n",
       "</tr>\n",
       "<tr>\n",
       "  <th>Skew:</th>          <td>-0.048</td> <th>  Prob(JB):          </th> <td>   0.205</td>\n",
       "</tr>\n",
       "<tr>\n",
       "  <th>Kurtosis:</th>      <td> 3.272</td> <th>  Cond. No.          </th> <td>9.36e+04</td>\n",
       "</tr>\n",
       "</table><br/><br/>Notes:<br/>[1] Standard Errors assume that the covariance matrix of the errors is correctly specified.<br/>[2] The condition number is large, 9.36e+04. This might indicate that there are<br/>strong multicollinearity or other numerical problems."
      ],
      "text/plain": [
       "<class 'statsmodels.iolib.summary.Summary'>\n",
       "\"\"\"\n",
       "                            OLS Regression Results                            \n",
       "==============================================================================\n",
       "Dep. Variable:                  Price   R-squared:                       0.833\n",
       "Model:                            OLS   Adj. R-squared:                  0.832\n",
       "Method:                 Least Squares   F-statistic:                     647.1\n",
       "Date:                Fri, 26 May 2023   Prob (F-statistic):               0.00\n",
       "Time:                        23:40:59   Log-Likelihood:                -7600.0\n",
       "No. Observations:                 917   AIC:                         1.522e+04\n",
       "Df Residuals:                     909   BIC:                         1.525e+04\n",
       "Df Model:                           7                                         \n",
       "Covariance Type:            nonrobust                                         \n",
       "========================================================================================\n",
       "                           coef    std err          t      P>|t|      [0.025      0.975]\n",
       "----------------------------------------------------------------------------------------\n",
       "Intercept            -8392.4088   1579.593     -5.313      0.000   -1.15e+04   -5292.335\n",
       "C(IfPetrol)[T.True]   1340.9144    168.974      7.936      0.000    1009.291    1672.538\n",
       "C(Automatic)[T.True]    88.7625    141.760      0.626      0.531    -189.452     366.977\n",
       "KM_scaled             -479.3000     50.087     -9.569      0.000    -577.600    -381.000\n",
       "KM_scaled_2            -57.4587     21.638     -2.655      0.008     -99.925     -14.993\n",
       "Age                   -104.7078      2.719    -38.507      0.000    -110.044     -99.371\n",
       "CC                      -0.6610      0.309     -2.137      0.033      -1.268      -0.054\n",
       "Weight                  22.9613      1.584     14.492      0.000      19.852      26.071\n",
       "==============================================================================\n",
       "Omnibus:                        2.983   Durbin-Watson:                   2.016\n",
       "Prob(Omnibus):                  0.225   Jarque-Bera (JB):                3.168\n",
       "Skew:                          -0.048   Prob(JB):                        0.205\n",
       "Kurtosis:                       3.272   Cond. No.                     9.36e+04\n",
       "==============================================================================\n",
       "\n",
       "Notes:\n",
       "[1] Standard Errors assume that the covariance matrix of the errors is correctly specified.\n",
       "[2] The condition number is large, 9.36e+04. This might indicate that there are\n",
       "strong multicollinearity or other numerical problems.\n",
       "\"\"\""
      ]
     },
     "execution_count": 128,
     "metadata": {},
     "output_type": "execute_result"
    }
   ],
   "source": [
    "# Regression model\n",
    "m4_2 = smf.ols(formula = 'Price ~ KM_scaled + KM_scaled_2 + Age + C(IfPetrol) + C(Automatic) + CC + Weight',\n",
    "              data = train2).fit()\n",
    "\n",
    "m4_2.summary()"
   ]
  },
  {
   "cell_type": "markdown",
   "id": "3fdd4a49",
   "metadata": {},
   "source": [
    "* Adj. R-squared improved: 83%\n",
    "* **Automatic** is not significant\n",
    "* Prob(JB) and Prob(Omnibus) are > 0.05 -> residuals are Normally distributed\n",
    "\n",
    "Check Assumptions of Regression\n",
    "1. Normality of residuals"
   ]
  },
  {
   "cell_type": "code",
   "execution_count": 129,
   "id": "fdb35479",
   "metadata": {},
   "outputs": [
    {
     "data": {
      "text/plain": [
       "<Axes: ylabel='Probability'>"
      ]
     },
     "execution_count": 129,
     "metadata": {},
     "output_type": "execute_result"
    },
    {
     "data": {
      "image/png": "[encoded data removed]",
      "text/plain": [
       "<Figure size 432x288 with 1 Axes>"
      ]
     },
     "metadata": {
      "needs_background": "light"
     },
     "output_type": "display_data"
    }
   ],
   "source": [
    "# Plot Histogram of residuals\n",
    "sns.histplot(m4_2.resid, stat = 'probability',\n",
    "            kde = True, alpha = 0.7, color = 'green',\n",
    "            bins = 20)"
   ]
  },
  {
   "cell_type": "code",
   "execution_count": 130,
   "id": "0454298e",
   "metadata": {},
   "outputs": [
    {
     "data": {
      "image/png": "[encoded data removed]",
      "text/plain": [
       "<Figure size 432x288 with 1 Axes>"
      ]
     },
     "metadata": {
      "needs_background": "light"
     },
     "output_type": "display_data"
    }
   ],
   "source": [
    "# QQ-plot\n",
    "qqplot_m4_2 = sm.qqplot(m4_2.resid, line = 's')\n",
    "plt.show()"
   ]
  },
  {
   "cell_type": "code",
   "execution_count": 131,
   "id": "e880b17b",
   "metadata": {},
   "outputs": [
    {
     "name": "stdout",
     "output_type": "stream",
     "text": [
      "                            OLS Regression Results                            \n",
      "==============================================================================\n",
      "Dep. Variable:                  Price   R-squared:                       0.833\n",
      "Model:                            OLS   Adj. R-squared:                  0.832\n",
      "Method:                 Least Squares   F-statistic:                     647.1\n",
      "Date:                Fri, 26 May 2023   Prob (F-statistic):               0.00\n",
      "Time:                        23:45:05   Log-Likelihood:                -7600.0\n",
      "No. Observations:                 917   AIC:                         1.522e+04\n",
      "Df Residuals:                     909   BIC:                         1.525e+04\n",
      "Df Model:                           7                                         \n",
      "Covariance Type:            nonrobust                                         \n",
      "========================================================================================\n",
      "                           coef    std err          t      P>|t|      [0.025      0.975]\n",
      "----------------------------------------------------------------------------------------\n",
      "Intercept            -8392.4088   1579.593     -5.313      0.000   -1.15e+04   -5292.335\n",
      "C(IfPetrol)[T.True]   1340.9144    168.974      7.936      0.000    1009.291    1672.538\n",
      "C(Automatic)[T.True]    88.7625    141.760      0.626      0.531    -189.452     366.977\n",
      "KM_scaled             -479.3000     50.087     -9.569      0.000    -577.600    -381.000\n",
      "KM_scaled_2            -57.4587     21.638     -2.655      0.008     -99.925     -14.993\n",
      "Age                   -104.7078      2.719    -38.507      0.000    -110.044     -99.371\n",
      "CC                      -0.6610      0.309     -2.137      0.033      -1.268      -0.054\n",
      "Weight                  22.9613      1.584     14.492      0.000      19.852      26.071\n",
      "==============================================================================\n",
      "Omnibus:                        2.983   Durbin-Watson:                   2.016\n",
      "Prob(Omnibus):                  0.225   Jarque-Bera (JB):                3.168\n",
      "Skew:                          -0.048   Prob(JB):                        0.205\n",
      "Kurtosis:                       3.272   Cond. No.                     9.36e+04\n",
      "==============================================================================\n",
      "\n",
      "Notes:\n",
      "[1] Standard Errors assume that the covariance matrix of the errors is correctly specified.\n",
      "[2] The condition number is large, 9.36e+04. This might indicate that there are\n",
      "strong multicollinearity or other numerical problems.\n"
     ]
    }
   ],
   "source": [
    "# Jarque-Bera Test (Skewness = 0 ?)\n",
    "  # H0: the data is normally distributed\n",
    "  # p-value < 0.05 reject normality assumption\n",
    "\n",
    "# Omnibus K-squared normality test\n",
    "  # H0: the data is normally distributed\n",
    "  # p-value < 0.05 reject normality assumption\n",
    "\n",
    "print(m4_2.summary())"
   ]
  },
  {
   "cell_type": "code",
   "execution_count": 132,
   "id": "80e00f6d",
   "metadata": {},
   "outputs": [
    {
     "data": {
      "image/png": "[encoded data removed]",
      "text/plain": [
       "<Figure size 432x288 with 1 Axes>"
      ]
     },
     "metadata": {
      "needs_background": "light"
     },
     "output_type": "display_data"
    }
   ],
   "source": [
    "sns.regplot(x = m4_2.fittedvalues, y = m4_2.resid, lowess = True,\n",
    "               scatter_kws = {'color': 'black'}, line_kws = {'color': 'red'})\n",
    "plt.xlabel('Fitted Values', fontsize = 12)\n",
    "plt.ylabel('Residuals', fontsize = 12)\n",
    "plt.title('Residuals vs. Fitted Values', fontsize = 12)\n",
    "plt.grid()"
   ]
  },
  {
   "cell_type": "markdown",
   "id": "351e3626",
   "metadata": {},
   "source": [
    "> Variance of residuals is almost constant\n",
    "\n",
    "Check Cook's Distance"
   ]
  },
  {
   "cell_type": "code",
   "execution_count": 133,
   "id": "1fa9ba4b",
   "metadata": {},
   "outputs": [
    {
     "data": {
      "text/plain": [
       "0"
      ]
     },
     "execution_count": 133,
     "metadata": {},
     "output_type": "execute_result"
    }
   ],
   "source": [
    "sum(m4_2.get_influence().summary_frame().cooks_d > 1)"
   ]
  },
  {
   "cell_type": "markdown",
   "id": "7630733a",
   "metadata": {},
   "source": [
    "> Regression Assumptions are confirmed -> we can consider to results of t-test\n",
    "\n",
    "> **Automatic** is not significant (based on t-test)"
   ]
  },
  {
   "cell_type": "code",
   "execution_count": 134,
   "id": "1fa8378e",
   "metadata": {},
   "outputs": [
    {
     "data": {
      "text/html": [
       "<table class=\"simpletable\">\n",
       "<caption>OLS Regression Results</caption>\n",
       "<tr>\n",
       "  <th>Dep. Variable:</th>          <td>Price</td>      <th>  R-squared:         </th> <td>   0.833</td> \n",
       "</tr>\n",
       "<tr>\n",
       "  <th>Model:</th>                   <td>OLS</td>       <th>  Adj. R-squared:    </th> <td>   0.832</td> \n",
       "</tr>\n",
       "<tr>\n",
       "  <th>Method:</th>             <td>Least Squares</td>  <th>  F-statistic:       </th> <td>   755.4</td> \n",
       "</tr>\n",
       "<tr>\n",
       "  <th>Date:</th>             <td>Fri, 26 May 2023</td> <th>  Prob (F-statistic):</th>  <td>  0.00</td>  \n",
       "</tr>\n",
       "<tr>\n",
       "  <th>Time:</th>                 <td>23:50:28</td>     <th>  Log-Likelihood:    </th> <td> -7600.2</td> \n",
       "</tr>\n",
       "<tr>\n",
       "  <th>No. Observations:</th>      <td>   917</td>      <th>  AIC:               </th> <td>1.521e+04</td>\n",
       "</tr>\n",
       "<tr>\n",
       "  <th>Df Residuals:</th>          <td>   910</td>      <th>  BIC:               </th> <td>1.525e+04</td>\n",
       "</tr>\n",
       "<tr>\n",
       "  <th>Df Model:</th>              <td>     6</td>      <th>                     </th>     <td> </td>    \n",
       "</tr>\n",
       "<tr>\n",
       "  <th>Covariance Type:</th>      <td>nonrobust</td>    <th>                     </th>     <td> </td>    \n",
       "</tr>\n",
       "</table>\n",
       "<table class=\"simpletable\">\n",
       "<tr>\n",
       "           <td></td>              <th>coef</th>     <th>std err</th>      <th>t</th>      <th>P>|t|</th>  <th>[0.025</th>    <th>0.975]</th>  \n",
       "</tr>\n",
       "<tr>\n",
       "  <th>Intercept</th>           <td>-8618.5593</td> <td> 1537.233</td> <td>   -5.607</td> <td> 0.000</td> <td>-1.16e+04</td> <td>-5601.625</td>\n",
       "</tr>\n",
       "<tr>\n",
       "  <th>C(IfPetrol)[T.True]</th> <td> 1344.7077</td> <td>  168.809</td> <td>    7.966</td> <td> 0.000</td> <td> 1013.408</td> <td> 1676.007</td>\n",
       "</tr>\n",
       "<tr>\n",
       "  <th>KM_scaled</th>           <td> -483.5758</td> <td>   49.603</td> <td>   -9.749</td> <td> 0.000</td> <td> -580.925</td> <td> -386.227</td>\n",
       "</tr>\n",
       "<tr>\n",
       "  <th>KM_scaled_2</th>         <td>  -56.5190</td> <td>   21.578</td> <td>   -2.619</td> <td> 0.009</td> <td>  -98.868</td> <td>  -14.170</td>\n",
       "</tr>\n",
       "<tr>\n",
       "  <th>Age</th>                 <td> -104.3504</td> <td>    2.658</td> <td>  -39.264</td> <td> 0.000</td> <td> -109.566</td> <td>  -99.135</td>\n",
       "</tr>\n",
       "<tr>\n",
       "  <th>CC</th>                  <td>   -0.6936</td> <td>    0.305</td> <td>   -2.276</td> <td> 0.023</td> <td>   -1.292</td> <td>   -0.095</td>\n",
       "</tr>\n",
       "<tr>\n",
       "  <th>Weight</th>              <td>   23.2024</td> <td>    1.536</td> <td>   15.102</td> <td> 0.000</td> <td>   20.187</td> <td>   26.218</td>\n",
       "</tr>\n",
       "</table>\n",
       "<table class=\"simpletable\">\n",
       "<tr>\n",
       "  <th>Omnibus:</th>       <td> 2.945</td> <th>  Durbin-Watson:     </th> <td>   2.016</td>\n",
       "</tr>\n",
       "<tr>\n",
       "  <th>Prob(Omnibus):</th> <td> 0.229</td> <th>  Jarque-Bera (JB):  </th> <td>   3.114</td>\n",
       "</tr>\n",
       "<tr>\n",
       "  <th>Skew:</th>          <td>-0.048</td> <th>  Prob(JB):          </th> <td>   0.211</td>\n",
       "</tr>\n",
       "<tr>\n",
       "  <th>Kurtosis:</th>      <td> 3.269</td> <th>  Cond. No.          </th> <td>9.11e+04</td>\n",
       "</tr>\n",
       "</table><br/><br/>Notes:<br/>[1] Standard Errors assume that the covariance matrix of the errors is correctly specified.<br/>[2] The condition number is large, 9.11e+04. This might indicate that there are<br/>strong multicollinearity or other numerical problems."
      ],
      "text/plain": [
       "<class 'statsmodels.iolib.summary.Summary'>\n",
       "\"\"\"\n",
       "                            OLS Regression Results                            \n",
       "==============================================================================\n",
       "Dep. Variable:                  Price   R-squared:                       0.833\n",
       "Model:                            OLS   Adj. R-squared:                  0.832\n",
       "Method:                 Least Squares   F-statistic:                     755.4\n",
       "Date:                Fri, 26 May 2023   Prob (F-statistic):               0.00\n",
       "Time:                        23:50:28   Log-Likelihood:                -7600.2\n",
       "No. Observations:                 917   AIC:                         1.521e+04\n",
       "Df Residuals:                     910   BIC:                         1.525e+04\n",
       "Df Model:                           6                                         \n",
       "Covariance Type:            nonrobust                                         \n",
       "=======================================================================================\n",
       "                          coef    std err          t      P>|t|      [0.025      0.975]\n",
       "---------------------------------------------------------------------------------------\n",
       "Intercept           -8618.5593   1537.233     -5.607      0.000   -1.16e+04   -5601.625\n",
       "C(IfPetrol)[T.True]  1344.7077    168.809      7.966      0.000    1013.408    1676.007\n",
       "KM_scaled            -483.5758     49.603     -9.749      0.000    -580.925    -386.227\n",
       "KM_scaled_2           -56.5190     21.578     -2.619      0.009     -98.868     -14.170\n",
       "Age                  -104.3504      2.658    -39.264      0.000    -109.566     -99.135\n",
       "CC                     -0.6936      0.305     -2.276      0.023      -1.292      -0.095\n",
       "Weight                 23.2024      1.536     15.102      0.000      20.187      26.218\n",
       "==============================================================================\n",
       "Omnibus:                        2.945   Durbin-Watson:                   2.016\n",
       "Prob(Omnibus):                  0.229   Jarque-Bera (JB):                3.114\n",
       "Skew:                          -0.048   Prob(JB):                        0.211\n",
       "Kurtosis:                       3.269   Cond. No.                     9.11e+04\n",
       "==============================================================================\n",
       "\n",
       "Notes:\n",
       "[1] Standard Errors assume that the covariance matrix of the errors is correctly specified.\n",
       "[2] The condition number is large, 9.11e+04. This might indicate that there are\n",
       "strong multicollinearity or other numerical problems.\n",
       "\"\"\""
      ]
     },
     "execution_count": 134,
     "metadata": {},
     "output_type": "execute_result"
    }
   ],
   "source": [
    "# Final Regression model: remove 'Automatic' variable\n",
    "m4_2 = smf.ols(formula = 'Price ~ KM_scaled + KM_scaled_2 + Age + C(IfPetrol) + CC + Weight',\n",
    "              data = train2).fit()\n",
    "\n",
    "m4_2.summary()"
   ]
  },
  {
   "cell_type": "code",
   "execution_count": 135,
   "id": "204741db",
   "metadata": {},
   "outputs": [
    {
     "data": {
      "text/plain": [
       "1.0787486515641855"
      ]
     },
     "execution_count": 135,
     "metadata": {},
     "output_type": "execute_result"
    }
   ],
   "source": [
    "(train.shape[0] - train2.shape[0]) / train.shape[0] * 100"
   ]
  },
  {
   "cell_type": "markdown",
   "id": "f3bf1baa",
   "metadata": {},
   "source": [
    "> Number of removed observations from train is less than 2%"
   ]
  },
  {
   "cell_type": "markdown",
   "id": "b1d77448",
   "metadata": {},
   "source": [
    "# Model Evaluation\n",
    "Test the Model"
   ]
  },
  {
   "cell_type": "code",
   "execution_count": 136,
   "id": "a3f55df7",
   "metadata": {},
   "outputs": [
    {
     "data": {
      "text/plain": [
       "Intercept             -8618.559294\n",
       "C(IfPetrol)[T.True]    1344.707695\n",
       "KM_scaled              -483.575817\n",
       "KM_scaled_2             -56.518991\n",
       "Age                    -104.350380\n",
       "CC                       -0.693640\n",
       "Weight                   23.202442\n",
       "dtype: float64"
      ]
     },
     "execution_count": 136,
     "metadata": {},
     "output_type": "execute_result"
    }
   ],
   "source": [
    "m4_2.params  # Coefficients of the model (Regression Coefficients)"
   ]
  },
  {
   "cell_type": "code",
   "execution_count": 137,
   "id": "f0294de6",
   "metadata": {},
   "outputs": [
    {
     "data": {
      "text/html": [
       "<div>\n",
       "<style scoped>\n",
       "    .dataframe tbody tr th:only-of-type {\n",
       "        vertical-align: middle;\n",
       "    }\n",
       "\n",
       "    .dataframe tbody tr th {\n",
       "        vertical-align: top;\n",
       "    }\n",
       "\n",
       "    .dataframe thead th {\n",
       "        text-align: right;\n",
       "    }\n",
       "</style>\n",
       "<table border=\"1\" class=\"dataframe\">\n",
       "  <thead>\n",
       "    <tr style=\"text-align: right;\">\n",
       "      <th></th>\n",
       "      <th>0</th>\n",
       "      <th>1</th>\n",
       "    </tr>\n",
       "  </thead>\n",
       "  <tbody>\n",
       "    <tr>\n",
       "      <th>Intercept</th>\n",
       "      <td>-11635.493510</td>\n",
       "      <td>-5601.625078</td>\n",
       "    </tr>\n",
       "    <tr>\n",
       "      <th>C(IfPetrol)[T.True]</th>\n",
       "      <td>1013.408383</td>\n",
       "      <td>1676.007007</td>\n",
       "    </tr>\n",
       "    <tr>\n",
       "      <th>KM_scaled</th>\n",
       "      <td>-580.925035</td>\n",
       "      <td>-386.226598</td>\n",
       "    </tr>\n",
       "    <tr>\n",
       "      <th>KM_scaled_2</th>\n",
       "      <td>-98.868326</td>\n",
       "      <td>-14.169657</td>\n",
       "    </tr>\n",
       "    <tr>\n",
       "      <th>Age</th>\n",
       "      <td>-109.566253</td>\n",
       "      <td>-99.134506</td>\n",
       "    </tr>\n",
       "    <tr>\n",
       "      <th>CC</th>\n",
       "      <td>-1.291805</td>\n",
       "      <td>-0.095475</td>\n",
       "    </tr>\n",
       "    <tr>\n",
       "      <th>Weight</th>\n",
       "      <td>20.187120</td>\n",
       "      <td>26.217764</td>\n",
       "    </tr>\n",
       "  </tbody>\n",
       "</table>\n",
       "</div>"
      ],
      "text/plain": [
       "                                0            1\n",
       "Intercept           -11635.493510 -5601.625078\n",
       "C(IfPetrol)[T.True]   1013.408383  1676.007007\n",
       "KM_scaled             -580.925035  -386.226598\n",
       "KM_scaled_2            -98.868326   -14.169657\n",
       "Age                   -109.566253   -99.134506\n",
       "CC                      -1.291805    -0.095475\n",
       "Weight                  20.187120    26.217764"
      ]
     },
     "execution_count": 137,
     "metadata": {},
     "output_type": "execute_result"
    }
   ],
   "source": [
    "m4_2.conf_int(alpha = 0.05)  # Confidence Intervals for model parameters"
   ]
  },
  {
   "cell_type": "markdown",
   "id": "dae32a2e",
   "metadata": {},
   "source": [
    "Data Preparation (test data)"
   ]
  },
  {
   "cell_type": "code",
   "execution_count": 139,
   "id": "399723ec",
   "metadata": {},
   "outputs": [
    {
     "data": {
      "text/html": [
       "<div>\n",
       "<style scoped>\n",
       "    .dataframe tbody tr th:only-of-type {\n",
       "        vertical-align: middle;\n",
       "    }\n",
       "\n",
       "    .dataframe tbody tr th {\n",
       "        vertical-align: top;\n",
       "    }\n",
       "\n",
       "    .dataframe thead th {\n",
       "        text-align: right;\n",
       "    }\n",
       "</style>\n",
       "<table border=\"1\" class=\"dataframe\">\n",
       "  <thead>\n",
       "    <tr style=\"text-align: right;\">\n",
       "      <th></th>\n",
       "      <th>Price</th>\n",
       "      <th>Age</th>\n",
       "      <th>KM</th>\n",
       "      <th>FuelType</th>\n",
       "      <th>HP</th>\n",
       "      <th>MetColor</th>\n",
       "      <th>Automatic</th>\n",
       "      <th>CC</th>\n",
       "      <th>Doors</th>\n",
       "      <th>Weight</th>\n",
       "      <th>KM_scaled</th>\n",
       "      <th>KM_scaled_2</th>\n",
       "      <th>IfPetrol</th>\n",
       "    </tr>\n",
       "  </thead>\n",
       "  <tbody>\n",
       "    <tr>\n",
       "      <th>1032</th>\n",
       "      <td>8950</td>\n",
       "      <td>75</td>\n",
       "      <td>102005</td>\n",
       "      <td>Petrol</td>\n",
       "      <td>107</td>\n",
       "      <td>True</td>\n",
       "      <td>True</td>\n",
       "      <td>1600</td>\n",
       "      <td>5</td>\n",
       "      <td>1105</td>\n",
       "      <td>0.886314</td>\n",
       "      <td>0.785552</td>\n",
       "      <td>True</td>\n",
       "    </tr>\n",
       "    <tr>\n",
       "      <th>260</th>\n",
       "      <td>10250</td>\n",
       "      <td>39</td>\n",
       "      <td>18500</td>\n",
       "      <td>Petrol</td>\n",
       "      <td>110</td>\n",
       "      <td>False</td>\n",
       "      <td>False</td>\n",
       "      <td>1600</td>\n",
       "      <td>4</td>\n",
       "      <td>1030</td>\n",
       "      <td>-1.546510</td>\n",
       "      <td>2.391693</td>\n",
       "      <td>True</td>\n",
       "    </tr>\n",
       "    <tr>\n",
       "      <th>758</th>\n",
       "      <td>10450</td>\n",
       "      <td>61</td>\n",
       "      <td>63000</td>\n",
       "      <td>Petrol</td>\n",
       "      <td>86</td>\n",
       "      <td>False</td>\n",
       "      <td>True</td>\n",
       "      <td>1300</td>\n",
       "      <td>3</td>\n",
       "      <td>1050</td>\n",
       "      <td>-0.250053</td>\n",
       "      <td>0.062526</td>\n",
       "      <td>True</td>\n",
       "    </tr>\n",
       "    <tr>\n",
       "      <th>1313</th>\n",
       "      <td>7750</td>\n",
       "      <td>73</td>\n",
       "      <td>34717</td>\n",
       "      <td>Petrol</td>\n",
       "      <td>86</td>\n",
       "      <td>False</td>\n",
       "      <td>False</td>\n",
       "      <td>1300</td>\n",
       "      <td>3</td>\n",
       "      <td>1015</td>\n",
       "      <td>-1.074046</td>\n",
       "      <td>1.153575</td>\n",
       "      <td>True</td>\n",
       "    </tr>\n",
       "    <tr>\n",
       "      <th>739</th>\n",
       "      <td>8100</td>\n",
       "      <td>68</td>\n",
       "      <td>65400</td>\n",
       "      <td>Petrol</td>\n",
       "      <td>86</td>\n",
       "      <td>True</td>\n",
       "      <td>False</td>\n",
       "      <td>1300</td>\n",
       "      <td>4</td>\n",
       "      <td>1000</td>\n",
       "      <td>-0.180132</td>\n",
       "      <td>0.032447</td>\n",
       "      <td>True</td>\n",
       "    </tr>\n",
       "  </tbody>\n",
       "</table>\n",
       "</div>"
      ],
      "text/plain": [
       "      Price  Age      KM FuelType   HP  MetColor  Automatic    CC Doors  \\\n",
       "1032   8950   75  102005   Petrol  107      True       True  1600     5   \n",
       "260   10250   39   18500   Petrol  110     False      False  1600     4   \n",
       "758   10450   61   63000   Petrol   86     False       True  1300     3   \n",
       "1313   7750   73   34717   Petrol   86     False      False  1300     3   \n",
       "739    8100   68   65400   Petrol   86      True      False  1300     4   \n",
       "\n",
       "      Weight  KM_scaled  KM_scaled_2 IfPetrol  \n",
       "1032    1105   0.886314     0.785552     True  \n",
       "260     1030  -1.546510     2.391693     True  \n",
       "758     1050  -0.250053     0.062526     True  \n",
       "1313    1015  -1.074046     1.153575     True  \n",
       "739     1000  -0.180132     0.032447     True  "
      ]
     },
     "execution_count": 139,
     "metadata": {},
     "output_type": "execute_result"
    }
   ],
   "source": [
    "test['KM_scaled'] = (test['KM'] - test['KM'].mean()) / test['KM'].std()\n",
    "test['KM_scaled_2'] = test['KM_scaled'] ** 2\n",
    "test.loc[test['FuelType'] == 'Petrol', 'IfPetrol'] = True\n",
    "test.loc[test['FuelType'] != 'Petrol', 'IfPetrol'] = False\n",
    "test.head()"
   ]
  },
  {
   "cell_type": "markdown",
   "id": "d504feee",
   "metadata": {},
   "source": [
    "Prediction on test"
   ]
  },
  {
   "cell_type": "code",
   "execution_count": 140,
   "id": "c537e77c",
   "metadata": {},
   "outputs": [
    {
     "data": {
      "text/plain": [
       "1032     8955.746069\n",
       "260     12057.853894\n",
       "758      9938.993175\n",
       "1313     8211.501399\n",
       "739      8016.306198\n",
       "            ...     \n",
       "738     10370.688183\n",
       "104     13603.484504\n",
       "1047     9524.193832\n",
       "523      9314.434772\n",
       "1199     8455.689058\n",
       "Length: 398, dtype: float64"
      ]
     },
     "execution_count": 140,
     "metadata": {},
     "output_type": "execute_result"
    }
   ],
   "source": [
    "test_pred = m4_2.predict(test)\n",
    "test_pred  # prediction of 'Price' for each observation"
   ]
  },
  {
   "cell_type": "markdown",
   "id": "1428a3f4",
   "metadata": {},
   "source": [
    "Actual vs. Prediction"
   ]
  },
  {
   "cell_type": "code",
   "execution_count": 141,
   "id": "bb8545a4",
   "metadata": {},
   "outputs": [
    {
     "data": {
      "text/plain": [
       "[<matplotlib.lines.Line2D at 0x2a7576d5810>]"
      ]
     },
     "execution_count": 141,
     "metadata": {},
     "output_type": "execute_result"
    },
    {
     "data": {
      "image/png": "[encoded data removed]",
      "text/plain": [
       "<Figure size 432x288 with 1 Axes>"
      ]
     },
     "metadata": {
      "needs_background": "light"
     },
     "output_type": "display_data"
    }
   ],
   "source": [
    "plt.scatter(x = test['Price'], y = test_pred)\n",
    "plt.xlabel('Actual')\n",
    "plt.ylabel('Prediction')\n",
    "plt.title('Actual vs. Prediction')\n",
    "\n",
    "# add 45' line\n",
    "xp = np.linspace(test['Price'].min(), test['Price'].max(), 100)\n",
    "plt.plot(xp, xp, alpha = 0.9, linewidth = 2, color = 'red')"
   ]
  },
  {
   "cell_type": "markdown",
   "id": "9c6aa70c",
   "metadata": {},
   "source": [
    "Absolute Error mean, median, sd, max, min"
   ]
  },
  {
   "cell_type": "code",
   "execution_count": 142,
   "id": "e9bffe31",
   "metadata": {},
   "outputs": [
    {
     "data": {
      "text/plain": [
       "count      398.000000\n",
       "mean       861.403610\n",
       "std        835.352934\n",
       "min          0.313401\n",
       "25%        313.785573\n",
       "50%        718.251227\n",
       "75%       1219.720766\n",
       "max      10158.911104\n",
       "dtype: float64"
      ]
     },
     "execution_count": 142,
     "metadata": {},
     "output_type": "execute_result"
    }
   ],
   "source": [
    "abs_error = abs(test['Price'] - test_pred)\n",
    "abs_error.describe()"
   ]
  },
  {
   "cell_type": "code",
   "execution_count": 145,
   "id": "71341cae",
   "metadata": {},
   "outputs": [
    {
     "data": {
      "text/plain": [
       "(array([272., 108.,  12.,   3.,   1.,   1.,   0.,   0.,   0.,   1.]),\n",
       " array([3.13401105e-01, 1.01617317e+03, 2.03203294e+03, 3.04789271e+03,\n",
       "        4.06375248e+03, 5.07961225e+03, 6.09547202e+03, 7.11133179e+03,\n",
       "        8.12719156e+03, 9.14305133e+03, 1.01589111e+04]),\n",
       " <BarContainer object of 10 artists>)"
      ]
     },
     "execution_count": 145,
     "metadata": {},
     "output_type": "execute_result"
    },
    {
     "data": {
      "image/png": "[encoded data removed]",
      "text/plain": [
       "<Figure size 432x288 with 1 Axes>"
      ]
     },
     "metadata": {
      "needs_background": "light"
     },
     "output_type": "display_data"
    }
   ],
   "source": [
    "plt.hist(abs_error)"
   ]
  },
  {
   "cell_type": "code",
   "execution_count": 146,
   "id": "a112dd5e",
   "metadata": {},
   "outputs": [
    {
     "data": {
      "text/plain": [
       "<Axes: >"
      ]
     },
     "execution_count": 146,
     "metadata": {},
     "output_type": "execute_result"
    },
    {
     "data": {
      "image/png": "[encoded data removed]",
      "text/plain": [
       "<Figure size 432x288 with 1 Axes>"
      ]
     },
     "metadata": {
      "needs_background": "light"
     },
     "output_type": "display_data"
    }
   ],
   "source": [
    "sns.boxplot(y = abs_error)"
   ]
  },
  {
   "cell_type": "markdown",
   "id": "20e2936b",
   "metadata": {},
   "source": [
    "Absolute Error Percentage median, sd, mean, max, min"
   ]
  },
  {
   "cell_type": "code",
   "execution_count": 147,
   "id": "e8bc9914",
   "metadata": {},
   "outputs": [
    {
     "data": {
      "text/plain": [
       "count    398.000000\n",
       "mean       9.297312\n",
       "std       11.043552\n",
       "min        0.000000\n",
       "25%        3.192500\n",
       "50%        6.920000\n",
       "75%       12.597500\n",
       "max      123.290000\n",
       "dtype: float64"
      ]
     },
     "execution_count": 147,
     "metadata": {},
     "output_type": "execute_result"
    }
   ],
   "source": [
    "e_percent = round(abs(test['Price'] - test_pred) / test['Price'] * 100, 2)\n",
    "e_percent.describe()"
   ]
  },
  {
   "cell_type": "markdown",
   "id": "1a3655a9",
   "metadata": {},
   "source": [
    "> **75%** of predictions have less than **12.59%** Absolute Error"
   ]
  },
  {
   "cell_type": "code",
   "execution_count": 148,
   "id": "6124bcfc",
   "metadata": {},
   "outputs": [
    {
     "data": {
      "text/plain": [
       "83.91959798994975"
      ]
     },
     "execution_count": 148,
     "metadata": {},
     "output_type": "execute_result"
    }
   ],
   "source": [
    "sum(e_percent <= 15) / len(e_percent) * 100"
   ]
  },
  {
   "cell_type": "markdown",
   "id": "f26dc855",
   "metadata": {},
   "source": [
    "> **84%** of our predictions have less than **15%** Absolute Error"
   ]
  }
 ],
 "metadata": {
  "kernelspec": {
   "display_name": "Python 3 (ipykernel)",
   "language": "python",
   "name": "python3"
  },
  "language_info": {
   "codemirror_mode": {
    "name": "ipython",
    "version": 3
   },
   "file_extension": ".py",
   "mimetype": "text/x-python",
   "name": "python",
   "nbconvert_exporter": "python",
   "pygments_lexer": "ipython3",
   "version": "3.10.5"
  }
 },
 "nbformat": 4,
 "nbformat_minor": 5
}
